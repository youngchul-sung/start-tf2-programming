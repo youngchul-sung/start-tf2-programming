{
  "nbformat": 4,
  "nbformat_minor": 0,
  "metadata": {
    "colab": {
      "name": "Chapter4",
      "provenance": [],
      "authorship_tag": "ABX9TyOsnni5W6dEQO859DnBlOWE",
      "include_colab_link": true
    },
    "kernelspec": {
      "name": "python3",
      "display_name": "Python 3"
    },
    "accelerator": "GPU"
  },
  "cells": [
    {
      "cell_type": "markdown",
      "metadata": {
        "id": "view-in-github",
        "colab_type": "text"
      },
      "source": [
        "<a href=\"https://colab.research.google.com/github/youngchul-sung/start-tf2-programming/blob/master/Chapter4.ipynb\" target=\"_parent\"><img src=\"https://colab.research.google.com/assets/colab-badge.svg\" alt=\"Open In Colab\"/></a>"
      ]
    },
    {
      "cell_type": "code",
      "metadata": {
        "id": "NeQ_AF53mOrV",
        "colab_type": "code",
        "outputId": "26191a0a-6101-4d46-cf20-0c5f5cd3b2ae",
        "colab": {
          "base_uri": "https://localhost:8080/",
          "height": 53
        }
      },
      "source": [
        "%tensorflow_version 2.x\n",
        "import tensorflow as tf\n",
        "\n",
        "print(tf.__version__)"
      ],
      "execution_count": 1,
      "outputs": [
        {
          "output_type": "stream",
          "text": [
            "TensorFlow 2.x selected.\n",
            "2.1.0\n"
          ],
          "name": "stdout"
        }
      ]
    },
    {
      "cell_type": "code",
      "metadata": {
        "id": "r1dw85L_wXI5",
        "colab_type": "code",
        "outputId": "e82d9ce8-3c93-4841-c719-21cc1e1c0aa3",
        "colab": {
          "base_uri": "https://localhost:8080/",
          "height": 279
        }
      },
      "source": [
        "# 4.2 지역별 인구증가율과 고령인구비율 시각화: 극단치 제거\n",
        "import matplotlib.pyplot as plt\n",
        "population_inc = [0.3, -0.78, 1.26, 0.03, 1.11, 15.17, 0.24, -0.24, -0.47, -0.77, -0.37, -0.85, -0.41, -0.27, 0.02, -0.76, 2.66]\n",
        "population_old = [12.27, 14.44, 11.87, 18.75, 17.52, 9.29, 16.37, 19.78, 19.51, 12.65, 14.74, 10.72, 21.94, 12.83, 15.51, 17.14, 14.42]\n",
        "\n",
        "plt.plot(population_inc, population_old, 'bo')\n",
        "plt.xlabel('Population Growth Rate (%)')\n",
        "plt.ylabel('Elderly Population Rate (%)')\n",
        "plt.show()"
      ],
      "execution_count": 2,
      "outputs": [
        {
          "output_type": "display_data",
          "data": {
            "image/png": "[encoded data removed]",
            "text/plain": [
              "<Figure size 432x288 with 1 Axes>"
            ]
          },
          "metadata": {
            "tags": []
          }
        }
      ]
    },
    {
      "cell_type": "code",
      "metadata": {
        "id": "tTKlgClIyR7h",
        "colab_type": "code",
        "outputId": "312951ac-6a37-4367-bf82-a474d66ef1cd",
        "colab": {
          "base_uri": "https://localhost:8080/",
          "height": 297
        }
      },
      "source": [
        "# 4.3 최소제곱법으로 회귀선 구하기\n",
        "import numpy as np\n",
        "import matplotlib.pyplot as plt\n",
        "X = [0.3, -0.78, 1.26, 0.03, 1.11, 0.24, -0.24, -0.47, -0.77, -0.37, -0.85, -0.41, -0.27, 0.02, -0.76, 2.66]\n",
        "Y = [12.27, 14.44, 11.87, 18.75, 17.52, 16.37, 19.78, 19.51, 12.65, 14.74, 10.72, 21.94, 12.83, 15.51, 17.14, 14.42]\n",
        "\n",
        "# X, Y의 평균을 구합니다.\n",
        "x_bar = sum(X) / len(X)\n",
        "y_bar = sum(Y) / len(Y)\n",
        "\n",
        "# 최소제곱법으로 a, b를 구합니다.\n",
        "a = sum([(y - y_bar) * (x - x_bar) for y, x in list(zip(Y, X))])\n",
        "a /= sum([(x - x_bar) ** 2 for x in X])\n",
        "b = y_bar - a * x_bar\n",
        "print('a:', a, 'b:', b)\n",
        "\n",
        "# 그래프를 그리기 위해 회귀선의 x, y 데이터를 구합니다.\n",
        "line_x = np.arange(min(X), max(X), 0.01)\n",
        "line_y = a * line_x + b\n",
        "\n",
        "# 붉은색 실선으로 회귀선을 그립니다.\n",
        "plt.plot(line_x,line_y,'r-')\n",
        "\n",
        "plt.plot(X,Y,'bo')\n",
        "plt.xlabel('Population Growth Rate (%)')\n",
        "plt.ylabel('Elderly Population Rate (%)')\n",
        "plt.show()"
      ],
      "execution_count": 3,
      "outputs": [
        {
          "output_type": "stream",
          "text": [
            "a: -0.355834147915461 b: 15.669317743971302\n"
          ],
          "name": "stdout"
        },
        {
          "output_type": "display_data",
          "data": {
            "image/png": "[encoded data removed]",
            "text/plain": [
              "<Figure size 432x288 with 1 Axes>"
            ]
          },
          "metadata": {
            "tags": []
          }
        }
      ]
    },
    {
      "cell_type": "code",
      "metadata": {
        "id": "-yycetUP3qmm",
        "colab_type": "code",
        "colab": {
          "base_uri": "https://localhost:8080/",
          "height": 459
        },
        "outputId": "b11eaa5e-0954-4b21-91df-f20a281dab70"
      },
      "source": [
        "# 4.4 텐서플로를 이용해서 회귀선 구하기\n",
        "import tensorflow as tf\n",
        "import numpy as np\n",
        "import matplotlib.pyplot as plt\n",
        "import random\n",
        "X = [0.3, -0.78, 1.26, 0.03, 1.11, 0.24, -0.24, -0.47, -0.77, -0.37, -0.85, -0.41, -0.27, 0.02, -0.76, 2.66]\n",
        "Y = [12.27, 14.44, 11.87, 18.75, 17.52, 16.37, 19.78, 19.51, 12.65, 14.74, 10.72, 21.94, 12.83, 15.51, 17.14, 14.42]\n",
        "\n",
        "# a와 b를 랜덤한 값으로 초기화합니다.\n",
        "a = tf.Variable(random.random())\n",
        "b = tf.Variable(random.random())\n",
        "\n",
        "# 잔차의 제곱의 평균을 반환하는 함수입니다.\n",
        "def compute_loss():\n",
        "    y_pred = a * X + b\n",
        "    loss = tf.reduce_mean((Y - y_pred) ** 2)\n",
        "    return loss\n",
        "\n",
        "optimizer = tf.keras.optimizers.Adam(lr=0.07)\n",
        "for i in range(1000):\n",
        "    # 잔차의 제곱의 평균을 최소화(minimize)합니다.\n",
        "    optimizer.minimize(compute_loss, var_list=[a,b])\n",
        "    \n",
        "    if i % 100 == 99:\n",
        "        print(i, 'a:', a.numpy(), 'b:', b.numpy(), 'loss:', compute_loss().numpy())\n",
        "\n",
        "line_x = np.arange(min(X), max(X), 0.01)\n",
        "line_y = a * line_x + b\n",
        "\n",
        "# 그래프를 그립니다.\n",
        "plt.plot(line_x,line_y,'r-')\n",
        "plt.plot(X,Y,'bo')\n",
        "plt.xlabel('Population Growth Rate (%)')\n",
        "plt.ylabel('Elderly Population Rate (%)')\n",
        "plt.show()"
      ],
      "execution_count": 4,
      "outputs": [
        {
          "output_type": "stream",
          "text": [
            "99 a: 0.1214687 b: 6.7000523 loss: 90.041916\n",
            "199 a: -0.11686525 b: 11.189758 loss: 29.80071\n",
            "299 a: -0.2563473 b: 13.804216 loss: 13.251338\n",
            "399 a: -0.32178876 b: 15.031049 loss: 10.187246\n",
            "499 a: -0.3463052 b: 15.490677 loss: 9.812641\n",
            "599 a: -0.35366228 b: 15.628601 loss: 9.782457\n",
            "699 a: -0.35543397 b: 15.661817 loss: 9.78086\n",
            "799 a: -0.35577542 b: 15.668216 loss: 9.780804\n",
            "899 a: -0.3558272 b: 15.669189 loss: 9.780803\n",
            "999 a: -0.3558332 b: 15.669302 loss: 9.780804\n"
          ],
          "name": "stdout"
        },
        {
          "output_type": "display_data",
          "data": {
            "image/png": "[encoded data removed]",
            "text/plain": [
              "<Figure size 432x288 with 1 Axes>"
            ]
          },
          "metadata": {
            "tags": []
          }
        }
      ]
    },
    {
      "cell_type": "code",
      "metadata": {
        "id": "VZs1Uv46UlDv",
        "colab_type": "code",
        "colab": {
          "base_uri": "https://localhost:8080/",
          "height": 459
        },
        "outputId": "fd73dc00-bec4-47ef-f6a5-1285a96b7d09"
      },
      "source": [
        "# 4.5 텐서플로우를 이용해서 2차 함수 회귀선 구하기\n",
        "import tensorflow as tf\n",
        "import numpy as np\n",
        "import matplotlib.pyplot as plt\n",
        "import random\n",
        "X = [0.3, -0.78, 1.26, 0.03, 1.11, 0.24, -0.24, -0.47, -0.77, -0.37, -0.85, -0.41, -0.27, 0.02, -0.76, 2.66]\n",
        "Y = [12.27, 14.44, 11.87, 18.75, 17.52, 16.37, 19.78, 19.51, 12.65, 14.74, 10.72, 21.94, 12.83, 15.51, 17.14, 14.42]\n",
        "\n",
        "# a, b, c를 랜덤한 값으로 초기화합니다.\n",
        "a = tf.Variable(random.random())\n",
        "b = tf.Variable(random.random())\n",
        "c = tf.Variable(random.random())\n",
        "\n",
        "# 잔차의 제곱의 평균을 반환하는 함수입니다.\n",
        "def compute_loss():\n",
        "    y_pred = a * X*X + b * X + c\n",
        "    loss = tf.reduce_mean((Y - y_pred) ** 2)\n",
        "    return loss\n",
        "\n",
        "optimizer = tf.keras.optimizers.Adam(lr=0.07)\n",
        "for i in range(1000):\n",
        "    # 잔차의 제곱의 평균을 최소화(minimize)합니다.\n",
        "    optimizer.minimize(compute_loss, var_list=[a,b,c])\n",
        "    \n",
        "    if i % 100 == 99:\n",
        "        print(i, 'a:', a.numpy(), 'b:', b.numpy(), 'c:', c.numpy(), 'loss:', compute_loss().numpy())\n",
        "\n",
        "line_x = np.arange(min(X), max(X), 0.01)\n",
        "line_y = a * line_x * line_x + b * line_x + c\n",
        "\n",
        "# 그래프를 그립니다.\n",
        "plt.plot(line_x,line_y,'r-')\n",
        "plt.plot(X,Y,'bo')\n",
        "plt.xlabel('Population Growth Rate (%)')\n",
        "plt.ylabel('Elderly Population Rate (%)')\n",
        "plt.show()"
      ],
      "execution_count": 5,
      "outputs": [
        {
          "output_type": "stream",
          "text": [
            "99 a: 4.1712537 b: -6.009313 c: 6.065159 loss: 73.58349\n",
            "199 a: 2.96716 b: -4.854957 c: 9.975639 loss: 34.021923\n",
            "299 a: 1.4086512 b: -2.512044 c: 12.698416 loss: 17.048214\n",
            "399 a: 0.4043426 b: -0.99064654 c: 14.42696 loss: 11.290621\n",
            "499 a: -0.143764 b: -0.16082017 c: 15.372449 loss: 9.802361\n",
            "599 a: -0.40321755 b: 0.2319447 c: 15.820211 loss: 9.507047\n",
            "699 a: -0.5100864 b: 0.39372098 c: 16.00466 loss: 9.461927\n",
            "799 a: -0.54844654 b: 0.4517904 c: 16.070868 loss: 9.456623\n",
            "899 a: -0.5604367 b: 0.46994033 c: 16.09156 loss: 9.456144\n",
            "999 a: -0.5636894 b: 0.47486365 c: 16.097176 loss: 9.456112\n"
          ],
          "name": "stdout"
        },
        {
          "output_type": "display_data",
          "data": {
            "image/png": "[encoded data removed]",
            "text/plain": [
              "<Figure size 432x288 with 1 Axes>"
            ]
          },
          "metadata": {
            "tags": []
          }
        }
      ]
    },
    {
      "cell_type": "code",
      "metadata": {
        "id": "BmxSN7NTbmi1",
        "colab_type": "code",
        "colab": {
          "base_uri": "https://localhost:8080/",
          "height": 459
        },
        "outputId": "cc901afc-b798-4da4-8934-984e62b408b1"
      },
      "source": [
        "# 4.6 텐서플로우를 이용해서 3차 함수 회귀선 구하기\n",
        "import tensorflow as tf\n",
        "import numpy as np\n",
        "import matplotlib.pyplot as plt\n",
        "import random\n",
        "X = [0.3, -0.78, 1.26, 0.03, 1.11, 0.24, -0.24, -0.47, -0.77, -0.37, -0.85, -0.41, -0.27, 0.02, -0.76, 2.66]\n",
        "Y = [12.27, 14.44, 11.87, 18.75, 17.52, 16.37, 19.78, 19.51, 12.65, 14.74, 10.72, 21.94, 12.83, 15.51, 17.14, 14.42]\n",
        "\n",
        "# a, b, c, d를 랜덤한 값으로 초기화합니다.\n",
        "a = tf.Variable(random.random())\n",
        "b = tf.Variable(random.random())\n",
        "c = tf.Variable(random.random())\n",
        "d = tf.Variable(random.random())\n",
        "\n",
        "# 잔차의 제곱의 평균을 반환하는 함수입니다.\n",
        "def compute_loss():\n",
        "    y_pred = a * X*X*X + b * X*X + c * X + d\n",
        "    loss = tf.reduce_mean((Y - y_pred) ** 2)\n",
        "    return loss\n",
        "\n",
        "optimizer = tf.keras.optimizers.Adam(lr=0.07)\n",
        "for i in range(1000):\n",
        "    # 잔차의 제곱의 평균을 최소화(minimize)합니다.\n",
        "    optimizer.minimize(compute_loss, var_list=[a,b,c,d])\n",
        "    \n",
        "    if i % 100 == 99:\n",
        "        print(i, 'a:', a.numpy(), 'b:', b.numpy(), 'c:', c.numpy(), 'd:', d.numpy(), 'loss:', compute_loss().numpy())\n",
        "\n",
        "line_x = np.arange(min(X), max(X), 0.01)\n",
        "line_y = a * line_x * line_x * line_x + b * line_x * line_x + c * line_x + d\n",
        "\n",
        "# 그래프를 그립니다.\n",
        "plt.plot(line_x,line_y,'r-')\n",
        "plt.plot(X,Y,'bo')\n",
        "plt.xlabel('Population Growth Rate (%)')\n",
        "plt.ylabel('Elderly Population Rate (%)')\n",
        "plt.show()"
      ],
      "execution_count": 6,
      "outputs": [
        {
          "output_type": "stream",
          "text": [
            "99 a: -1.3325264 b: 6.2772202 c: -3.8635201 d: 6.4152875 loss: 61.810238\n",
            "199 a: -2.087615 b: 7.0491824 c: -2.1608624 d: 9.939677 loss: 30.793447\n",
            "299 a: -1.7019173 b: 5.201183 c: -0.9098279 d: 12.096888 loss: 20.159164\n",
            "399 a: -0.9261363 b: 2.7943654 c: -0.57666266 d: 13.6176195 loss: 14.2049885\n",
            "499 a: -0.20407926 b: 0.682609 c: -0.4834282 d: 14.764641 loss: 10.864313\n",
            "599 a: 0.3537938 b: -0.9324082 c: -0.43892533 d: 15.614913 loss: 9.192045\n",
            "699 a: 0.74885875 b: -2.074091 c: -0.41066065 d: 16.212387 loss: 8.447697\n",
            "799 a: 1.0105741 b: -2.8301165 c: -0.39239484 d: 16.607454 loss: 8.152557\n",
            "899 a: 1.1734246 b: -3.3004944 c: -0.38111213 d: 16.853142 loss: 8.048287\n",
            "999 a: 1.2686887 b: -3.575646 c: -0.37452623 d: 16.99684 loss: 8.015495\n"
          ],
          "name": "stdout"
        },
        {
          "output_type": "display_data",
          "data": {
            "image/png": "[encoded data removed]",
            "text/plain": [
              "<Figure size 432x288 with 1 Axes>"
            ]
          },
          "metadata": {
            "tags": []
          }
        }
      ]
    },
    {
      "cell_type": "code",
      "metadata": {
        "id": "io4X9tAscg2d",
        "colab_type": "code",
        "colab": {
          "base_uri": "https://localhost:8080/",
          "height": 233
        },
        "outputId": "09984a3a-2439-4586-8730-1c8e4a1646f7"
      },
      "source": [
        "# 4.7 딥러닝 네트워크를 이용한 회귀\n",
        "import tensorflow as tf\n",
        "import numpy as np\n",
        "\n",
        "X = [0.3, -0.78, 1.26, 0.03, 1.11, 0.24, -0.24, -0.47, -0.77, -0.37, -0.85, -0.41, -0.27, 0.02, -0.76, 2.66]\n",
        "Y = [12.27, 14.44, 11.87, 18.75, 17.52, 16.37, 19.78, 19.51, 12.65, 14.74, 10.72, 21.94, 12.83, 15.51, 17.14, 14.42]\n",
        "\n",
        "model = tf.keras.Sequential([\n",
        "    tf.keras.layers.Dense(units=6, activation='tanh', input_shape=(1,)),\n",
        "    tf.keras.layers.Dense(units=1)\n",
        "])\n",
        "\n",
        "model.compile(optimizer=tf.keras.optimizers.SGD(lr=0.1), loss='mse')\n",
        "\n",
        "model.summary()"
      ],
      "execution_count": 7,
      "outputs": [
        {
          "output_type": "stream",
          "text": [
            "Model: \"sequential\"\n",
            "_________________________________________________________________\n",
            "Layer (type)                 Output Shape              Param #   \n",
            "=================================================================\n",
            "dense (Dense)                (None, 6)                 12        \n",
            "_________________________________________________________________\n",
            "dense_1 (Dense)              (None, 1)                 7         \n",
            "=================================================================\n",
            "Total params: 19\n",
            "Trainable params: 19\n",
            "Non-trainable params: 0\n",
            "_________________________________________________________________\n"
          ],
          "name": "stdout"
        }
      ]
    },
    {
      "cell_type": "code",
      "metadata": {
        "id": "Kai1xhMphX-b",
        "colab_type": "code",
        "colab": {
          "base_uri": "https://localhost:8080/",
          "height": 413
        },
        "outputId": "f1ada63f-ed7e-4a7d-9460-7478a1b2b16f"
      },
      "source": [
        "# 4.8 딥러닝 네트워크의 학습\n",
        "model.fit(X, Y, epochs=10)"
      ],
      "execution_count": 8,
      "outputs": [
        {
          "output_type": "stream",
          "text": [
            "Train on 16 samples\n",
            "Epoch 1/10\n",
            "16/16 [==============================] - 0s 25ms/sample - loss: 254.5483\n",
            "Epoch 2/10\n",
            "16/16 [==============================] - 0s 493us/sample - loss: 112.3543\n",
            "Epoch 3/10\n",
            "16/16 [==============================] - 0s 423us/sample - loss: 9.5825\n",
            "Epoch 4/10\n",
            "16/16 [==============================] - 0s 399us/sample - loss: 9.5065\n",
            "Epoch 5/10\n",
            "16/16 [==============================] - 0s 376us/sample - loss: 9.4867\n",
            "Epoch 6/10\n",
            "16/16 [==============================] - 0s 323us/sample - loss: 9.4696\n",
            "Epoch 7/10\n",
            "16/16 [==============================] - 0s 440us/sample - loss: 9.4532\n",
            "Epoch 8/10\n",
            "16/16 [==============================] - 0s 396us/sample - loss: 9.4370\n",
            "Epoch 9/10\n",
            "16/16 [==============================] - 0s 410us/sample - loss: 9.4209\n",
            "Epoch 10/10\n",
            "16/16 [==============================] - 0s 317us/sample - loss: 9.4046\n"
          ],
          "name": "stdout"
        },
        {
          "output_type": "execute_result",
          "data": {
            "text/plain": [
              "<tensorflow.python.keras.callbacks.History at 0x7f2c70361080>"
            ]
          },
          "metadata": {
            "tags": []
          },
          "execution_count": 8
        }
      ]
    },
    {
      "cell_type": "code",
      "metadata": {
        "id": "FuaWmOK8iXV4",
        "colab_type": "code",
        "colab": {
          "base_uri": "https://localhost:8080/",
          "height": 305
        },
        "outputId": "7fdbf2ba-6b96-4e3c-d4cf-71b2063ecac4"
      },
      "source": [
        "# 4.9 딥러닝 네트워크의 Y값 예측\n",
        "model.predict(X)"
      ],
      "execution_count": 9,
      "outputs": [
        {
          "output_type": "execute_result",
          "data": {
            "text/plain": [
              "array([[15.881166 ],\n",
              "       [15.79022  ],\n",
              "       [14.867735 ],\n",
              "       [15.971195 ],\n",
              "       [15.0520935],\n",
              "       [15.910326 ],\n",
              "       [15.967937 ],\n",
              "       [15.911821 ],\n",
              "       [15.794643 ],\n",
              "       [15.940979 ],\n",
              "       [15.75869  ],\n",
              "       [15.930098 ],\n",
              "       [15.962959 ],\n",
              "       [15.9725895],\n",
              "       [15.799044 ],\n",
              "       [13.980076 ]], dtype=float32)"
            ]
          },
          "metadata": {
            "tags": []
          },
          "execution_count": 9
        }
      ]
    },
    {
      "cell_type": "code",
      "metadata": {
        "id": "semGmvcfigJg",
        "colab_type": "code",
        "colab": {
          "base_uri": "https://localhost:8080/",
          "height": 279
        },
        "outputId": "690782d0-e2e4-4708-eec0-eb803135dd2e"
      },
      "source": [
        "# 4.10 딥러닝 네트워크의 회귀선 확인\n",
        "import matplotlib.pyplot as plt\n",
        "\n",
        "line_x = np.arange(min(X), max(X), 0.01)\n",
        "line_y = model.predict(line_x)\n",
        "\n",
        "plt.plot(line_x,line_y,'r-')\n",
        "plt.plot(X,Y,'bo')\n",
        "plt.xlabel('Population Growth Rate (%)')\n",
        "plt.ylabel('Elderly Population Rate (%)')\n",
        "plt.show()"
      ],
      "execution_count": 10,
      "outputs": [
        {
          "output_type": "display_data",
          "data": {
            "image/png": "[encoded data removed]",
            "text/plain": [
              "<Figure size 432x288 with 1 Axes>"
            ]
          },
          "metadata": {
            "tags": []
          }
        }
      ]
    },
    {
      "cell_type": "code",
      "metadata": {
        "id": "8bxCfwSzkKeT",
        "colab_type": "code",
        "colab": {
          "base_uri": "https://localhost:8080/",
          "height": 265
        },
        "outputId": "fbe07aa9-ed7f-40f0-c7a9-3e5dfaa9feb8"
      },
      "source": [
        "# 그림 4.2 출력 코드\n",
        "import math\n",
        "def sigmoid(x):\n",
        "    return 1 / (1 + math.exp(-x))\n",
        "\n",
        "x = np.arange(-5, 5, 0.01)\n",
        "sigmoid_x = [sigmoid(z) for z in x]\n",
        "tanh_x = [math.tanh(z) for z in x]\n",
        "\n",
        "plt.axhline(0, color='gray')\n",
        "plt.axvline(0, color='gray')\n",
        "plt.plot(x, sigmoid_x, 'b-', label='sigmoid')\n",
        "plt.plot(x, tanh_x, 'r--', label='tanh')\n",
        "plt.legend()\n",
        "plt.show()"
      ],
      "execution_count": 11,
      "outputs": [
        {
          "output_type": "display_data",
          "data": {
            "image/png": "[encoded data removed]",
            "text/plain": [
              "<Figure size 432x288 with 1 Axes>"
            ]
          },
          "metadata": {
            "tags": []
          }
        }
      ]
    },
    {
      "cell_type": "code",
      "metadata": {
        "id": "4wnUfK40lToh",
        "colab_type": "code",
        "colab": {
          "base_uri": "https://localhost:8080/",
          "height": 89
        },
        "outputId": "1a1daf25-ec8f-4cc0-a8e4-6e73b7f4e7c2"
      },
      "source": [
        "# 4.11 데이터 불러오기\n",
        "from tensorflow.keras.datasets import boston_housing\n",
        "(train_X, train_Y), (test_X, test_Y) = boston_housing.load_data()\n",
        "\n",
        "print(len(train_X), len(test_X))\n",
        "print(train_X[0])\n",
        "print(train_Y[0])"
      ],
      "execution_count": 12,
      "outputs": [
        {
          "output_type": "stream",
          "text": [
            "404 102\n",
            "[  1.23247   0.        8.14      0.        0.538     6.142    91.7\n",
            "   3.9769    4.      307.       21.      396.9      18.72   ]\n",
            "15.2\n"
          ],
          "name": "stdout"
        }
      ]
    },
    {
      "cell_type": "code",
      "metadata": {
        "id": "WfvSUTSblW2o",
        "colab_type": "code",
        "colab": {
          "base_uri": "https://localhost:8080/",
          "height": 89
        },
        "outputId": "76031c8b-266a-4248-85a8-fa50c4fffda0"
      },
      "source": [
        "# 4.12 데이터 전처리(정규화)\n",
        "x_mean = train_X.mean()\n",
        "x_std = train_X.std()\n",
        "train_X -= x_mean\n",
        "train_X /= x_std\n",
        "test_X -= x_mean\n",
        "test_X /= x_std\n",
        "\n",
        "y_mean = train_Y.mean()\n",
        "y_std = train_Y.std()\n",
        "train_Y -= y_mean\n",
        "train_Y /= y_std\n",
        "test_Y -= y_mean\n",
        "test_Y /= y_std\n",
        "\n",
        "print(train_X[0])\n",
        "print(train_Y[0])"
      ],
      "execution_count": 13,
      "outputs": [
        {
          "output_type": "stream",
          "text": [
            "[-0.47482083 -0.48335641 -0.42698208 -0.48335641 -0.47963044 -0.44081941\n",
            "  0.15172056 -0.45581402 -0.45565404  1.64280094 -0.33791894  2.26541184\n",
            " -0.35370929]\n",
            "-0.7821526033779157\n"
          ],
          "name": "stdout"
        }
      ]
    },
    {
      "cell_type": "code",
      "metadata": {
        "id": "9JAz6YGQl6lI",
        "colab_type": "code",
        "colab": {
          "base_uri": "https://localhost:8080/",
          "height": 305
        },
        "outputId": "9447ee2f-4b9d-44fa-986b-6128d941957d"
      },
      "source": [
        "# 4.13 Boston Housing Dataset 회귀 모델 생성\n",
        "model = tf.keras.Sequential([\n",
        "    tf.keras.layers.Dense(units=52, activation='relu', input_shape=(13,)),\n",
        "    tf.keras.layers.Dense(units=39, activation='relu'),\n",
        "    tf.keras.layers.Dense(units=26, activation='relu'),\n",
        "    tf.keras.layers.Dense(units=1)\n",
        "])\n",
        "\n",
        "model.compile(optimizer=tf.keras.optimizers.Adam(lr=0.07), loss='mse')\n",
        "\n",
        "model.summary()"
      ],
      "execution_count": 14,
      "outputs": [
        {
          "output_type": "stream",
          "text": [
            "Model: \"sequential_1\"\n",
            "_________________________________________________________________\n",
            "Layer (type)                 Output Shape              Param #   \n",
            "=================================================================\n",
            "dense_2 (Dense)              (None, 52)                728       \n",
            "_________________________________________________________________\n",
            "dense_3 (Dense)              (None, 39)                2067      \n",
            "_________________________________________________________________\n",
            "dense_4 (Dense)              (None, 26)                1040      \n",
            "_________________________________________________________________\n",
            "dense_5 (Dense)              (None, 1)                 27        \n",
            "=================================================================\n",
            "Total params: 3,862\n",
            "Trainable params: 3,862\n",
            "Non-trainable params: 0\n",
            "_________________________________________________________________\n"
          ],
          "name": "stdout"
        }
      ]
    },
    {
      "cell_type": "code",
      "metadata": {
        "id": "dy5HmtYZmLWD",
        "colab_type": "code",
        "colab": {
          "base_uri": "https://localhost:8080/",
          "height": 265
        },
        "outputId": "84c08c70-8813-4a32-af33-70c55b47f2d1"
      },
      "source": [
        "# 그림 4.5 출력 코드\n",
        "import math\n",
        "def sigmoid(x):\n",
        "    return 1 / (1 + math.exp(-x))\n",
        "\n",
        "x = np.arange(-5, 5, 0.01)\n",
        "sigmoid_x = [sigmoid(z) for z in x]\n",
        "tanh_x = [math.tanh(z) for z in x]\n",
        "relu = [0 if z < 0 else z for z in x]\n",
        "\n",
        "plt.axhline(0, color='gray')\n",
        "plt.axvline(0, color='gray')\n",
        "plt.plot(x, sigmoid_x, 'b-', label='sigmoid')\n",
        "plt.plot(x, tanh_x, 'r--', label='tanh')\n",
        "plt.plot(x, relu, 'g.', label='relu')\n",
        "plt.legend()\n",
        "plt.show()"
      ],
      "execution_count": 15,
      "outputs": [
        {
          "output_type": "display_data",
          "data": {
            "image/png": "[encoded data removed]",
            "text/plain": [
              "<Figure size 432x288 with 1 Axes>"
            ]
          },
          "metadata": {
            "tags": []
          }
        }
      ]
    },
    {
      "cell_type": "code",
      "metadata": {
        "id": "XkgR0PTOmYYg",
        "colab_type": "code",
        "colab": {
          "base_uri": "https://localhost:8080/",
          "height": 935
        },
        "outputId": "9d7962c1-af21-4bd6-de35-a33d112432ee"
      },
      "source": [
        "# 4.14 회귀 모델 학습\n",
        "history = model.fit(train_X, train_Y, epochs=25, batch_size=32, validation_split=0.25)"
      ],
      "execution_count": 16,
      "outputs": [
        {
          "output_type": "stream",
          "text": [
            "Train on 303 samples, validate on 101 samples\n",
            "Epoch 1/25\n",
            "303/303 [==============================] - 0s 1ms/sample - loss: 2.1922 - val_loss: 1.5428\n",
            "Epoch 2/25\n",
            "303/303 [==============================] - 0s 128us/sample - loss: 0.7583 - val_loss: 1.1111\n",
            "Epoch 3/25\n",
            "303/303 [==============================] - 0s 115us/sample - loss: 0.7803 - val_loss: 1.0319\n",
            "Epoch 4/25\n",
            "303/303 [==============================] - 0s 118us/sample - loss: 0.7200 - val_loss: 1.0515\n",
            "Epoch 5/25\n",
            "303/303 [==============================] - 0s 103us/sample - loss: 0.6478 - val_loss: 1.0518\n",
            "Epoch 6/25\n",
            "303/303 [==============================] - 0s 136us/sample - loss: 0.6420 - val_loss: 1.0996\n",
            "Epoch 7/25\n",
            "303/303 [==============================] - 0s 143us/sample - loss: 0.6545 - val_loss: 1.0250\n",
            "Epoch 8/25\n",
            "303/303 [==============================] - 0s 138us/sample - loss: 0.6458 - val_loss: 1.1492\n",
            "Epoch 9/25\n",
            "303/303 [==============================] - 0s 152us/sample - loss: 0.6994 - val_loss: 1.0063\n",
            "Epoch 10/25\n",
            "303/303 [==============================] - 0s 127us/sample - loss: 0.6063 - val_loss: 1.0113\n",
            "Epoch 11/25\n",
            "303/303 [==============================] - 0s 123us/sample - loss: 0.6231 - val_loss: 1.0376\n",
            "Epoch 12/25\n",
            "303/303 [==============================] - 0s 118us/sample - loss: 0.6019 - val_loss: 1.0685\n",
            "Epoch 13/25\n",
            "303/303 [==============================] - 0s 136us/sample - loss: 0.6369 - val_loss: 0.9828\n",
            "Epoch 14/25\n",
            "303/303 [==============================] - 0s 115us/sample - loss: 0.6052 - val_loss: 0.9543\n",
            "Epoch 15/25\n",
            "303/303 [==============================] - 0s 116us/sample - loss: 0.5958 - val_loss: 1.0110\n",
            "Epoch 16/25\n",
            "303/303 [==============================] - 0s 118us/sample - loss: 0.6219 - val_loss: 1.0470\n",
            "Epoch 17/25\n",
            "303/303 [==============================] - 0s 128us/sample - loss: 0.5866 - val_loss: 1.0512\n",
            "Epoch 18/25\n",
            "303/303 [==============================] - 0s 116us/sample - loss: 0.6194 - val_loss: 1.0995\n",
            "Epoch 19/25\n",
            "303/303 [==============================] - 0s 119us/sample - loss: 0.6237 - val_loss: 1.0043\n",
            "Epoch 20/25\n",
            "303/303 [==============================] - 0s 120us/sample - loss: 0.5896 - val_loss: 1.0512\n",
            "Epoch 21/25\n",
            "303/303 [==============================] - 0s 120us/sample - loss: 0.6258 - val_loss: 1.0193\n",
            "Epoch 22/25\n",
            "303/303 [==============================] - 0s 117us/sample - loss: 0.6474 - val_loss: 0.9797\n",
            "Epoch 23/25\n",
            "303/303 [==============================] - 0s 107us/sample - loss: 0.6127 - val_loss: 0.9747\n",
            "Epoch 24/25\n",
            "303/303 [==============================] - 0s 137us/sample - loss: 0.5862 - val_loss: 1.0614\n",
            "Epoch 25/25\n",
            "303/303 [==============================] - 0s 119us/sample - loss: 0.5886 - val_loss: 0.9434\n"
          ],
          "name": "stdout"
        }
      ]
    },
    {
      "cell_type": "code",
      "metadata": {
        "id": "S2ZBZs0LmnLP",
        "colab_type": "code",
        "colab": {
          "base_uri": "https://localhost:8080/",
          "height": 279
        },
        "outputId": "e23116c8-9482-44a4-b8b2-6ad0ce568372"
      },
      "source": [
        "# 4.15 회귀 모델 학습 결과 시각화\n",
        "import matplotlib.pyplot as plt\n",
        "plt.plot(history.history['loss'], 'b-', label='loss')\n",
        "plt.plot(history.history['val_loss'], 'r--', label='val_loss')\n",
        "plt.xlabel('Epoch')\n",
        "plt.legend()\n",
        "plt.show()"
      ],
      "execution_count": 17,
      "outputs": [
        {
          "output_type": "display_data",
          "data": {
            "image/png": "[encoded data removed]",
            "text/plain": [
              "<Figure size 432x288 with 1 Axes>"
            ]
          },
          "metadata": {
            "tags": []
          }
        }
      ]
    },
    {
      "cell_type": "code",
      "metadata": {
        "id": "1Dmwi4cOmz3R",
        "colab_type": "code",
        "colab": {
          "base_uri": "https://localhost:8080/",
          "height": 53
        },
        "outputId": "8b06a6a2-e2be-491f-9bb6-125f49c494a4"
      },
      "source": [
        "# 4.16 회귀 모델 평가\n",
        "model.evaluate(test_X, test_Y)"
      ],
      "execution_count": 18,
      "outputs": [
        {
          "output_type": "stream",
          "text": [
            "102/102 [==============================] - 0s 105us/sample - loss: 0.7130\n"
          ],
          "name": "stdout"
        },
        {
          "output_type": "execute_result",
          "data": {
            "text/plain": [
              "0.7129562508826163"
            ]
          },
          "metadata": {
            "tags": []
          },
          "execution_count": 18
        }
      ]
    },
    {
      "cell_type": "code",
      "metadata": {
        "id": "63IjB79anNlo",
        "colab_type": "code",
        "colab": {
          "base_uri": "https://localhost:8080/",
          "height": 339
        },
        "outputId": "278f5d2b-3300-498a-a0a5-0aa6c997dc31"
      },
      "source": [
        "# 4.17 실제 주택 가격과 예측 주택 가격 시각화\n",
        "import matplotlib.pyplot as plt\n",
        "\n",
        "pred_Y = model.predict(test_X)\n",
        "\n",
        "plt.figure(figsize=(5,5))\n",
        "plt.plot(test_Y, pred_Y, 'b.')\n",
        "plt.axis([min(test_Y), max(test_Y), min(test_Y), max(test_Y)])\n",
        "\n",
        "# y=x에 해당하는 대각선\n",
        "plt.plot([min(test_Y), max(test_Y)], [min(test_Y), max(test_Y)], ls=\"--\", c=\".3\")\n",
        "plt.xlabel('test_Y')\n",
        "plt.ylabel('pred_Y')\n",
        "\n",
        "plt.show()"
      ],
      "execution_count": 19,
      "outputs": [
        {
          "output_type": "display_data",
          "data": {
            "image/png": "[encoded data removed]",
            "text/plain": [
              "<Figure size 360x360 with 1 Axes>"
            ]
          },
          "metadata": {
            "tags": []
          }
        }
      ]
    },
    {
      "cell_type": "code",
      "metadata": {
        "id": "zbZNwHAKne2w",
        "colab_type": "code",
        "colab": {
          "base_uri": "https://localhost:8080/",
          "height": 935
        },
        "outputId": "886ccd35-102f-46c7-8685-9edef8259ac6"
      },
      "source": [
        "# 4.18 모델 재정의 및 학습\n",
        "model = tf.keras.Sequential([\n",
        "    tf.keras.layers.Dense(units=52, activation='relu', input_shape=(13,)),\n",
        "    tf.keras.layers.Dense(units=39, activation='relu'),\n",
        "    tf.keras.layers.Dense(units=26, activation='relu'),\n",
        "    tf.keras.layers.Dense(units=1)\n",
        "])\n",
        "\n",
        "model.compile(optimizer=tf.keras.optimizers.Adam(lr=0.07), loss='mse')\n",
        "\n",
        "history = model.fit(train_X, train_Y, epochs=25, batch_size=32, validation_split=0.25, callbacks=[tf.keras.callbacks.EarlyStopping(patience=10, monitor='val_loss')])"
      ],
      "execution_count": 20,
      "outputs": [
        {
          "output_type": "stream",
          "text": [
            "Train on 303 samples, validate on 101 samples\n",
            "Epoch 1/25\n",
            "303/303 [==============================] - 0s 1ms/sample - loss: 1.0960 - val_loss: 1.0862\n",
            "Epoch 2/25\n",
            "303/303 [==============================] - 0s 128us/sample - loss: 0.7093 - val_loss: 1.1640\n",
            "Epoch 3/25\n",
            "303/303 [==============================] - 0s 118us/sample - loss: 0.6805 - val_loss: 1.0870\n",
            "Epoch 4/25\n",
            "303/303 [==============================] - 0s 115us/sample - loss: 0.6774 - val_loss: 1.0166\n",
            "Epoch 5/25\n",
            "303/303 [==============================] - 0s 121us/sample - loss: 0.6454 - val_loss: 1.0437\n",
            "Epoch 6/25\n",
            "303/303 [==============================] - 0s 120us/sample - loss: 0.6685 - val_loss: 1.0998\n",
            "Epoch 7/25\n",
            "303/303 [==============================] - 0s 117us/sample - loss: 0.6316 - val_loss: 1.0717\n",
            "Epoch 8/25\n",
            "303/303 [==============================] - 0s 126us/sample - loss: 0.6419 - val_loss: 1.0661\n",
            "Epoch 9/25\n",
            "303/303 [==============================] - 0s 122us/sample - loss: 0.6117 - val_loss: 1.1021\n",
            "Epoch 10/25\n",
            "303/303 [==============================] - 0s 135us/sample - loss: 0.5907 - val_loss: 0.9909\n",
            "Epoch 11/25\n",
            "303/303 [==============================] - 0s 141us/sample - loss: 0.5876 - val_loss: 1.0450\n",
            "Epoch 12/25\n",
            "303/303 [==============================] - 0s 146us/sample - loss: 0.6528 - val_loss: 0.9678\n",
            "Epoch 13/25\n",
            "303/303 [==============================] - 0s 152us/sample - loss: 0.6370 - val_loss: 0.9346\n",
            "Epoch 14/25\n",
            "303/303 [==============================] - 0s 126us/sample - loss: 0.8559 - val_loss: 1.2392\n",
            "Epoch 15/25\n",
            "303/303 [==============================] - 0s 119us/sample - loss: 0.7264 - val_loss: 1.0027\n",
            "Epoch 16/25\n",
            "303/303 [==============================] - 0s 118us/sample - loss: 0.6505 - val_loss: 1.0655\n",
            "Epoch 17/25\n",
            "303/303 [==============================] - 0s 131us/sample - loss: 0.5897 - val_loss: 1.2747\n",
            "Epoch 18/25\n",
            "303/303 [==============================] - 0s 120us/sample - loss: 0.6881 - val_loss: 1.0655\n",
            "Epoch 19/25\n",
            "303/303 [==============================] - 0s 125us/sample - loss: 0.5788 - val_loss: 1.0017\n",
            "Epoch 20/25\n",
            "303/303 [==============================] - 0s 123us/sample - loss: 0.5655 - val_loss: 0.9948\n",
            "Epoch 21/25\n",
            "303/303 [==============================] - 0s 123us/sample - loss: 0.5803 - val_loss: 0.9266\n",
            "Epoch 22/25\n",
            "303/303 [==============================] - 0s 110us/sample - loss: 0.5939 - val_loss: 0.9049\n",
            "Epoch 23/25\n",
            "303/303 [==============================] - 0s 119us/sample - loss: 0.5973 - val_loss: 0.9111\n",
            "Epoch 24/25\n",
            "303/303 [==============================] - 0s 121us/sample - loss: 0.5666 - val_loss: 0.9602\n",
            "Epoch 25/25\n",
            "303/303 [==============================] - 0s 118us/sample - loss: 0.5458 - val_loss: 0.9406\n"
          ],
          "name": "stdout"
        }
      ]
    },
    {
      "cell_type": "code",
      "metadata": {
        "id": "8dpPVevboG7-",
        "colab_type": "code",
        "colab": {
          "base_uri": "https://localhost:8080/",
          "height": 280
        },
        "outputId": "219ee0af-8965-41da-a137-eebd9fbb665e"
      },
      "source": [
        "# 4.19 회귀 모델 학습 결과 시각화\n",
        "import matplotlib.pyplot as plt\n",
        "plt.plot(history.history['loss'], 'b-', label='loss')\n",
        "plt.plot(history.history['val_loss'], 'r--', label='val_loss')\n",
        "plt.xlabel('Epoch')\n",
        "plt.legend()\n",
        "plt.show()"
      ],
      "execution_count": 21,
      "outputs": [
        {
          "output_type": "display_data",
          "data": {
            "image/png": "[encoded data removed]",
            "text/plain": [
              "<Figure size 432x288 with 1 Axes>"
            ]
          },
          "metadata": {
            "tags": []
          }
        }
      ]
    },
    {
      "cell_type": "code",
      "metadata": {
        "id": "UxXfURgWoJ7Q",
        "colab_type": "code",
        "colab": {
          "base_uri": "https://localhost:8080/",
          "height": 53
        },
        "outputId": "e1e82063-2940-4f70-c32f-303ff9091020"
      },
      "source": [
        "# 4.20 회귀 모델 평가\n",
        "model.evaluate(test_X, test_Y)"
      ],
      "execution_count": 22,
      "outputs": [
        {
          "output_type": "stream",
          "text": [
            "102/102 [==============================] - 0s 94us/sample - loss: 0.6753\n"
          ],
          "name": "stdout"
        },
        {
          "output_type": "execute_result",
          "data": {
            "text/plain": [
              "0.6753455190097585"
            ]
          },
          "metadata": {
            "tags": []
          },
          "execution_count": 22
        }
      ]
    },
    {
      "cell_type": "code",
      "metadata": {
        "id": "kIBUlUg_oZkw",
        "colab_type": "code",
        "colab": {
          "base_uri": "https://localhost:8080/",
          "height": 339
        },
        "outputId": "84100512-c699-4149-a7bd-3b2538e51255"
      },
      "source": [
        "# 4.21 실제 주택 가격과 예측 주택 가격 시각화\n",
        "import matplotlib.pyplot as plt\n",
        "\n",
        "pred_Y = model.predict(test_X)\n",
        "\n",
        "plt.figure(figsize=(5,5))\n",
        "plt.plot(test_Y, pred_Y, 'b.')\n",
        "plt.axis([min(test_Y), max(test_Y), min(test_Y), max(test_Y)])\n",
        "\n",
        "plt.plot([min(test_Y), max(test_Y)], [min(test_Y), max(test_Y)], ls=\"--\", c=\".3\")\n",
        "plt.xlabel('test_Y')\n",
        "plt.ylabel('pred_Y')\n",
        "\n",
        "plt.show()"
      ],
      "execution_count": 23,
      "outputs": [
        {
          "output_type": "display_data",
          "data": {
            "image/png": "[encoded data removed]",
            "text/plain": [
              "<Figure size 360x360 with 1 Axes>"
            ]
          },
          "metadata": {
            "tags": []
          }
        }
      ]
    }
  ]
}