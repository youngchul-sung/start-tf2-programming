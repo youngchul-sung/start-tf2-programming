{
  "nbformat": 4,
  "nbformat_minor": 0,
  "metadata": {
    "colab": {
      "name": "Chapter5",
      "provenance": [],
      "collapsed_sections": [],
      "authorship_tag": "ABX9TyOhwz0rNxTnr3Kq2sh/8kWd",
      "include_colab_link": true
    },
    "kernelspec": {
      "name": "python3",
      "display_name": "Python 3"
    },
    "accelerator": "GPU"
  },
  "cells": [
    {
      "cell_type": "markdown",
      "metadata": {
        "id": "view-in-github",
        "colab_type": "text"
      },
      "source": [
        "<a href=\"https://colab.research.google.com/github/youngchul-sung/start-tf2-programming/blob/master/Chapter5.ipynb\" target=\"_parent\"><img src=\"https://colab.research.google.com/assets/colab-badge.svg\" alt=\"Open In Colab\"/></a>"
      ]
    },
    {
      "cell_type": "code",
      "metadata": {
        "id": "1MqQpL-yOQUG",
        "colab_type": "code",
        "outputId": "f993e4b4-742f-4ba0-c50a-f0ce63e4002b",
        "colab": {
          "base_uri": "https://localhost:8080/",
          "height": 53
        }
      },
      "source": [
        "%tensorflow_version 2.x\n",
        "import tensorflow as tf\n",
        "\n",
        "print(tf.__version__)"
      ],
      "execution_count": 1,
      "outputs": [
        {
          "output_type": "stream",
          "text": [
            "TensorFlow 2.x selected.\n",
            "2.1.0\n"
          ],
          "name": "stdout"
        }
      ]
    },
    {
      "cell_type": "code",
      "metadata": {
        "id": "AgaQMjlwVwHR",
        "colab_type": "code",
        "outputId": "d488871e-9c1f-4788-cde9-a02d3f0d1fef",
        "colab": {
          "base_uri": "https://localhost:8080/",
          "height": 305
        }
      },
      "source": [
        "# 5.1 와인 데이터셋 불러오기\n",
        "import pandas as pd\n",
        "red = pd.read_csv('http://archive.ics.uci.edu/ml/machine-learning-databases/wine-quality/winequality-red.csv', sep=';')\n",
        "white = pd.read_csv('http://archive.ics.uci.edu/ml/machine-learning-databases/wine-quality/winequality-white.csv', sep=';')\n",
        "print(red.head())\n",
        "print(white.head())"
      ],
      "execution_count": 2,
      "outputs": [
        {
          "output_type": "stream",
          "text": [
            "   fixed acidity  volatile acidity  citric acid  ...  sulphates  alcohol  quality\n",
            "0            7.4              0.70         0.00  ...       0.56      9.4        5\n",
            "1            7.8              0.88         0.00  ...       0.68      9.8        5\n",
            "2            7.8              0.76         0.04  ...       0.65      9.8        5\n",
            "3           11.2              0.28         0.56  ...       0.58      9.8        6\n",
            "4            7.4              0.70         0.00  ...       0.56      9.4        5\n",
            "\n",
            "[5 rows x 12 columns]\n",
            "   fixed acidity  volatile acidity  citric acid  ...  sulphates  alcohol  quality\n",
            "0            7.0              0.27         0.36  ...       0.45      8.8        6\n",
            "1            6.3              0.30         0.34  ...       0.49      9.5        6\n",
            "2            8.1              0.28         0.40  ...       0.44     10.1        6\n",
            "3            7.2              0.23         0.32  ...       0.40      9.9        6\n",
            "4            7.2              0.23         0.32  ...       0.40      9.9        6\n",
            "\n",
            "[5 rows x 12 columns]\n"
          ],
          "name": "stdout"
        }
      ]
    },
    {
      "cell_type": "code",
      "metadata": {
        "id": "mtGX6gpIbYAg",
        "colab_type": "code",
        "outputId": "5b034e1a-d40c-4fe4-cdba-4bf1850e4038",
        "colab": {
          "base_uri": "https://localhost:8080/",
          "height": 395
        }
      },
      "source": [
        "# 5.2 와인 데이터셋 합치기\n",
        "red['type'] = 0\n",
        "white['type'] = 1\n",
        "print(red.head(2))\n",
        "print(white.head(2))\n",
        "\n",
        "wine = pd.concat([red, white])\n",
        "print(wine.describe())"
      ],
      "execution_count": 3,
      "outputs": [
        {
          "output_type": "stream",
          "text": [
            "   fixed acidity  volatile acidity  citric acid  ...  alcohol  quality  type\n",
            "0            7.4              0.70          0.0  ...      9.4        5     0\n",
            "1            7.8              0.88          0.0  ...      9.8        5     0\n",
            "\n",
            "[2 rows x 13 columns]\n",
            "   fixed acidity  volatile acidity  citric acid  ...  alcohol  quality  type\n",
            "0            7.0              0.27         0.36  ...      8.8        6     1\n",
            "1            6.3              0.30         0.34  ...      9.5        6     1\n",
            "\n",
            "[2 rows x 13 columns]\n",
            "       fixed acidity  volatile acidity  ...      quality         type\n",
            "count    6497.000000       6497.000000  ...  6497.000000  6497.000000\n",
            "mean        7.215307          0.339666  ...     5.818378     0.753886\n",
            "std         1.296434          0.164636  ...     0.873255     0.430779\n",
            "min         3.800000          0.080000  ...     3.000000     0.000000\n",
            "25%         6.400000          0.230000  ...     5.000000     1.000000\n",
            "50%         7.000000          0.290000  ...     6.000000     1.000000\n",
            "75%         7.700000          0.400000  ...     6.000000     1.000000\n",
            "max        15.900000          1.580000  ...     9.000000     1.000000\n",
            "\n",
            "[8 rows x 13 columns]\n"
          ],
          "name": "stdout"
        }
      ]
    },
    {
      "cell_type": "code",
      "metadata": {
        "id": "hgKGBeCMdjQB",
        "colab_type": "code",
        "outputId": "3565a533-e539-4a39-c81b-bc759c115b39",
        "colab": {
          "base_uri": "https://localhost:8080/",
          "height": 319
        }
      },
      "source": [
        "# 5.3 레드 와인과 화이트 와인 type 히스토그램\n",
        "import matplotlib.pyplot as plt\n",
        "plt.hist(wine['type'])\n",
        "plt.xticks([0, 1])\n",
        "plt.show()\n",
        "\n",
        "print(wine['type'].value_counts())"
      ],
      "execution_count": 4,
      "outputs": [
        {
          "output_type": "display_data",
          "data": {
            "image/png": "[encoded data removed]",
            "text/plain": [
              "<Figure size 432x288 with 1 Axes>"
            ]
          },
          "metadata": {
            "tags": []
          }
        },
        {
          "output_type": "stream",
          "text": [
            "1    4898\n",
            "0    1599\n",
            "Name: type, dtype: int64\n"
          ],
          "name": "stdout"
        }
      ]
    },
    {
      "cell_type": "code",
      "metadata": {
        "id": "IQhZ0ukddugo",
        "colab_type": "code",
        "outputId": "a75088bb-ebee-4be1-f1ba-2327a21b84ed",
        "colab": {
          "base_uri": "https://localhost:8080/",
          "height": 359
        }
      },
      "source": [
        "# 5.4 데이터 요약 정보 확인\n",
        "print(wine.info())"
      ],
      "execution_count": 5,
      "outputs": [
        {
          "output_type": "stream",
          "text": [
            "<class 'pandas.core.frame.DataFrame'>\n",
            "Int64Index: 6497 entries, 0 to 4897\n",
            "Data columns (total 13 columns):\n",
            "fixed acidity           6497 non-null float64\n",
            "volatile acidity        6497 non-null float64\n",
            "citric acid             6497 non-null float64\n",
            "residual sugar          6497 non-null float64\n",
            "chlorides               6497 non-null float64\n",
            "free sulfur dioxide     6497 non-null float64\n",
            "total sulfur dioxide    6497 non-null float64\n",
            "density                 6497 non-null float64\n",
            "pH                      6497 non-null float64\n",
            "sulphates               6497 non-null float64\n",
            "alcohol                 6497 non-null float64\n",
            "quality                 6497 non-null int64\n",
            "type                    6497 non-null int64\n",
            "dtypes: float64(11), int64(2)\n",
            "memory usage: 710.6 KB\n",
            "None\n"
          ],
          "name": "stdout"
        }
      ]
    },
    {
      "cell_type": "code",
      "metadata": {
        "id": "sE0N90b8eemw",
        "colab_type": "code",
        "outputId": "3e9bc2e5-070d-4fe9-e4a2-3dd2481860d6",
        "colab": {
          "base_uri": "https://localhost:8080/",
          "height": 359
        }
      },
      "source": [
        "# 5.5 데이터 정규화\n",
        "wine_norm = (wine - wine.min()) / (wine.max() - wine.min())\n",
        "print(wine_norm.head())\n",
        "print(wine_norm.describe())"
      ],
      "execution_count": 6,
      "outputs": [
        {
          "output_type": "stream",
          "text": [
            "   fixed acidity  volatile acidity  citric acid  ...   alcohol   quality  type\n",
            "0       0.297521          0.413333     0.000000  ...  0.202899  0.333333   0.0\n",
            "1       0.330579          0.533333     0.000000  ...  0.260870  0.333333   0.0\n",
            "2       0.330579          0.453333     0.024096  ...  0.260870  0.333333   0.0\n",
            "3       0.611570          0.133333     0.337349  ...  0.260870  0.500000   0.0\n",
            "4       0.297521          0.413333     0.000000  ...  0.202899  0.333333   0.0\n",
            "\n",
            "[5 rows x 13 columns]\n",
            "       fixed acidity  volatile acidity  ...      quality         type\n",
            "count    6497.000000       6497.000000  ...  6497.000000  6497.000000\n",
            "mean        0.282257          0.173111  ...     0.469730     0.753886\n",
            "std         0.107143          0.109758  ...     0.145543     0.430779\n",
            "min         0.000000          0.000000  ...     0.000000     0.000000\n",
            "25%         0.214876          0.100000  ...     0.333333     1.000000\n",
            "50%         0.264463          0.140000  ...     0.500000     1.000000\n",
            "75%         0.322314          0.213333  ...     0.500000     1.000000\n",
            "max         1.000000          1.000000  ...     1.000000     1.000000\n",
            "\n",
            "[8 rows x 13 columns]\n"
          ],
          "name": "stdout"
        }
      ]
    },
    {
      "cell_type": "code",
      "metadata": {
        "id": "yLoTwLJrhRUJ",
        "colab_type": "code",
        "outputId": "f19a123e-e9cd-4fa5-cbee-c4c2e2c6025e",
        "colab": {
          "base_uri": "https://localhost:8080/",
          "height": 431
        }
      },
      "source": [
        "# 5.6 데이터 섞은 후 numpy array로 변환\n",
        "import numpy as np\n",
        "wine_shuffle = wine_norm.sample(frac=1)\n",
        "print(wine_shuffle.head())\n",
        "wine_np = wine_shuffle.to_numpy()\n",
        "print(wine_np[:5])"
      ],
      "execution_count": 7,
      "outputs": [
        {
          "output_type": "stream",
          "text": [
            "      fixed acidity  volatile acidity  citric acid  ...   alcohol   quality  type\n",
            "597        0.669421          0.333333     0.349398  ...  0.289855  0.500000   0.0\n",
            "2889       0.380165          0.186667     0.216867  ...  0.724638  0.500000   1.0\n",
            "4348       0.314050          0.153333     0.313253  ...  0.159420  0.500000   1.0\n",
            "714        0.504132          0.440000     0.168675  ...  0.260870  0.333333   0.0\n",
            "1398       0.289256          0.113333     0.216867  ...  0.130435  0.666667   1.0\n",
            "\n",
            "[5 rows x 13 columns]\n",
            "[[0.66942149 0.33333333 0.34939759 0.01993865 0.10299003 0.01388889\n",
            "  0.02764977 0.20994795 0.28682171 0.23033708 0.28985507 0.5\n",
            "  0.        ]\n",
            " [0.38016529 0.18666667 0.21686747 0.16104294 0.03820598 0.06944444\n",
            "  0.29032258 0.11605938 0.17829457 0.09550562 0.72463768 0.5\n",
            "  1.        ]\n",
            " [0.31404959 0.15333333 0.31325301 0.19325153 0.05481728 0.20833333\n",
            "  0.32718894 0.21746674 0.20155039 0.14044944 0.15942029 0.5\n",
            "  1.        ]\n",
            " [0.50413223 0.44       0.1686747  0.03067485 0.11461794 0.06944444\n",
            "  0.16359447 0.20994795 0.43410853 0.16292135 0.26086957 0.33333333\n",
            "  0.        ]\n",
            " [0.2892562  0.11333333 0.21686747 0.19171779 0.06810631 0.11805556\n",
            "  0.44700461 0.22151533 0.24806202 0.13483146 0.13043478 0.66666667\n",
            "  1.        ]]\n"
          ],
          "name": "stdout"
        }
      ]
    },
    {
      "cell_type": "code",
      "metadata": {
        "id": "ZFUOXQTsiZDZ",
        "colab_type": "code",
        "outputId": "dc4e44aa-1dfd-4df4-90ff-4f77b31ab48d",
        "colab": {
          "base_uri": "https://localhost:8080/",
          "height": 161
        }
      },
      "source": [
        "# 5.7 train 데이터와 test 데이터로 분리\n",
        "train_idx = int(len(wine_np) * 0.8)\n",
        "train_X, train_Y = wine_np[:train_idx, :-1], wine_np[:train_idx, -1]\n",
        "test_X, test_Y = wine_np[train_idx:, :-1], wine_np[train_idx:, -1]\n",
        "print(train_X[0])\n",
        "print(train_Y[0])\n",
        "print(test_X[0])\n",
        "print(test_Y[0])\n",
        "train_Y = tf.keras.utils.to_categorical(train_Y, num_classes=2)\n",
        "test_Y = tf.keras.utils.to_categorical(test_Y, num_classes=2)\n",
        "print(train_Y[0])\n",
        "print(test_Y[0])"
      ],
      "execution_count": 8,
      "outputs": [
        {
          "output_type": "stream",
          "text": [
            "[0.66942149 0.33333333 0.34939759 0.01993865 0.10299003 0.01388889\n",
            " 0.02764977 0.20994795 0.28682171 0.23033708 0.28985507 0.5       ]\n",
            "0.0\n",
            "[0.24793388 0.34       0.03614458 0.08282209 0.08471761 0.03472222\n",
            " 0.02764977 0.17524581 0.53488372 0.20786517 0.4057971  0.66666667]\n",
            "0.0\n",
            "[1. 0.]\n",
            "[1. 0.]\n"
          ],
          "name": "stdout"
        }
      ]
    },
    {
      "cell_type": "code",
      "metadata": {
        "id": "EEqMsbxJjTa7",
        "colab_type": "code",
        "outputId": "ddd5d077-75c1-45aa-e487-3ea036563b90",
        "colab": {
          "base_uri": "https://localhost:8080/",
          "height": 305
        }
      },
      "source": [
        "# 5.8 와인 데이터셋 분류 모델 생성\n",
        "import tensorflow as tf\n",
        "model = tf.keras.Sequential([\n",
        "    tf.keras.layers.Dense(units=48, activation='relu', input_shape=(12,)),\n",
        "    tf.keras.layers.Dense(units=24, activation='relu'),\n",
        "    tf.keras.layers.Dense(units=12, activation='relu'),\n",
        "    tf.keras.layers.Dense(units=2, activation='softmax')\n",
        "])\n",
        "\n",
        "model.compile(optimizer=tf.keras.optimizers.Adam(lr=0.07), loss='categorical_crossentropy', metrics=['accuracy'])\n",
        "\n",
        "model.summary()"
      ],
      "execution_count": 9,
      "outputs": [
        {
          "output_type": "stream",
          "text": [
            "Model: \"sequential\"\n",
            "_________________________________________________________________\n",
            "Layer (type)                 Output Shape              Param #   \n",
            "=================================================================\n",
            "dense (Dense)                (None, 48)                624       \n",
            "_________________________________________________________________\n",
            "dense_1 (Dense)              (None, 24)                1176      \n",
            "_________________________________________________________________\n",
            "dense_2 (Dense)              (None, 12)                300       \n",
            "_________________________________________________________________\n",
            "dense_3 (Dense)              (None, 2)                 26        \n",
            "=================================================================\n",
            "Total params: 2,126\n",
            "Trainable params: 2,126\n",
            "Non-trainable params: 0\n",
            "_________________________________________________________________\n"
          ],
          "name": "stdout"
        }
      ]
    },
    {
      "cell_type": "code",
      "metadata": {
        "id": "gJZZKB45jvVx",
        "colab_type": "code",
        "outputId": "913b3fc5-0cf5-45cd-c1fb-ab8470c7f901",
        "colab": {
          "base_uri": "https://localhost:8080/",
          "height": 279
        }
      },
      "source": [
        "# 그림 5.5 출력 코드\n",
        "import matplotlib.pyplot as plt\n",
        "import math\n",
        "import numpy as np\n",
        "x = np.arange(-2, 2, 0.01)\n",
        "e_x = math.e ** x\n",
        "\n",
        "plt.axhline(0, color='gray')\n",
        "plt.axvline(0, color='gray')\n",
        "plt.plot(x, x, 'b-', label='y=x')\n",
        "plt.plot(x, e_x, 'g.', label='y=e^x')\n",
        "plt.xlabel('X')\n",
        "plt.ylabel('Y')\n",
        "plt.legend()\n",
        "plt.show()"
      ],
      "execution_count": 10,
      "outputs": [
        {
          "output_type": "display_data",
          "data": {
            "image/png": "[encoded data removed]",
            "text/plain": [
              "<Figure size 432x288 with 1 Axes>"
            ]
          },
          "metadata": {
            "tags": []
          }
        }
      ]
    },
    {
      "cell_type": "code",
      "metadata": {
        "id": "gxPgwAuPj8bJ",
        "colab_type": "code",
        "outputId": "31c81d57-d997-4f0c-d6ba-7f9d2a2fe7ea",
        "colab": {
          "base_uri": "https://localhost:8080/",
          "height": 935
        }
      },
      "source": [
        "# 5.9 와인 데이터셋 분류 모델 학습\n",
        "history = model.fit(train_X, train_Y, epochs=25, batch_size=32, validation_split=0.25)"
      ],
      "execution_count": 11,
      "outputs": [
        {
          "output_type": "stream",
          "text": [
            "Train on 3897 samples, validate on 1300 samples\n",
            "Epoch 1/25\n",
            "3897/3897 [==============================] - 1s 273us/sample - loss: 0.1250 - accuracy: 0.9510 - val_loss: 0.0338 - val_accuracy: 0.9908\n",
            "Epoch 2/25\n",
            "3897/3897 [==============================] - 0s 122us/sample - loss: 0.0760 - accuracy: 0.9833 - val_loss: 0.0409 - val_accuracy: 0.9869\n",
            "Epoch 3/25\n",
            "3897/3897 [==============================] - 0s 119us/sample - loss: 0.0629 - accuracy: 0.9838 - val_loss: 0.0290 - val_accuracy: 0.9915\n",
            "Epoch 4/25\n",
            "3897/3897 [==============================] - 0s 102us/sample - loss: 0.0656 - accuracy: 0.9836 - val_loss: 0.1130 - val_accuracy: 0.9662\n",
            "Epoch 5/25\n",
            "3897/3897 [==============================] - 0s 115us/sample - loss: 0.0663 - accuracy: 0.9841 - val_loss: 0.0297 - val_accuracy: 0.9915\n",
            "Epoch 6/25\n",
            "3897/3897 [==============================] - 0s 106us/sample - loss: 0.0437 - accuracy: 0.9902 - val_loss: 0.0241 - val_accuracy: 0.9908\n",
            "Epoch 7/25\n",
            "3897/3897 [==============================] - 0s 100us/sample - loss: 0.0539 - accuracy: 0.9859 - val_loss: 0.0298 - val_accuracy: 0.9923\n",
            "Epoch 8/25\n",
            "3897/3897 [==============================] - 0s 117us/sample - loss: 0.0386 - accuracy: 0.9900 - val_loss: 0.0205 - val_accuracy: 0.9923\n",
            "Epoch 9/25\n",
            "3897/3897 [==============================] - 0s 101us/sample - loss: 0.0408 - accuracy: 0.9908 - val_loss: 0.0241 - val_accuracy: 0.9938\n",
            "Epoch 10/25\n",
            "3897/3897 [==============================] - 0s 108us/sample - loss: 0.0396 - accuracy: 0.9892 - val_loss: 0.0690 - val_accuracy: 0.9792\n",
            "Epoch 11/25\n",
            "3897/3897 [==============================] - 0s 113us/sample - loss: 0.0506 - accuracy: 0.9872 - val_loss: 0.0189 - val_accuracy: 0.9923\n",
            "Epoch 12/25\n",
            "3897/3897 [==============================] - 0s 104us/sample - loss: 0.0351 - accuracy: 0.9923 - val_loss: 0.1028 - val_accuracy: 0.9692\n",
            "Epoch 13/25\n",
            "3897/3897 [==============================] - 0s 110us/sample - loss: 0.0417 - accuracy: 0.9902 - val_loss: 0.0226 - val_accuracy: 0.9954\n",
            "Epoch 14/25\n",
            "3897/3897 [==============================] - 0s 115us/sample - loss: 0.0473 - accuracy: 0.9892 - val_loss: 0.0235 - val_accuracy: 0.9954\n",
            "Epoch 15/25\n",
            "3897/3897 [==============================] - 0s 114us/sample - loss: 0.0398 - accuracy: 0.9915 - val_loss: 0.0399 - val_accuracy: 0.9915\n",
            "Epoch 16/25\n",
            "3897/3897 [==============================] - 0s 112us/sample - loss: 0.0491 - accuracy: 0.9897 - val_loss: 0.1087 - val_accuracy: 0.9954\n",
            "Epoch 17/25\n",
            "3897/3897 [==============================] - 1s 132us/sample - loss: 0.0353 - accuracy: 0.9928 - val_loss: 0.0146 - val_accuracy: 0.9954\n",
            "Epoch 18/25\n",
            "3897/3897 [==============================] - 1s 140us/sample - loss: 0.0365 - accuracy: 0.9913 - val_loss: 0.0297 - val_accuracy: 0.9900\n",
            "Epoch 19/25\n",
            "3897/3897 [==============================] - 0s 114us/sample - loss: 0.0447 - accuracy: 0.9872 - val_loss: 0.0257 - val_accuracy: 0.9923\n",
            "Epoch 20/25\n",
            "3897/3897 [==============================] - 0s 113us/sample - loss: 0.0336 - accuracy: 0.9915 - val_loss: 0.0207 - val_accuracy: 0.9946\n",
            "Epoch 21/25\n",
            "3897/3897 [==============================] - 0s 115us/sample - loss: 0.0284 - accuracy: 0.9928 - val_loss: 0.0141 - val_accuracy: 0.9962\n",
            "Epoch 22/25\n",
            "3897/3897 [==============================] - 0s 123us/sample - loss: 0.0412 - accuracy: 0.9915 - val_loss: 0.0240 - val_accuracy: 0.9946\n",
            "Epoch 23/25\n",
            "3897/3897 [==============================] - 0s 120us/sample - loss: 0.0367 - accuracy: 0.9928 - val_loss: 0.0196 - val_accuracy: 0.9938\n",
            "Epoch 24/25\n",
            "3897/3897 [==============================] - 0s 118us/sample - loss: 0.0455 - accuracy: 0.9872 - val_loss: 0.0405 - val_accuracy: 0.9869\n",
            "Epoch 25/25\n",
            "3897/3897 [==============================] - 0s 121us/sample - loss: 0.0513 - accuracy: 0.9895 - val_loss: 0.0303 - val_accuracy: 0.9954\n"
          ],
          "name": "stdout"
        }
      ]
    },
    {
      "cell_type": "code",
      "metadata": {
        "id": "h3egptXVkW9B",
        "colab_type": "code",
        "outputId": "585665b4-8799-4c16-a2e0-5cdef1a51c64",
        "colab": {
          "base_uri": "https://localhost:8080/",
          "height": 283
        }
      },
      "source": [
        "# 5.10 분류 모델 학습 결과 시각화\n",
        "import matplotlib.pyplot as plt\n",
        "plt.figure(figsize=(12, 4))\n",
        "\n",
        "plt.subplot(1, 2, 1)\n",
        "plt.plot(history.history['loss'], 'b-', label='loss')\n",
        "plt.plot(history.history['val_loss'], 'r--', label='val_loss')\n",
        "plt.xlabel('Epoch')\n",
        "plt.legend()\n",
        "\n",
        "plt.subplot(1, 2, 2)\n",
        "plt.plot(history.history['accuracy'], 'g-', label='accuracy')\n",
        "plt.plot(history.history['val_accuracy'], 'k--', label='val_accuracy')\n",
        "plt.xlabel('Epoch')\n",
        "plt.ylim(0.7, 1)\n",
        "plt.legend()\n",
        "\n",
        "plt.show()"
      ],
      "execution_count": 12,
      "outputs": [
        {
          "output_type": "display_data",
          "data": {
            "image/png": "[encoded data removed]",
            "text/plain": [
              "<Figure size 864x288 with 2 Axes>"
            ]
          },
          "metadata": {
            "tags": []
          }
        }
      ]
    },
    {
      "cell_type": "code",
      "metadata": {
        "id": "EhGFeNwqkdVZ",
        "colab_type": "code",
        "outputId": "0c726dd8-6a3f-4c32-ec5b-425694d0f48d",
        "colab": {
          "base_uri": "https://localhost:8080/",
          "height": 53
        }
      },
      "source": [
        "# 5.11 분류 모델 평가\n",
        "model.evaluate(test_X, test_Y)"
      ],
      "execution_count": 13,
      "outputs": [
        {
          "output_type": "stream",
          "text": [
            "1300/1300 [==============================] - 0s 68us/sample - loss: 0.0274 - accuracy: 0.9946\n"
          ],
          "name": "stdout"
        },
        {
          "output_type": "execute_result",
          "data": {
            "text/plain": [
              "[0.027423039161815092, 0.9946154]"
            ]
          },
          "metadata": {
            "tags": []
          },
          "execution_count": 13
        }
      ]
    },
    {
      "cell_type": "code",
      "metadata": {
        "id": "1XZbbHNglQRV",
        "colab_type": "code",
        "outputId": "b88475b4-4d32-4068-db7c-242a044d1f2f",
        "colab": {
          "base_uri": "https://localhost:8080/",
          "height": 323
        }
      },
      "source": [
        "# 5.12 품질 데이터 확인\n",
        "print(wine['quality'].describe())\n",
        "print(wine['quality'].value_counts())"
      ],
      "execution_count": 14,
      "outputs": [
        {
          "output_type": "stream",
          "text": [
            "count    6497.000000\n",
            "mean        5.818378\n",
            "std         0.873255\n",
            "min         3.000000\n",
            "25%         5.000000\n",
            "50%         6.000000\n",
            "75%         6.000000\n",
            "max         9.000000\n",
            "Name: quality, dtype: float64\n",
            "6    2836\n",
            "5    2138\n",
            "7    1079\n",
            "4     216\n",
            "8     193\n",
            "3      30\n",
            "9       5\n",
            "Name: quality, dtype: int64\n"
          ],
          "name": "stdout"
        }
      ]
    },
    {
      "cell_type": "code",
      "metadata": {
        "id": "Qa3LsHgmlTzK",
        "colab_type": "code",
        "outputId": "b6c16e7c-ef7e-431f-c172-2a7d070a2578",
        "colab": {
          "base_uri": "https://localhost:8080/",
          "height": 265
        }
      },
      "source": [
        "# 5.13 품질 히스토그램 시각화\n",
        "import matplotlib.pyplot as plt\n",
        "plt.hist(wine['quality'], bins=7, rwidth=0.8)\n",
        "plt.show()"
      ],
      "execution_count": 15,
      "outputs": [
        {
          "output_type": "display_data",
          "data": {
            "image/png": "[encoded data removed]",
            "text/plain": [
              "<Figure size 432x288 with 1 Axes>"
            ]
          },
          "metadata": {
            "tags": []
          }
        }
      ]
    },
    {
      "cell_type": "code",
      "metadata": {
        "id": "wG7lEZ0SlbiQ",
        "colab_type": "code",
        "outputId": "e39839eb-6642-479e-e24e-d37973386c57",
        "colab": {
          "base_uri": "https://localhost:8080/",
          "height": 251
        }
      },
      "source": [
        "# 5.14 품질을 3개의 범주(좋음, 보통, 나쁨)로 재분류\n",
        "wine.loc[wine['quality'] <= 5, 'new_quality'] = 0\n",
        "wine.loc[wine['quality'] == 6, 'new_quality'] = 1\n",
        "wine.loc[wine['quality'] >= 7, 'new_quality'] = 2\n",
        "\n",
        "print(wine['new_quality'].describe())\n",
        "print(wine['new_quality'].value_counts())"
      ],
      "execution_count": 16,
      "outputs": [
        {
          "output_type": "stream",
          "text": [
            "count    6497.000000\n",
            "mean        0.829614\n",
            "std         0.731124\n",
            "min         0.000000\n",
            "25%         0.000000\n",
            "50%         1.000000\n",
            "75%         1.000000\n",
            "max         2.000000\n",
            "Name: new_quality, dtype: float64\n",
            "1.0    2836\n",
            "0.0    2384\n",
            "2.0    1277\n",
            "Name: new_quality, dtype: int64\n"
          ],
          "name": "stdout"
        }
      ]
    },
    {
      "cell_type": "code",
      "metadata": {
        "id": "S-L6hdGqmgQ8",
        "colab_type": "code",
        "colab": {}
      },
      "source": [
        "# 5.15 데이터 정규화 및 train, test 데이터 분리\n",
        "del wine['quality']\n",
        "wine_norm = (wine - wine.min()) / (wine.max() - wine.min())\n",
        "wine_shuffle = wine_norm.sample(frac=1)\n",
        "wine_np = wine_shuffle.to_numpy()\n",
        "\n",
        "train_idx = int(len(wine_np) * 0.8)\n",
        "train_X, train_Y = wine_np[:train_idx, :-1], wine_np[:train_idx, -1]\n",
        "test_X, test_Y = wine_np[train_idx:, :-1], wine_np[train_idx:, -1]\n",
        "train_Y = tf.keras.utils.to_categorical(train_Y, num_classes=3)\n",
        "test_Y = tf.keras.utils.to_categorical(test_Y, num_classes=3)"
      ],
      "execution_count": 0,
      "outputs": []
    },
    {
      "cell_type": "code",
      "metadata": {
        "id": "R5MLYpF3mtLa",
        "colab_type": "code",
        "outputId": "15d31c93-ce16-4321-e1f0-ee0d067009d1",
        "colab": {
          "base_uri": "https://localhost:8080/",
          "height": 935
        }
      },
      "source": [
        "# 5.16 와인 데이터셋 다항 분류 모델 생성 및 학습\n",
        "model = tf.keras.Sequential([\n",
        "    tf.keras.layers.Dense(units=48, activation='relu', input_shape=(12,)),\n",
        "    tf.keras.layers.Dense(units=24, activation='relu'),\n",
        "    tf.keras.layers.Dense(units=12, activation='relu'),\n",
        "    tf.keras.layers.Dense(units=3, activation='softmax')\n",
        "])\n",
        "\n",
        "model.compile(optimizer=tf.keras.optimizers.Adam(lr=0.07), loss='categorical_crossentropy', metrics=['accuracy'])\n",
        "\n",
        "history = model.fit(train_X, train_Y, epochs=25, batch_size=32, validation_split=0.25)"
      ],
      "execution_count": 18,
      "outputs": [
        {
          "output_type": "stream",
          "text": [
            "Train on 3897 samples, validate on 1300 samples\n",
            "Epoch 1/25\n",
            "3897/3897 [==============================] - 1s 197us/sample - loss: 0.4829 - accuracy: 0.7921 - val_loss: 0.4435 - val_accuracy: 0.8015\n",
            "Epoch 2/25\n",
            "3897/3897 [==============================] - 0s 116us/sample - loss: 0.4249 - accuracy: 0.8029 - val_loss: 0.3973 - val_accuracy: 0.7992\n",
            "Epoch 3/25\n",
            "3897/3897 [==============================] - 0s 114us/sample - loss: 0.4311 - accuracy: 0.7965 - val_loss: 0.4138 - val_accuracy: 0.7992\n",
            "Epoch 4/25\n",
            "3897/3897 [==============================] - 0s 119us/sample - loss: 0.4146 - accuracy: 0.7988 - val_loss: 0.3904 - val_accuracy: 0.8238\n",
            "Epoch 5/25\n",
            "3897/3897 [==============================] - 0s 107us/sample - loss: 0.4267 - accuracy: 0.7960 - val_loss: 0.4069 - val_accuracy: 0.7938\n",
            "Epoch 6/25\n",
            "3897/3897 [==============================] - 0s 111us/sample - loss: 0.4198 - accuracy: 0.8027 - val_loss: 0.3897 - val_accuracy: 0.8154\n",
            "Epoch 7/25\n",
            "3897/3897 [==============================] - 0s 118us/sample - loss: 0.4131 - accuracy: 0.8060 - val_loss: 0.4178 - val_accuracy: 0.8023\n",
            "Epoch 8/25\n",
            "3897/3897 [==============================] - 0s 125us/sample - loss: 0.4083 - accuracy: 0.8142 - val_loss: 0.3992 - val_accuracy: 0.8085\n",
            "Epoch 9/25\n",
            "3897/3897 [==============================] - 0s 117us/sample - loss: 0.4127 - accuracy: 0.8091 - val_loss: 0.4035 - val_accuracy: 0.8208\n",
            "Epoch 10/25\n",
            "3897/3897 [==============================] - 0s 117us/sample - loss: 0.4099 - accuracy: 0.8057 - val_loss: 0.3931 - val_accuracy: 0.8077\n",
            "Epoch 11/25\n",
            "3897/3897 [==============================] - 0s 125us/sample - loss: 0.4119 - accuracy: 0.8073 - val_loss: 0.4260 - val_accuracy: 0.8154\n",
            "Epoch 12/25\n",
            "3897/3897 [==============================] - 0s 115us/sample - loss: 0.4055 - accuracy: 0.8140 - val_loss: 0.3912 - val_accuracy: 0.8292\n",
            "Epoch 13/25\n",
            "3897/3897 [==============================] - 0s 104us/sample - loss: 0.4078 - accuracy: 0.8114 - val_loss: 0.3857 - val_accuracy: 0.8262\n",
            "Epoch 14/25\n",
            "3897/3897 [==============================] - 0s 115us/sample - loss: 0.4088 - accuracy: 0.8055 - val_loss: 0.3919 - val_accuracy: 0.8231\n",
            "Epoch 15/25\n",
            "3897/3897 [==============================] - 0s 106us/sample - loss: 0.4111 - accuracy: 0.8081 - val_loss: 0.4042 - val_accuracy: 0.7992\n",
            "Epoch 16/25\n",
            "3897/3897 [==============================] - 0s 123us/sample - loss: 0.4153 - accuracy: 0.7973 - val_loss: 0.3965 - val_accuracy: 0.8192\n",
            "Epoch 17/25\n",
            "3897/3897 [==============================] - 1s 142us/sample - loss: 0.4200 - accuracy: 0.7991 - val_loss: 0.4000 - val_accuracy: 0.7992\n",
            "Epoch 18/25\n",
            "3897/3897 [==============================] - 1s 130us/sample - loss: 0.4158 - accuracy: 0.8009 - val_loss: 0.4332 - val_accuracy: 0.8169\n",
            "Epoch 19/25\n",
            "3897/3897 [==============================] - 0s 110us/sample - loss: 0.4158 - accuracy: 0.7975 - val_loss: 0.4021 - val_accuracy: 0.7923\n",
            "Epoch 20/25\n",
            "3897/3897 [==============================] - 0s 110us/sample - loss: 0.4154 - accuracy: 0.8014 - val_loss: 0.4311 - val_accuracy: 0.7754\n",
            "Epoch 21/25\n",
            "3897/3897 [==============================] - 0s 115us/sample - loss: 0.4131 - accuracy: 0.7988 - val_loss: 0.4237 - val_accuracy: 0.8277\n",
            "Epoch 22/25\n",
            "3897/3897 [==============================] - 0s 118us/sample - loss: 0.4155 - accuracy: 0.8019 - val_loss: 0.3960 - val_accuracy: 0.8208\n",
            "Epoch 23/25\n",
            "3897/3897 [==============================] - 0s 123us/sample - loss: 0.4049 - accuracy: 0.8111 - val_loss: 0.4104 - val_accuracy: 0.8223\n",
            "Epoch 24/25\n",
            "3897/3897 [==============================] - 0s 122us/sample - loss: 0.4179 - accuracy: 0.8083 - val_loss: 0.3967 - val_accuracy: 0.7992\n",
            "Epoch 25/25\n",
            "3897/3897 [==============================] - 0s 121us/sample - loss: 0.4110 - accuracy: 0.8014 - val_loss: 0.3988 - val_accuracy: 0.7992\n"
          ],
          "name": "stdout"
        }
      ]
    },
    {
      "cell_type": "code",
      "metadata": {
        "id": "v1JsCho8m4G6",
        "colab_type": "code",
        "outputId": "142a94a3-8a27-4323-8601-c2b71352a9bd",
        "colab": {
          "base_uri": "https://localhost:8080/",
          "height": 283
        }
      },
      "source": [
        "# 5.17 다항 분류 모델 학습 결과 시각화\n",
        "import matplotlib.pyplot as plt\n",
        "plt.figure(figsize=(12, 4))\n",
        "\n",
        "plt.subplot(1, 2, 1)\n",
        "plt.plot(history.history['loss'], 'b-', label='loss')\n",
        "plt.plot(history.history['val_loss'], 'r--', label='val_loss')\n",
        "plt.xlabel('Epoch')\n",
        "plt.legend()\n",
        "\n",
        "plt.subplot(1, 2, 2)\n",
        "plt.plot(history.history['accuracy'], 'g-', label='accuracy')\n",
        "plt.plot(history.history['val_accuracy'], 'k--', label='val_accuracy')\n",
        "plt.xlabel('Epoch')\n",
        "plt.ylim(0.7, 1)\n",
        "plt.legend()\n",
        "\n",
        "plt.show()"
      ],
      "execution_count": 19,
      "outputs": [
        {
          "output_type": "display_data",
          "data": {
            "image/png": "[encoded data removed]",
            "text/plain": [
              "<Figure size 864x288 with 2 Axes>"
            ]
          },
          "metadata": {
            "tags": []
          }
        }
      ]
    },
    {
      "cell_type": "code",
      "metadata": {
        "id": "NqwxdjjP8K6o",
        "colab_type": "code",
        "colab": {
          "base_uri": "https://localhost:8080/",
          "height": 53
        },
        "outputId": "f503f4d0-5aa3-4c8f-8db0-ca6bc689b0a2"
      },
      "source": [
        "# 5.18 다항 분류 모델 평가\n",
        "model.evaluate(test_X, test_Y)"
      ],
      "execution_count": 20,
      "outputs": [
        {
          "output_type": "stream",
          "text": [
            "1300/1300 [==============================] - 0s 77us/sample - loss: 0.3960 - accuracy: 0.8123\n"
          ],
          "name": "stdout"
        },
        {
          "output_type": "execute_result",
          "data": {
            "text/plain": [
              "[0.3959597998857498, 0.8123077]"
            ]
          },
          "metadata": {
            "tags": []
          },
          "execution_count": 20
        }
      ]
    },
    {
      "cell_type": "code",
      "metadata": {
        "id": "_q5qJ0AW80Hq",
        "colab_type": "code",
        "colab": {
          "base_uri": "https://localhost:8080/",
          "height": 35
        },
        "outputId": "9e3adffe-4351-40ad-a74c-c24b8af5a4b4"
      },
      "source": [
        "# 5.19 Fashion MNIST 데이터셋 불러오기\n",
        "fashion_mnist = tf.keras.datasets.fashion_mnist\n",
        "(train_X, train_Y), (test_X, test_Y) = fashion_mnist.load_data()\n",
        "\n",
        "print(len(train_X), len(test_X))"
      ],
      "execution_count": 21,
      "outputs": [
        {
          "output_type": "stream",
          "text": [
            "60000 10000\n"
          ],
          "name": "stdout"
        }
      ]
    },
    {
      "cell_type": "code",
      "metadata": {
        "id": "dKpNTQlm9Zb4",
        "colab_type": "code",
        "colab": {
          "base_uri": "https://localhost:8080/",
          "height": 283
        },
        "outputId": "9e3faee1-259c-471b-ed8d-50903f5eb9e5"
      },
      "source": [
        "# 5.20 데이터 확인\n",
        "import matplotlib.pyplot as plt\n",
        "plt.imshow(train_X[0], cmap='gray')\n",
        "plt.colorbar()\n",
        "plt.show()\n",
        "\n",
        "print(train_Y[0])"
      ],
      "execution_count": 22,
      "outputs": [
        {
          "output_type": "display_data",
          "data": {
            "image/png": "[encoded data removed]",
            "text/plain": [
              "<Figure size 432x288 with 2 Axes>"
            ]
          },
          "metadata": {
            "tags": []
          }
        },
        {
          "output_type": "stream",
          "text": [
            "9\n"
          ],
          "name": "stdout"
        }
      ]
    },
    {
      "cell_type": "code",
      "metadata": {
        "id": "K3InxmtxAD1G",
        "colab_type": "code",
        "colab": {
          "base_uri": "https://localhost:8080/",
          "height": 1000
        },
        "outputId": "ae5b0702-0058-4b8f-bb5e-91e5314ebefa"
      },
      "source": [
        "# 5.21 데이터 정규화\n",
        "train_X = train_X / 255.0\n",
        "test_X = test_X / 255.0\n",
        "\n",
        "print(train_X[0])"
      ],
      "execution_count": 23,
      "outputs": [
        {
          "output_type": "stream",
          "text": [
            "[[0.         0.         0.         0.         0.         0.\n",
            "  0.         0.         0.         0.         0.         0.\n",
            "  0.         0.         0.         0.         0.         0.\n",
            "  0.         0.         0.         0.         0.         0.\n",
            "  0.         0.         0.         0.        ]\n",
            " [0.         0.         0.         0.         0.         0.\n",
            "  0.         0.         0.         0.         0.         0.\n",
            "  0.         0.         0.         0.         0.         0.\n",
            "  0.         0.         0.         0.         0.         0.\n",
            "  0.         0.         0.         0.        ]\n",
            " [0.         0.         0.         0.         0.         0.\n",
            "  0.         0.         0.         0.         0.         0.\n",
            "  0.         0.         0.         0.         0.         0.\n",
            "  0.         0.         0.         0.         0.         0.\n",
            "  0.         0.         0.         0.        ]\n",
            " [0.         0.         0.         0.         0.         0.\n",
            "  0.         0.         0.         0.         0.         0.\n",
            "  0.00392157 0.         0.         0.05098039 0.28627451 0.\n",
            "  0.         0.00392157 0.01568627 0.         0.         0.\n",
            "  0.         0.00392157 0.00392157 0.        ]\n",
            " [0.         0.         0.         0.         0.         0.\n",
            "  0.         0.         0.         0.         0.         0.\n",
            "  0.01176471 0.         0.14117647 0.53333333 0.49803922 0.24313725\n",
            "  0.21176471 0.         0.         0.         0.00392157 0.01176471\n",
            "  0.01568627 0.         0.         0.01176471]\n",
            " [0.         0.         0.         0.         0.         0.\n",
            "  0.         0.         0.         0.         0.         0.\n",
            "  0.02352941 0.         0.4        0.8        0.69019608 0.5254902\n",
            "  0.56470588 0.48235294 0.09019608 0.         0.         0.\n",
            "  0.         0.04705882 0.03921569 0.        ]\n",
            " [0.         0.         0.         0.         0.         0.\n",
            "  0.         0.         0.         0.         0.         0.\n",
            "  0.         0.         0.60784314 0.9254902  0.81176471 0.69803922\n",
            "  0.41960784 0.61176471 0.63137255 0.42745098 0.25098039 0.09019608\n",
            "  0.30196078 0.50980392 0.28235294 0.05882353]\n",
            " [0.         0.         0.         0.         0.         0.\n",
            "  0.         0.         0.         0.         0.         0.00392157\n",
            "  0.         0.27058824 0.81176471 0.8745098  0.85490196 0.84705882\n",
            "  0.84705882 0.63921569 0.49803922 0.4745098  0.47843137 0.57254902\n",
            "  0.55294118 0.34509804 0.6745098  0.25882353]\n",
            " [0.         0.         0.         0.         0.         0.\n",
            "  0.         0.         0.         0.00392157 0.00392157 0.00392157\n",
            "  0.         0.78431373 0.90980392 0.90980392 0.91372549 0.89803922\n",
            "  0.8745098  0.8745098  0.84313725 0.83529412 0.64313725 0.49803922\n",
            "  0.48235294 0.76862745 0.89803922 0.        ]\n",
            " [0.         0.         0.         0.         0.         0.\n",
            "  0.         0.         0.         0.         0.         0.\n",
            "  0.         0.71764706 0.88235294 0.84705882 0.8745098  0.89411765\n",
            "  0.92156863 0.89019608 0.87843137 0.87058824 0.87843137 0.86666667\n",
            "  0.8745098  0.96078431 0.67843137 0.        ]\n",
            " [0.         0.         0.         0.         0.         0.\n",
            "  0.         0.         0.         0.         0.         0.\n",
            "  0.         0.75686275 0.89411765 0.85490196 0.83529412 0.77647059\n",
            "  0.70588235 0.83137255 0.82352941 0.82745098 0.83529412 0.8745098\n",
            "  0.8627451  0.95294118 0.79215686 0.        ]\n",
            " [0.         0.         0.         0.         0.         0.\n",
            "  0.         0.         0.         0.00392157 0.01176471 0.\n",
            "  0.04705882 0.85882353 0.8627451  0.83137255 0.85490196 0.75294118\n",
            "  0.6627451  0.89019608 0.81568627 0.85490196 0.87843137 0.83137255\n",
            "  0.88627451 0.77254902 0.81960784 0.20392157]\n",
            " [0.         0.         0.         0.         0.         0.\n",
            "  0.         0.         0.         0.         0.02352941 0.\n",
            "  0.38823529 0.95686275 0.87058824 0.8627451  0.85490196 0.79607843\n",
            "  0.77647059 0.86666667 0.84313725 0.83529412 0.87058824 0.8627451\n",
            "  0.96078431 0.46666667 0.65490196 0.21960784]\n",
            " [0.         0.         0.         0.         0.         0.\n",
            "  0.         0.         0.         0.01568627 0.         0.\n",
            "  0.21568627 0.9254902  0.89411765 0.90196078 0.89411765 0.94117647\n",
            "  0.90980392 0.83529412 0.85490196 0.8745098  0.91764706 0.85098039\n",
            "  0.85098039 0.81960784 0.36078431 0.        ]\n",
            " [0.         0.         0.00392157 0.01568627 0.02352941 0.02745098\n",
            "  0.00784314 0.         0.         0.         0.         0.\n",
            "  0.92941176 0.88627451 0.85098039 0.8745098  0.87058824 0.85882353\n",
            "  0.87058824 0.86666667 0.84705882 0.8745098  0.89803922 0.84313725\n",
            "  0.85490196 1.         0.30196078 0.        ]\n",
            " [0.         0.01176471 0.         0.         0.         0.\n",
            "  0.         0.         0.         0.24313725 0.56862745 0.8\n",
            "  0.89411765 0.81176471 0.83529412 0.86666667 0.85490196 0.81568627\n",
            "  0.82745098 0.85490196 0.87843137 0.8745098  0.85882353 0.84313725\n",
            "  0.87843137 0.95686275 0.62352941 0.        ]\n",
            " [0.         0.         0.         0.         0.07058824 0.17254902\n",
            "  0.32156863 0.41960784 0.74117647 0.89411765 0.8627451  0.87058824\n",
            "  0.85098039 0.88627451 0.78431373 0.80392157 0.82745098 0.90196078\n",
            "  0.87843137 0.91764706 0.69019608 0.7372549  0.98039216 0.97254902\n",
            "  0.91372549 0.93333333 0.84313725 0.        ]\n",
            " [0.         0.22352941 0.73333333 0.81568627 0.87843137 0.86666667\n",
            "  0.87843137 0.81568627 0.8        0.83921569 0.81568627 0.81960784\n",
            "  0.78431373 0.62352941 0.96078431 0.75686275 0.80784314 0.8745098\n",
            "  1.         1.         0.86666667 0.91764706 0.86666667 0.82745098\n",
            "  0.8627451  0.90980392 0.96470588 0.        ]\n",
            " [0.01176471 0.79215686 0.89411765 0.87843137 0.86666667 0.82745098\n",
            "  0.82745098 0.83921569 0.80392157 0.80392157 0.80392157 0.8627451\n",
            "  0.94117647 0.31372549 0.58823529 1.         0.89803922 0.86666667\n",
            "  0.7372549  0.60392157 0.74901961 0.82352941 0.8        0.81960784\n",
            "  0.87058824 0.89411765 0.88235294 0.        ]\n",
            " [0.38431373 0.91372549 0.77647059 0.82352941 0.87058824 0.89803922\n",
            "  0.89803922 0.91764706 0.97647059 0.8627451  0.76078431 0.84313725\n",
            "  0.85098039 0.94509804 0.25490196 0.28627451 0.41568627 0.45882353\n",
            "  0.65882353 0.85882353 0.86666667 0.84313725 0.85098039 0.8745098\n",
            "  0.8745098  0.87843137 0.89803922 0.11372549]\n",
            " [0.29411765 0.8        0.83137255 0.8        0.75686275 0.80392157\n",
            "  0.82745098 0.88235294 0.84705882 0.7254902  0.77254902 0.80784314\n",
            "  0.77647059 0.83529412 0.94117647 0.76470588 0.89019608 0.96078431\n",
            "  0.9372549  0.8745098  0.85490196 0.83137255 0.81960784 0.87058824\n",
            "  0.8627451  0.86666667 0.90196078 0.2627451 ]\n",
            " [0.18823529 0.79607843 0.71764706 0.76078431 0.83529412 0.77254902\n",
            "  0.7254902  0.74509804 0.76078431 0.75294118 0.79215686 0.83921569\n",
            "  0.85882353 0.86666667 0.8627451  0.9254902  0.88235294 0.84705882\n",
            "  0.78039216 0.80784314 0.72941176 0.70980392 0.69411765 0.6745098\n",
            "  0.70980392 0.80392157 0.80784314 0.45098039]\n",
            " [0.         0.47843137 0.85882353 0.75686275 0.70196078 0.67058824\n",
            "  0.71764706 0.76862745 0.8        0.82352941 0.83529412 0.81176471\n",
            "  0.82745098 0.82352941 0.78431373 0.76862745 0.76078431 0.74901961\n",
            "  0.76470588 0.74901961 0.77647059 0.75294118 0.69019608 0.61176471\n",
            "  0.65490196 0.69411765 0.82352941 0.36078431]\n",
            " [0.         0.         0.29019608 0.74117647 0.83137255 0.74901961\n",
            "  0.68627451 0.6745098  0.68627451 0.70980392 0.7254902  0.7372549\n",
            "  0.74117647 0.7372549  0.75686275 0.77647059 0.8        0.81960784\n",
            "  0.82352941 0.82352941 0.82745098 0.7372549  0.7372549  0.76078431\n",
            "  0.75294118 0.84705882 0.66666667 0.        ]\n",
            " [0.00784314 0.         0.         0.         0.25882353 0.78431373\n",
            "  0.87058824 0.92941176 0.9372549  0.94901961 0.96470588 0.95294118\n",
            "  0.95686275 0.86666667 0.8627451  0.75686275 0.74901961 0.70196078\n",
            "  0.71372549 0.71372549 0.70980392 0.69019608 0.65098039 0.65882353\n",
            "  0.38823529 0.22745098 0.         0.        ]\n",
            " [0.         0.         0.         0.         0.         0.\n",
            "  0.         0.15686275 0.23921569 0.17254902 0.28235294 0.16078431\n",
            "  0.1372549  0.         0.         0.         0.         0.\n",
            "  0.         0.         0.         0.         0.         0.\n",
            "  0.         0.         0.         0.        ]\n",
            " [0.         0.         0.         0.         0.         0.\n",
            "  0.         0.         0.         0.         0.         0.\n",
            "  0.         0.         0.         0.         0.         0.\n",
            "  0.         0.         0.         0.         0.         0.\n",
            "  0.         0.         0.         0.        ]\n",
            " [0.         0.         0.         0.         0.         0.\n",
            "  0.         0.         0.         0.         0.         0.\n",
            "  0.         0.         0.         0.         0.         0.\n",
            "  0.         0.         0.         0.         0.         0.\n",
            "  0.         0.         0.         0.        ]]\n"
          ],
          "name": "stdout"
        }
      ]
    },
    {
      "cell_type": "code",
      "metadata": {
        "id": "iRqV_XH0AH7O",
        "colab_type": "code",
        "colab": {
          "base_uri": "https://localhost:8080/",
          "height": 269
        },
        "outputId": "a6f93e4d-9739-4a56-c899-51162ef466c4"
      },
      "source": [
        "# 5.22 Fashion MNIST 분류 모델\n",
        "model = tf.keras.Sequential([\n",
        "    tf.keras.layers.Flatten(input_shape=(28,28)),\n",
        "    tf.keras.layers.Dense(units=128, activation='relu'),\n",
        "    tf.keras.layers.Dense(units=10, activation='softmax')\n",
        "])\n",
        "\n",
        "model.compile(optimizer=tf.keras.optimizers.Adam(), \n",
        "              loss='sparse_categorical_crossentropy', \n",
        "              metrics=['accuracy'])\n",
        "\n",
        "model.summary()"
      ],
      "execution_count": 24,
      "outputs": [
        {
          "output_type": "stream",
          "text": [
            "Model: \"sequential_2\"\n",
            "_________________________________________________________________\n",
            "Layer (type)                 Output Shape              Param #   \n",
            "=================================================================\n",
            "flatten (Flatten)            (None, 784)               0         \n",
            "_________________________________________________________________\n",
            "dense_8 (Dense)              (None, 128)               100480    \n",
            "_________________________________________________________________\n",
            "dense_9 (Dense)              (None, 10)                1290      \n",
            "=================================================================\n",
            "Total params: 101,770\n",
            "Trainable params: 101,770\n",
            "Non-trainable params: 0\n",
            "_________________________________________________________________\n"
          ],
          "name": "stdout"
        }
      ]
    },
    {
      "cell_type": "code",
      "metadata": {
        "id": "PcnfKuTUASqu",
        "colab_type": "code",
        "colab": {
          "base_uri": "https://localhost:8080/",
          "height": 935
        },
        "outputId": "3bd3dfb5-e92b-4449-a78f-57060d5e2725"
      },
      "source": [
        "# 5.23 Fashion MNIST 분류 모델 학습\n",
        "history = model.fit(train_X, train_Y, epochs=25, validation_split=0.25)"
      ],
      "execution_count": 25,
      "outputs": [
        {
          "output_type": "stream",
          "text": [
            "Train on 45000 samples, validate on 15000 samples\n",
            "Epoch 1/25\n",
            "45000/45000 [==============================] - 5s 108us/sample - loss: 0.5279 - accuracy: 0.8154 - val_loss: 0.4635 - val_accuracy: 0.8353\n",
            "Epoch 2/25\n",
            "45000/45000 [==============================] - 5s 103us/sample - loss: 0.3970 - accuracy: 0.8584 - val_loss: 0.4088 - val_accuracy: 0.8489\n",
            "Epoch 3/25\n",
            "45000/45000 [==============================] - 4s 93us/sample - loss: 0.3504 - accuracy: 0.8722 - val_loss: 0.3731 - val_accuracy: 0.8692\n",
            "Epoch 4/25\n",
            "45000/45000 [==============================] - 4s 94us/sample - loss: 0.3262 - accuracy: 0.8798 - val_loss: 0.3515 - val_accuracy: 0.8725\n",
            "Epoch 5/25\n",
            "45000/45000 [==============================] - 5s 101us/sample - loss: 0.3053 - accuracy: 0.8873 - val_loss: 0.3507 - val_accuracy: 0.8747\n",
            "Epoch 6/25\n",
            "45000/45000 [==============================] - 4s 100us/sample - loss: 0.2876 - accuracy: 0.8932 - val_loss: 0.3607 - val_accuracy: 0.8715\n",
            "Epoch 7/25\n",
            "45000/45000 [==============================] - 5s 102us/sample - loss: 0.2743 - accuracy: 0.8986 - val_loss: 0.3323 - val_accuracy: 0.8822\n",
            "Epoch 8/25\n",
            "45000/45000 [==============================] - 4s 99us/sample - loss: 0.2614 - accuracy: 0.9026 - val_loss: 0.3208 - val_accuracy: 0.8857\n",
            "Epoch 9/25\n",
            "45000/45000 [==============================] - 5s 102us/sample - loss: 0.2539 - accuracy: 0.9055 - val_loss: 0.3548 - val_accuracy: 0.8723\n",
            "Epoch 10/25\n",
            "45000/45000 [==============================] - 5s 104us/sample - loss: 0.2431 - accuracy: 0.9093 - val_loss: 0.3273 - val_accuracy: 0.8859\n",
            "Epoch 11/25\n",
            "45000/45000 [==============================] - 4s 96us/sample - loss: 0.2332 - accuracy: 0.9130 - val_loss: 0.3271 - val_accuracy: 0.8834\n",
            "Epoch 12/25\n",
            "45000/45000 [==============================] - 5s 100us/sample - loss: 0.2245 - accuracy: 0.9160 - val_loss: 0.3313 - val_accuracy: 0.8849\n",
            "Epoch 13/25\n",
            "45000/45000 [==============================] - 5s 111us/sample - loss: 0.2184 - accuracy: 0.9179 - val_loss: 0.3395 - val_accuracy: 0.8823\n",
            "Epoch 14/25\n",
            "45000/45000 [==============================] - 5s 109us/sample - loss: 0.2105 - accuracy: 0.9208 - val_loss: 0.3461 - val_accuracy: 0.8840\n",
            "Epoch 15/25\n",
            "45000/45000 [==============================] - 5s 103us/sample - loss: 0.2040 - accuracy: 0.9239 - val_loss: 0.3177 - val_accuracy: 0.8879\n",
            "Epoch 16/25\n",
            "45000/45000 [==============================] - 4s 99us/sample - loss: 0.1992 - accuracy: 0.9266 - val_loss: 0.3341 - val_accuracy: 0.8885\n",
            "Epoch 17/25\n",
            "45000/45000 [==============================] - 4s 98us/sample - loss: 0.1937 - accuracy: 0.9274 - val_loss: 0.3456 - val_accuracy: 0.8869\n",
            "Epoch 18/25\n",
            "45000/45000 [==============================] - 5s 100us/sample - loss: 0.1870 - accuracy: 0.9310 - val_loss: 0.3522 - val_accuracy: 0.8883\n",
            "Epoch 19/25\n",
            "45000/45000 [==============================] - 4s 100us/sample - loss: 0.1819 - accuracy: 0.9325 - val_loss: 0.3382 - val_accuracy: 0.8909\n",
            "Epoch 20/25\n",
            "45000/45000 [==============================] - 5s 102us/sample - loss: 0.1771 - accuracy: 0.9341 - val_loss: 0.3284 - val_accuracy: 0.8917\n",
            "Epoch 21/25\n",
            "45000/45000 [==============================] - 5s 102us/sample - loss: 0.1734 - accuracy: 0.9355 - val_loss: 0.3547 - val_accuracy: 0.8883\n",
            "Epoch 22/25\n",
            "45000/45000 [==============================] - 5s 102us/sample - loss: 0.1680 - accuracy: 0.9366 - val_loss: 0.3402 - val_accuracy: 0.8935\n",
            "Epoch 23/25\n",
            "45000/45000 [==============================] - 5s 104us/sample - loss: 0.1624 - accuracy: 0.9400 - val_loss: 0.3633 - val_accuracy: 0.8889\n",
            "Epoch 24/25\n",
            "45000/45000 [==============================] - 5s 102us/sample - loss: 0.1605 - accuracy: 0.9407 - val_loss: 0.3602 - val_accuracy: 0.8873\n",
            "Epoch 25/25\n",
            "45000/45000 [==============================] - 5s 106us/sample - loss: 0.1576 - accuracy: 0.9405 - val_loss: 0.3975 - val_accuracy: 0.8821\n"
          ],
          "name": "stdout"
        }
      ]
    },
    {
      "cell_type": "code",
      "metadata": {
        "id": "hk0r80o4AuRm",
        "colab_type": "code",
        "colab": {
          "base_uri": "https://localhost:8080/",
          "height": 283
        },
        "outputId": "3bf1ec9a-7be2-4dcb-fd92-049ceb69931e"
      },
      "source": [
        "# 5.24 Fashion MNIST 분류 모델 학습 결과 시각화\n",
        "import matplotlib.pyplot as plt\n",
        "plt.figure(figsize=(12, 4))\n",
        "\n",
        "plt.subplot(1, 2, 1)\n",
        "plt.plot(history.history['loss'], 'b-', label='loss')\n",
        "plt.plot(history.history['val_loss'], 'r--', label='val_loss')\n",
        "plt.xlabel('Epoch')\n",
        "plt.legend()\n",
        "\n",
        "plt.subplot(1, 2, 2)\n",
        "plt.plot(history.history['accuracy'], 'g-', label='accuracy')\n",
        "plt.plot(history.history['val_accuracy'], 'k--', label='val_accuracy')\n",
        "plt.xlabel('Epoch')\n",
        "plt.ylim(0.7, 1)\n",
        "plt.legend()\n",
        "\n",
        "plt.show()"
      ],
      "execution_count": 26,
      "outputs": [
        {
          "output_type": "display_data",
          "data": {
            "image/png": "[encoded data removed]",
            "text/plain": [
              "<Figure size 864x288 with 2 Axes>"
            ]
          },
          "metadata": {
            "tags": []
          }
        }
      ]
    },
    {
      "cell_type": "code",
      "metadata": {
        "id": "S5lNK52kC0cm",
        "colab_type": "code",
        "colab": {
          "base_uri": "https://localhost:8080/",
          "height": 53
        },
        "outputId": "8fadfd8d-320e-4c33-91f6-80d6c6ec3a97"
      },
      "source": [
        "# 5.25 Fashion MNIST 분류 모델 평가\n",
        "model.evaluate(test_X, test_Y)"
      ],
      "execution_count": 27,
      "outputs": [
        {
          "output_type": "stream",
          "text": [
            "10000/10000 [==============================] - 1s 75us/sample - loss: 0.4319 - accuracy: 0.8761\n"
          ],
          "name": "stdout"
        },
        {
          "output_type": "execute_result",
          "data": {
            "text/plain": [
              "[0.43191219657063484, 0.8761]"
            ]
          },
          "metadata": {
            "tags": []
          },
          "execution_count": 27
        }
      ]
    }
  ]
}