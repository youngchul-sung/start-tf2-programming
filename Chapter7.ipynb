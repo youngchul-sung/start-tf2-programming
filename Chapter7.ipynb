{
  "nbformat": 4,
  "nbformat_minor": 0,
  "metadata": {
    "colab": {
      "name": "Chapter7",
      "provenance": [],
      "collapsed_sections": [],
      "authorship_tag": "ABX9TyN/NQQaJSfPTCySBO7JpH7O",
      "include_colab_link": true
    },
    "kernelspec": {
      "name": "python3",
      "display_name": "Python 3"
    },
    "accelerator": "GPU"
  },
  "cells": [
    {
      "cell_type": "markdown",
      "metadata": {
        "id": "view-in-github",
        "colab_type": "text"
      },
      "source": [
        "<a href=\"https://colab.research.google.com/github/youngchul-sung/start-tf2-programming/blob/master/Chapter7.ipynb\" target=\"_parent\"><img src=\"https://colab.research.google.com/assets/colab-badge.svg\" alt=\"Open In Colab\"/></a>"
      ]
    },
    {
      "cell_type": "code",
      "metadata": {
        "id": "xpzhN-DDXahk",
        "colab_type": "code",
        "colab": {
          "base_uri": "https://localhost:8080/",
          "height": 53
        },
        "outputId": "9392f1a9-eaad-41a5-dced-b4ff53835187"
      },
      "source": [
        "%tensorflow_version 2.x\n",
        "import tensorflow as tf\n",
        "\n",
        "print(tf.__version__)"
      ],
      "execution_count": 1,
      "outputs": [
        {
          "output_type": "stream",
          "text": [
            "TensorFlow 2.x selected.\n",
            "2.1.0\n"
          ],
          "name": "stdout"
        }
      ]
    },
    {
      "cell_type": "code",
      "metadata": {
        "id": "JecCTYgnXijh",
        "colab_type": "code",
        "colab": {}
      },
      "source": [
        "import numpy as np\n",
        "\n",
        "# 7.1 SimpleRNN 레이어 생성 코드\n",
        "rnn1 = tf.keras.layers.SimpleRNN(units=1, activation='tanh', return_sequences=True)"
      ],
      "execution_count": 0,
      "outputs": []
    },
    {
      "cell_type": "code",
      "metadata": {
        "id": "1rFRjzZbXp4I",
        "colab_type": "code",
        "colab": {
          "base_uri": "https://localhost:8080/",
          "height": 449
        },
        "outputId": "d16b9565-0f95-4d53-8f95-a90bc7da8dbb"
      },
      "source": [
        "# 7.2 시퀀스 예측 데이터 생성\n",
        "X = []\n",
        "Y = []\n",
        "for i in range(6):\n",
        "    # [0,1,2,3], [1,2,3,4] 같은 정수의 시퀀스를 만듭니다.\n",
        "    lst = list(range(i,i+4))\n",
        "\n",
        "    # 위에서 구한 시퀀스의 숫자들을 각각 10으로 나눈 다음 저장합니다.\n",
        "    # SimpleRNN 에 각 타임스텝에 하나씩 숫자가 들어가기 때문에 여기서도 하나씩 분리해서 배열에 저장합니다.\n",
        "    X.append(list(map(lambda c: [c/10], lst)))\n",
        "\n",
        "    # 정답에 해당하는 4, 5 등의 정수를 역시 위처럼 10으로 나눠서 저장합니다.\n",
        "    Y.append((i+4)/10)\n",
        "    \n",
        "X = np.array(X)\n",
        "Y = np.array(Y)\n",
        "for i in range(len(X)):\n",
        "    print(X[i], Y[i])"
      ],
      "execution_count": 3,
      "outputs": [
        {
          "output_type": "stream",
          "text": [
            "[[0. ]\n",
            " [0.1]\n",
            " [0.2]\n",
            " [0.3]] 0.4\n",
            "[[0.1]\n",
            " [0.2]\n",
            " [0.3]\n",
            " [0.4]] 0.5\n",
            "[[0.2]\n",
            " [0.3]\n",
            " [0.4]\n",
            " [0.5]] 0.6\n",
            "[[0.3]\n",
            " [0.4]\n",
            " [0.5]\n",
            " [0.6]] 0.7\n",
            "[[0.4]\n",
            " [0.5]\n",
            " [0.6]\n",
            " [0.7]] 0.8\n",
            "[[0.5]\n",
            " [0.6]\n",
            " [0.7]\n",
            " [0.8]] 0.9\n"
          ],
          "name": "stdout"
        }
      ]
    },
    {
      "cell_type": "code",
      "metadata": {
        "id": "zZFh84rVX1wR",
        "colab_type": "code",
        "colab": {
          "base_uri": "https://localhost:8080/",
          "height": 233
        },
        "outputId": "c131de04-fa76-496a-8894-c232ca528b86"
      },
      "source": [
        "# 7.3 시퀀스 예측 모델 정의\n",
        "model = tf.keras.Sequential([\n",
        "    tf.keras.layers.SimpleRNN(units=10, return_sequences=False, input_shape=[4,1]),\n",
        "    tf.keras.layers.Dense(1)\n",
        "])\n",
        "\n",
        "model.compile(optimizer='adam', loss='mse')\n",
        "model.summary()"
      ],
      "execution_count": 4,
      "outputs": [
        {
          "output_type": "stream",
          "text": [
            "Model: \"sequential\"\n",
            "_________________________________________________________________\n",
            "Layer (type)                 Output Shape              Param #   \n",
            "=================================================================\n",
            "simple_rnn_1 (SimpleRNN)     (None, 10)                120       \n",
            "_________________________________________________________________\n",
            "dense (Dense)                (None, 1)                 11        \n",
            "=================================================================\n",
            "Total params: 131\n",
            "Trainable params: 131\n",
            "Non-trainable params: 0\n",
            "_________________________________________________________________\n"
          ],
          "name": "stdout"
        }
      ]
    },
    {
      "cell_type": "code",
      "metadata": {
        "id": "xXvJ9ZpXX36J",
        "colab_type": "code",
        "colab": {
          "base_uri": "https://localhost:8080/",
          "height": 125
        },
        "outputId": "56b456d2-b726-4810-c844-2cdcebfd84dd"
      },
      "source": [
        "# 7.4 네트워크 훈련 및 결과 확인\n",
        "model.fit(X, Y, epochs=100, verbose=0)\n",
        "print(model.predict(X))"
      ],
      "execution_count": 5,
      "outputs": [
        {
          "output_type": "stream",
          "text": [
            "[[0.34461868]\n",
            " [0.522703  ]\n",
            " [0.6552525 ]\n",
            " [0.74366874]\n",
            " [0.7945035 ]\n",
            " [0.815141  ]]\n"
          ],
          "name": "stdout"
        }
      ]
    },
    {
      "cell_type": "code",
      "metadata": {
        "id": "0u9fO1xUYKZ4",
        "colab_type": "code",
        "colab": {
          "base_uri": "https://localhost:8080/",
          "height": 53
        },
        "outputId": "07268c13-88d1-44f2-f189-d380d43d83c4"
      },
      "source": [
        "# 7.5 학습되지 않은 시퀀스에 대한 예측 결과\n",
        "print(model.predict(np.array([[[0.6],[0.7],[0.8],[0.9]]])))\n",
        "print(model.predict(np.array([[[-0.1],[0.0],[0.1],[0.2]]])))"
      ],
      "execution_count": 6,
      "outputs": [
        {
          "output_type": "stream",
          "text": [
            "[[0.8123374]]\n",
            "[[0.13207716]]\n"
          ],
          "name": "stdout"
        }
      ]
    },
    {
      "cell_type": "code",
      "metadata": {
        "id": "dP0lF9N4YOYx",
        "colab_type": "code",
        "colab": {
          "base_uri": "https://localhost:8080/",
          "height": 1000
        },
        "outputId": "23243b17-5d86-4382-aded-1f6102dbe1c0"
      },
      "source": [
        "# 7.6 곱셈 문제 데이터 생성\n",
        "X = []\n",
        "Y = []\n",
        "for i in range(3000):\n",
        "    # 0~1 사이의 랜덤한 숫자 100 개를 만듭니다.\n",
        "    lst = np.random.rand(100)\n",
        "    # 마킹할 숫자 2개의 인덱스를 뽑습니다.\n",
        "    idx = np.random.choice(100, 2, replace=False)\n",
        "    # 마킹 인덱스가 저장된 원-핫 인코딩 벡터를 만듭니다.\n",
        "    zeros = np.zeros(100)\n",
        "    zeros[idx] = 1\n",
        "    # 마킹 인덱스와 랜덤한 숫자를 합쳐서 X 에 저장합니다.\n",
        "    X.append(np.array(list(zip(zeros, lst))))\n",
        "    # 마킹 인덱스가 1인 값들만 서로 곱해서 Y 에 저장합니다.\n",
        "    Y.append(np.prod(lst[idx]))\n",
        "    \n",
        "print(X[0], Y[0])"
      ],
      "execution_count": 7,
      "outputs": [
        {
          "output_type": "stream",
          "text": [
            "[[0.         0.30368489]\n",
            " [0.         0.78910309]\n",
            " [0.         0.22245149]\n",
            " [0.         0.15271601]\n",
            " [0.         0.15455128]\n",
            " [0.         0.55559807]\n",
            " [0.         0.19988398]\n",
            " [0.         0.89911759]\n",
            " [0.         0.52737961]\n",
            " [0.         0.78205865]\n",
            " [0.         0.18558637]\n",
            " [0.         0.5023655 ]\n",
            " [0.         0.12033025]\n",
            " [0.         0.49188363]\n",
            " [0.         0.59222643]\n",
            " [0.         0.91237911]\n",
            " [0.         0.89147605]\n",
            " [0.         0.19980285]\n",
            " [0.         0.39922542]\n",
            " [0.         0.91146961]\n",
            " [0.         0.12606129]\n",
            " [0.         0.39430348]\n",
            " [0.         0.67550638]\n",
            " [0.         0.86614383]\n",
            " [0.         0.43802091]\n",
            " [0.         0.83810176]\n",
            " [0.         0.13652229]\n",
            " [0.         0.68170204]\n",
            " [0.         0.55088314]\n",
            " [0.         0.68561036]\n",
            " [0.         0.29584247]\n",
            " [0.         0.63790272]\n",
            " [0.         0.34235445]\n",
            " [0.         0.1355643 ]\n",
            " [0.         0.84807258]\n",
            " [0.         0.51566954]\n",
            " [0.         0.02661618]\n",
            " [0.         0.36001058]\n",
            " [0.         0.59724534]\n",
            " [0.         0.76505484]\n",
            " [1.         0.50209689]\n",
            " [0.         0.8385914 ]\n",
            " [0.         0.04706605]\n",
            " [0.         0.76125333]\n",
            " [0.         0.37741686]\n",
            " [0.         0.8414032 ]\n",
            " [0.         0.69556998]\n",
            " [0.         0.73149261]\n",
            " [1.         0.84338809]\n",
            " [0.         0.04649078]\n",
            " [0.         0.99406552]\n",
            " [0.         0.80716485]\n",
            " [0.         0.40388677]\n",
            " [0.         0.02713029]\n",
            " [0.         0.56290755]\n",
            " [0.         0.71378998]\n",
            " [0.         0.91900374]\n",
            " [0.         0.27319513]\n",
            " [0.         0.97610104]\n",
            " [0.         0.19785544]\n",
            " [0.         0.60740445]\n",
            " [0.         0.46034758]\n",
            " [0.         0.11431247]\n",
            " [0.         0.05181149]\n",
            " [0.         0.27089619]\n",
            " [0.         0.61886313]\n",
            " [0.         0.47645621]\n",
            " [0.         0.58078427]\n",
            " [0.         0.56620011]\n",
            " [0.         0.26309553]\n",
            " [0.         0.61682645]\n",
            " [0.         0.82519553]\n",
            " [0.         0.55335288]\n",
            " [0.         0.11418644]\n",
            " [0.         0.97875159]\n",
            " [0.         0.99084583]\n",
            " [0.         0.7657332 ]\n",
            " [0.         0.71531221]\n",
            " [0.         0.74409201]\n",
            " [0.         0.8137245 ]\n",
            " [0.         0.44946602]\n",
            " [0.         0.69761013]\n",
            " [0.         0.15340207]\n",
            " [0.         0.51003149]\n",
            " [0.         0.03198531]\n",
            " [0.         0.09322258]\n",
            " [0.         0.31076357]\n",
            " [0.         0.13037261]\n",
            " [0.         0.07749   ]\n",
            " [0.         0.94262352]\n",
            " [0.         0.43454575]\n",
            " [0.         0.30832945]\n",
            " [0.         0.90075817]\n",
            " [0.         0.42838142]\n",
            " [0.         0.88715785]\n",
            " [0.         0.32177547]\n",
            " [0.         0.45861842]\n",
            " [0.         0.11839723]\n",
            " [0.         0.56563985]\n",
            " [0.         0.20550955]] 0.42346253860074196\n"
          ],
          "name": "stdout"
        }
      ]
    },
    {
      "cell_type": "code",
      "metadata": {
        "id": "QY2UJrqTckWJ",
        "colab_type": "code",
        "colab": {
          "base_uri": "https://localhost:8080/",
          "height": 269
        },
        "outputId": "cf525479-633c-489d-c24f-ef5f645df15c"
      },
      "source": [
        "# 7.7 SimpleRNN 레이어를 사용한 곱셈 문제 모델 정의\n",
        "model = tf.keras.Sequential([\n",
        "    tf.keras.layers.SimpleRNN(units=30, return_sequences=True, input_shape=[100,2]),\n",
        "    tf.keras.layers.SimpleRNN(units=30),\n",
        "    tf.keras.layers.Dense(1)\n",
        "])\n",
        "\n",
        "model.compile(optimizer='adam', loss='mse')\n",
        "model.summary()"
      ],
      "execution_count": 8,
      "outputs": [
        {
          "output_type": "stream",
          "text": [
            "Model: \"sequential_1\"\n",
            "_________________________________________________________________\n",
            "Layer (type)                 Output Shape              Param #   \n",
            "=================================================================\n",
            "simple_rnn_2 (SimpleRNN)     (None, 100, 30)           990       \n",
            "_________________________________________________________________\n",
            "simple_rnn_3 (SimpleRNN)     (None, 30)                1830      \n",
            "_________________________________________________________________\n",
            "dense_1 (Dense)              (None, 1)                 31        \n",
            "=================================================================\n",
            "Total params: 2,851\n",
            "Trainable params: 2,851\n",
            "Non-trainable params: 0\n",
            "_________________________________________________________________\n"
          ],
          "name": "stdout"
        }
      ]
    },
    {
      "cell_type": "code",
      "metadata": {
        "id": "RMlSsHQjc9vH",
        "colab_type": "code",
        "colab": {
          "base_uri": "https://localhost:8080/",
          "height": 1000
        },
        "outputId": "e3ffebdb-046d-435e-bf4e-5890efae83d7"
      },
      "source": [
        "# 7.8 SimpleRNN 네트워크 학습\n",
        "X = np.array(X)\n",
        "Y = np.array(Y)\n",
        "# 2560개의 데이터만 학습시킵니다. validation 데이터는 20% 로 지정합니다.\n",
        "history = model.fit(X[:2560], Y[:2560], epochs=100, validation_split=0.2)"
      ],
      "execution_count": 9,
      "outputs": [
        {
          "output_type": "stream",
          "text": [
            "Train on 2048 samples, validate on 512 samples\n",
            "Epoch 1/100\n",
            "2048/2048 [==============================] - 7s 3ms/sample - loss: 0.0752 - val_loss: 0.0485\n",
            "Epoch 2/100\n",
            "2048/2048 [==============================] - 7s 3ms/sample - loss: 0.0471 - val_loss: 0.0474\n",
            "Epoch 3/100\n",
            "2048/2048 [==============================] - 7s 3ms/sample - loss: 0.0473 - val_loss: 0.0497\n",
            "Epoch 4/100\n",
            "2048/2048 [==============================] - 7s 3ms/sample - loss: 0.0461 - val_loss: 0.0482\n",
            "Epoch 5/100\n",
            "2048/2048 [==============================] - 7s 3ms/sample - loss: 0.0464 - val_loss: 0.0478\n",
            "Epoch 6/100\n",
            "2048/2048 [==============================] - 7s 3ms/sample - loss: 0.0458 - val_loss: 0.0475\n",
            "Epoch 7/100\n",
            "2048/2048 [==============================] - 6s 3ms/sample - loss: 0.0468 - val_loss: 0.0474\n",
            "Epoch 8/100\n",
            "2048/2048 [==============================] - 7s 3ms/sample - loss: 0.0463 - val_loss: 0.0494\n",
            "Epoch 9/100\n",
            "2048/2048 [==============================] - 7s 3ms/sample - loss: 0.0464 - val_loss: 0.0477\n",
            "Epoch 10/100\n",
            "2048/2048 [==============================] - 7s 3ms/sample - loss: 0.0458 - val_loss: 0.0472\n",
            "Epoch 11/100\n",
            "2048/2048 [==============================] - 7s 3ms/sample - loss: 0.0453 - val_loss: 0.0476\n",
            "Epoch 12/100\n",
            "2048/2048 [==============================] - 7s 3ms/sample - loss: 0.0459 - val_loss: 0.0470\n",
            "Epoch 13/100\n",
            "2048/2048 [==============================] - 7s 3ms/sample - loss: 0.0451 - val_loss: 0.0495\n",
            "Epoch 14/100\n",
            "2048/2048 [==============================] - 7s 3ms/sample - loss: 0.0462 - val_loss: 0.0478\n",
            "Epoch 15/100\n",
            "2048/2048 [==============================] - 7s 3ms/sample - loss: 0.0457 - val_loss: 0.0472\n",
            "Epoch 16/100\n",
            "2048/2048 [==============================] - 7s 3ms/sample - loss: 0.0459 - val_loss: 0.0474\n",
            "Epoch 17/100\n",
            "2048/2048 [==============================] - 7s 3ms/sample - loss: 0.0449 - val_loss: 0.0474\n",
            "Epoch 18/100\n",
            "2048/2048 [==============================] - 7s 3ms/sample - loss: 0.0449 - val_loss: 0.0500\n",
            "Epoch 19/100\n",
            "2048/2048 [==============================] - 7s 3ms/sample - loss: 0.0456 - val_loss: 0.0495\n",
            "Epoch 20/100\n",
            "2048/2048 [==============================] - 7s 3ms/sample - loss: 0.0452 - val_loss: 0.0471\n",
            "Epoch 21/100\n",
            "2048/2048 [==============================] - 6s 3ms/sample - loss: 0.0452 - val_loss: 0.0471\n",
            "Epoch 22/100\n",
            "2048/2048 [==============================] - 7s 3ms/sample - loss: 0.0444 - val_loss: 0.0478\n",
            "Epoch 23/100\n",
            "2048/2048 [==============================] - 7s 3ms/sample - loss: 0.0445 - val_loss: 0.0490\n",
            "Epoch 24/100\n",
            "2048/2048 [==============================] - 7s 3ms/sample - loss: 0.0445 - val_loss: 0.0477\n",
            "Epoch 25/100\n",
            "2048/2048 [==============================] - 7s 3ms/sample - loss: 0.0451 - val_loss: 0.0477\n",
            "Epoch 26/100\n",
            "2048/2048 [==============================] - 7s 3ms/sample - loss: 0.0449 - val_loss: 0.0480\n",
            "Epoch 27/100\n",
            "2048/2048 [==============================] - 6s 3ms/sample - loss: 0.0456 - val_loss: 0.0472\n",
            "Epoch 28/100\n",
            "2048/2048 [==============================] - 6s 3ms/sample - loss: 0.0442 - val_loss: 0.0481\n",
            "Epoch 29/100\n",
            "2048/2048 [==============================] - 7s 3ms/sample - loss: 0.0443 - val_loss: 0.0484\n",
            "Epoch 30/100\n",
            "2048/2048 [==============================] - 6s 3ms/sample - loss: 0.0461 - val_loss: 0.0505\n",
            "Epoch 31/100\n",
            "2048/2048 [==============================] - 7s 3ms/sample - loss: 0.0437 - val_loss: 0.0477\n",
            "Epoch 32/100\n",
            "2048/2048 [==============================] - 6s 3ms/sample - loss: 0.0435 - val_loss: 0.0477\n",
            "Epoch 33/100\n",
            "2048/2048 [==============================] - 6s 3ms/sample - loss: 0.0446 - val_loss: 0.0510\n",
            "Epoch 34/100\n",
            "2048/2048 [==============================] - 6s 3ms/sample - loss: 0.0439 - val_loss: 0.0473\n",
            "Epoch 35/100\n",
            "2048/2048 [==============================] - 7s 3ms/sample - loss: 0.0434 - val_loss: 0.0493\n",
            "Epoch 36/100\n",
            "2048/2048 [==============================] - 6s 3ms/sample - loss: 0.0433 - val_loss: 0.0493\n",
            "Epoch 37/100\n",
            "2048/2048 [==============================] - 7s 3ms/sample - loss: 0.0437 - val_loss: 0.0489\n",
            "Epoch 38/100\n",
            "2048/2048 [==============================] - 7s 3ms/sample - loss: 0.0430 - val_loss: 0.0524\n",
            "Epoch 39/100\n",
            "2048/2048 [==============================] - 7s 3ms/sample - loss: 0.0439 - val_loss: 0.0469\n",
            "Epoch 40/100\n",
            "2048/2048 [==============================] - 6s 3ms/sample - loss: 0.0431 - val_loss: 0.0477\n",
            "Epoch 41/100\n",
            "2048/2048 [==============================] - 6s 3ms/sample - loss: 0.0425 - val_loss: 0.0478\n",
            "Epoch 42/100\n",
            "2048/2048 [==============================] - 7s 3ms/sample - loss: 0.0428 - val_loss: 0.0473\n",
            "Epoch 43/100\n",
            "2048/2048 [==============================] - 7s 3ms/sample - loss: 0.0428 - val_loss: 0.0487\n",
            "Epoch 44/100\n",
            "2048/2048 [==============================] - 6s 3ms/sample - loss: 0.0422 - val_loss: 0.0491\n",
            "Epoch 45/100\n",
            "2048/2048 [==============================] - 7s 3ms/sample - loss: 0.0439 - val_loss: 0.0497\n",
            "Epoch 46/100\n",
            "2048/2048 [==============================] - 6s 3ms/sample - loss: 0.0413 - val_loss: 0.0515\n",
            "Epoch 47/100\n",
            "2048/2048 [==============================] - 7s 3ms/sample - loss: 0.0415 - val_loss: 0.0500\n",
            "Epoch 48/100\n",
            "2048/2048 [==============================] - 7s 3ms/sample - loss: 0.0422 - val_loss: 0.0504\n",
            "Epoch 49/100\n",
            "2048/2048 [==============================] - 7s 3ms/sample - loss: 0.0417 - val_loss: 0.0501\n",
            "Epoch 50/100\n",
            "2048/2048 [==============================] - 7s 3ms/sample - loss: 0.0421 - val_loss: 0.0497\n",
            "Epoch 51/100\n",
            "2048/2048 [==============================] - 7s 3ms/sample - loss: 0.0405 - val_loss: 0.0498\n",
            "Epoch 52/100\n",
            "2048/2048 [==============================] - 6s 3ms/sample - loss: 0.0409 - val_loss: 0.0515\n",
            "Epoch 53/100\n",
            "2048/2048 [==============================] - 6s 3ms/sample - loss: 0.0402 - val_loss: 0.0587\n",
            "Epoch 54/100\n",
            "2048/2048 [==============================] - 7s 3ms/sample - loss: 0.0412 - val_loss: 0.0520\n",
            "Epoch 55/100\n",
            "2048/2048 [==============================] - 7s 3ms/sample - loss: 0.0403 - val_loss: 0.0480\n",
            "Epoch 56/100\n",
            "2048/2048 [==============================] - 7s 3ms/sample - loss: 0.0407 - val_loss: 0.0510\n",
            "Epoch 57/100\n",
            "2048/2048 [==============================] - 7s 3ms/sample - loss: 0.0405 - val_loss: 0.0526\n",
            "Epoch 58/100\n",
            "2048/2048 [==============================] - 7s 3ms/sample - loss: 0.0398 - val_loss: 0.0512\n",
            "Epoch 59/100\n",
            "2048/2048 [==============================] - 7s 3ms/sample - loss: 0.0396 - val_loss: 0.0533\n",
            "Epoch 60/100\n",
            "2048/2048 [==============================] - 7s 3ms/sample - loss: 0.0397 - val_loss: 0.0537\n",
            "Epoch 61/100\n",
            "2048/2048 [==============================] - 7s 3ms/sample - loss: 0.0387 - val_loss: 0.0567\n",
            "Epoch 62/100\n",
            "2048/2048 [==============================] - 6s 3ms/sample - loss: 0.0396 - val_loss: 0.0517\n",
            "Epoch 63/100\n",
            "2048/2048 [==============================] - 7s 3ms/sample - loss: 0.0385 - val_loss: 0.0498\n",
            "Epoch 64/100\n",
            "2048/2048 [==============================] - 7s 3ms/sample - loss: 0.0399 - val_loss: 0.0546\n",
            "Epoch 65/100\n",
            "2048/2048 [==============================] - 7s 3ms/sample - loss: 0.0387 - val_loss: 0.0554\n",
            "Epoch 66/100\n",
            "2048/2048 [==============================] - 7s 3ms/sample - loss: 0.0384 - val_loss: 0.0538\n",
            "Epoch 67/100\n",
            "2048/2048 [==============================] - 7s 3ms/sample - loss: 0.0378 - val_loss: 0.0541\n",
            "Epoch 68/100\n",
            "2048/2048 [==============================] - 6s 3ms/sample - loss: 0.0379 - val_loss: 0.0516\n",
            "Epoch 69/100\n",
            "2048/2048 [==============================] - 6s 3ms/sample - loss: 0.0372 - val_loss: 0.0540\n",
            "Epoch 70/100\n",
            "2048/2048 [==============================] - 7s 3ms/sample - loss: 0.0371 - val_loss: 0.0510\n",
            "Epoch 71/100\n",
            "2048/2048 [==============================] - 6s 3ms/sample - loss: 0.0382 - val_loss: 0.0530\n",
            "Epoch 72/100\n",
            "2048/2048 [==============================] - 6s 3ms/sample - loss: 0.0362 - val_loss: 0.0549\n",
            "Epoch 73/100\n",
            "2048/2048 [==============================] - 7s 3ms/sample - loss: 0.0364 - val_loss: 0.0560\n",
            "Epoch 74/100\n",
            "2048/2048 [==============================] - 7s 3ms/sample - loss: 0.0369 - val_loss: 0.0577\n",
            "Epoch 75/100\n",
            "2048/2048 [==============================] - 7s 3ms/sample - loss: 0.0360 - val_loss: 0.0542\n",
            "Epoch 76/100\n",
            "2048/2048 [==============================] - 6s 3ms/sample - loss: 0.0349 - val_loss: 0.0589\n",
            "Epoch 77/100\n",
            "2048/2048 [==============================] - 7s 3ms/sample - loss: 0.0348 - val_loss: 0.0563\n",
            "Epoch 78/100\n",
            "2048/2048 [==============================] - 7s 3ms/sample - loss: 0.0350 - val_loss: 0.0565\n",
            "Epoch 79/100\n",
            "2048/2048 [==============================] - 6s 3ms/sample - loss: 0.0349 - val_loss: 0.0533\n",
            "Epoch 80/100\n",
            "2048/2048 [==============================] - 7s 3ms/sample - loss: 0.0334 - val_loss: 0.0593\n",
            "Epoch 81/100\n",
            "2048/2048 [==============================] - 7s 3ms/sample - loss: 0.0339 - val_loss: 0.0565\n",
            "Epoch 82/100\n",
            "2048/2048 [==============================] - 7s 3ms/sample - loss: 0.0331 - val_loss: 0.0598\n",
            "Epoch 83/100\n",
            "2048/2048 [==============================] - 6s 3ms/sample - loss: 0.0335 - val_loss: 0.0575\n",
            "Epoch 84/100\n",
            "2048/2048 [==============================] - 6s 3ms/sample - loss: 0.0320 - val_loss: 0.0569\n",
            "Epoch 85/100\n",
            "2048/2048 [==============================] - 7s 3ms/sample - loss: 0.0324 - val_loss: 0.0597\n",
            "Epoch 86/100\n",
            "2048/2048 [==============================] - 7s 3ms/sample - loss: 0.0325 - val_loss: 0.0591\n",
            "Epoch 87/100\n",
            "2048/2048 [==============================] - 6s 3ms/sample - loss: 0.0322 - val_loss: 0.0583\n",
            "Epoch 88/100\n",
            "2048/2048 [==============================] - 7s 3ms/sample - loss: 0.0311 - val_loss: 0.0655\n",
            "Epoch 89/100\n",
            "2048/2048 [==============================] - 7s 3ms/sample - loss: 0.0312 - val_loss: 0.0607\n",
            "Epoch 90/100\n",
            "2048/2048 [==============================] - 7s 3ms/sample - loss: 0.0311 - val_loss: 0.0587\n",
            "Epoch 91/100\n",
            "2048/2048 [==============================] - 6s 3ms/sample - loss: 0.0305 - val_loss: 0.0634\n",
            "Epoch 92/100\n",
            "2048/2048 [==============================] - 7s 3ms/sample - loss: 0.0298 - val_loss: 0.0644\n",
            "Epoch 93/100\n",
            "2048/2048 [==============================] - 7s 3ms/sample - loss: 0.0292 - val_loss: 0.0650\n",
            "Epoch 94/100\n",
            "2048/2048 [==============================] - 7s 3ms/sample - loss: 0.0286 - val_loss: 0.0656\n",
            "Epoch 95/100\n",
            "2048/2048 [==============================] - 7s 3ms/sample - loss: 0.0288 - val_loss: 0.0630\n",
            "Epoch 96/100\n",
            "2048/2048 [==============================] - 6s 3ms/sample - loss: 0.0290 - val_loss: 0.0660\n",
            "Epoch 97/100\n",
            "2048/2048 [==============================] - 7s 3ms/sample - loss: 0.0281 - val_loss: 0.0636\n",
            "Epoch 98/100\n",
            "2048/2048 [==============================] - 6s 3ms/sample - loss: 0.0270 - val_loss: 0.0662\n",
            "Epoch 99/100\n",
            "2048/2048 [==============================] - 7s 3ms/sample - loss: 0.0271 - val_loss: 0.0625\n",
            "Epoch 100/100\n",
            "2048/2048 [==============================] - 7s 3ms/sample - loss: 0.0263 - val_loss: 0.0650\n"
          ],
          "name": "stdout"
        }
      ]
    },
    {
      "cell_type": "code",
      "metadata": {
        "id": "k-f26zEcdKgH",
        "colab_type": "code",
        "colab": {
          "base_uri": "https://localhost:8080/",
          "height": 279
        },
        "outputId": "22a856b5-77f3-4b42-9dab-9b47161043a2"
      },
      "source": [
        "# 7.9 SimpleRNN 네트워크 학습 결과 확인\n",
        "import matplotlib.pyplot as plt\n",
        "plt.plot(history.history['loss'], 'b-', label='loss')\n",
        "plt.plot(history.history['val_loss'], 'r--', label='val_loss')\n",
        "plt.xlabel('Epoch')\n",
        "plt.legend()\n",
        "plt.show()"
      ],
      "execution_count": 10,
      "outputs": [
        {
          "output_type": "display_data",
          "data": {
            "image/png": "[encoded data removed]",
            "text/plain": [
              "<Figure size 432x288 with 1 Axes>"
            ]
          },
          "metadata": {
            "tags": []
          }
        }
      ]
    },
    {
      "cell_type": "code",
      "metadata": {
        "id": "oHc0-sQshHQw",
        "colab_type": "code",
        "colab": {
          "base_uri": "https://localhost:8080/",
          "height": 143
        },
        "outputId": "4b8e8e69-d614-4769-f70f-16496049bd99"
      },
      "source": [
        "# 7.10 Test 데이터에 대한 예측 정확도 확인\n",
        "model.evaluate(X[2560:], Y[2560:])\n",
        "prediction = model.predict(X[2560:2560+5])\n",
        "# 5개 테스트 데이터에 대한 예측을 표시합니다.\n",
        "for i in range(5):\n",
        "    print(Y[2560+i], '\\t', prediction[i][0], '\\tdiff:', abs(prediction[i][0] - Y[2560+i]))\n",
        "    \n",
        "prediction = model.predict(X[2560:])\n",
        "fail = 0\n",
        "for i in range(len(prediction)):\n",
        "    # 오차가 0.04 이상이면 오답입니다.\n",
        "    if abs(prediction[i][0] - Y[2560+i]) > 0.04:\n",
        "        fail += 1\n",
        "print('correctness:', (440 - fail) / 440 * 100, '%')"
      ],
      "execution_count": 11,
      "outputs": [
        {
          "output_type": "stream",
          "text": [
            "440/440 [==============================] - 0s 805us/sample - loss: 0.0674\n",
            "0.3086555988413602 \t 0.6564365 \tdiff: 0.347780904092142\n",
            "0.0068629519465001464 \t 0.48841658 \tdiff: 0.48155363039946236\n",
            "0.5237953747841952 \t 0.12759723 \tdiff: 0.3961981470915912\n",
            "0.08709619625243772 \t 0.32435048 \tdiff: 0.2372542800125159\n",
            "0.4376509525255051 \t 0.15827335 \tdiff: 0.2793775983527985\n",
            "correctness: 10.0 %\n"
          ],
          "name": "stdout"
        }
      ]
    },
    {
      "cell_type": "code",
      "metadata": {
        "id": "YG9n9IOSiG_t",
        "colab_type": "code",
        "colab": {
          "base_uri": "https://localhost:8080/",
          "height": 269
        },
        "outputId": "d0bfafe7-931c-4ff6-a0c0-01711efbd2dd"
      },
      "source": [
        "# 7.11 LSTM 레이어를 사용한 곱셈 문제 모델 정의\n",
        "model = tf.keras.Sequential([\n",
        "    tf.keras.layers.LSTM(units=30, return_sequences=True, input_shape=[100,2]),\n",
        "    tf.keras.layers.LSTM(units=30),\n",
        "    tf.keras.layers.Dense(1)\n",
        "])\n",
        "\n",
        "model.compile(optimizer='adam', loss='mse')\n",
        "model.summary()"
      ],
      "execution_count": 12,
      "outputs": [
        {
          "output_type": "stream",
          "text": [
            "Model: \"sequential_2\"\n",
            "_________________________________________________________________\n",
            "Layer (type)                 Output Shape              Param #   \n",
            "=================================================================\n",
            "lstm (LSTM)                  (None, 100, 30)           3960      \n",
            "_________________________________________________________________\n",
            "lstm_1 (LSTM)                (None, 30)                7320      \n",
            "_________________________________________________________________\n",
            "dense_2 (Dense)              (None, 1)                 31        \n",
            "=================================================================\n",
            "Total params: 11,311\n",
            "Trainable params: 11,311\n",
            "Non-trainable params: 0\n",
            "_________________________________________________________________\n"
          ],
          "name": "stdout"
        }
      ]
    },
    {
      "cell_type": "code",
      "metadata": {
        "id": "GtFnBpQViJbm",
        "colab_type": "code",
        "colab": {
          "base_uri": "https://localhost:8080/",
          "height": 1000
        },
        "outputId": "30a2429b-477a-4438-9010-1a79745ac43f"
      },
      "source": [
        "# 7.12 LSTM 네트워크 학습\n",
        "X = np.array(X)\n",
        "Y = np.array(Y)\n",
        "history = model.fit(X[:2560], Y[:2560], epochs=100, validation_split=0.2)"
      ],
      "execution_count": 13,
      "outputs": [
        {
          "output_type": "stream",
          "text": [
            "Train on 2048 samples, validate on 512 samples\n",
            "Epoch 1/100\n",
            "2048/2048 [==============================] - 3s 2ms/sample - loss: 0.0498 - val_loss: 0.0465\n",
            "Epoch 2/100\n",
            "2048/2048 [==============================] - 1s 342us/sample - loss: 0.0450 - val_loss: 0.0465\n",
            "Epoch 3/100\n",
            "2048/2048 [==============================] - 1s 352us/sample - loss: 0.0452 - val_loss: 0.0467\n",
            "Epoch 4/100\n",
            "2048/2048 [==============================] - 1s 345us/sample - loss: 0.0453 - val_loss: 0.0465\n",
            "Epoch 5/100\n",
            "2048/2048 [==============================] - 1s 349us/sample - loss: 0.0450 - val_loss: 0.0465\n",
            "Epoch 6/100\n",
            "2048/2048 [==============================] - 1s 343us/sample - loss: 0.0451 - val_loss: 0.0465\n",
            "Epoch 7/100\n",
            "2048/2048 [==============================] - 1s 349us/sample - loss: 0.0451 - val_loss: 0.0463\n",
            "Epoch 8/100\n",
            "2048/2048 [==============================] - 1s 345us/sample - loss: 0.0450 - val_loss: 0.0464\n",
            "Epoch 9/100\n",
            "2048/2048 [==============================] - 1s 344us/sample - loss: 0.0450 - val_loss: 0.0464\n",
            "Epoch 10/100\n",
            "2048/2048 [==============================] - 1s 344us/sample - loss: 0.0447 - val_loss: 0.0461\n",
            "Epoch 11/100\n",
            "2048/2048 [==============================] - 1s 348us/sample - loss: 0.0445 - val_loss: 0.0479\n",
            "Epoch 12/100\n",
            "2048/2048 [==============================] - 1s 347us/sample - loss: 0.0450 - val_loss: 0.0462\n",
            "Epoch 13/100\n",
            "2048/2048 [==============================] - 1s 342us/sample - loss: 0.0447 - val_loss: 0.0458\n",
            "Epoch 14/100\n",
            "2048/2048 [==============================] - 1s 351us/sample - loss: 0.0446 - val_loss: 0.0462\n",
            "Epoch 15/100\n",
            "2048/2048 [==============================] - 1s 341us/sample - loss: 0.0445 - val_loss: 0.0464\n",
            "Epoch 16/100\n",
            "2048/2048 [==============================] - 1s 364us/sample - loss: 0.0445 - val_loss: 0.0456\n",
            "Epoch 17/100\n",
            "2048/2048 [==============================] - 1s 359us/sample - loss: 0.0444 - val_loss: 0.0454\n",
            "Epoch 18/100\n",
            "2048/2048 [==============================] - 1s 358us/sample - loss: 0.0445 - val_loss: 0.0459\n",
            "Epoch 19/100\n",
            "2048/2048 [==============================] - 1s 349us/sample - loss: 0.0445 - val_loss: 0.0465\n",
            "Epoch 20/100\n",
            "2048/2048 [==============================] - 1s 352us/sample - loss: 0.0443 - val_loss: 0.0486\n",
            "Epoch 21/100\n",
            "2048/2048 [==============================] - 1s 351us/sample - loss: 0.0442 - val_loss: 0.0463\n",
            "Epoch 22/100\n",
            "2048/2048 [==============================] - 1s 347us/sample - loss: 0.0435 - val_loss: 0.0460\n",
            "Epoch 23/100\n",
            "2048/2048 [==============================] - 1s 353us/sample - loss: 0.0440 - val_loss: 0.0441\n",
            "Epoch 24/100\n",
            "2048/2048 [==============================] - 1s 354us/sample - loss: 0.0446 - val_loss: 0.0455\n",
            "Epoch 25/100\n",
            "2048/2048 [==============================] - 1s 343us/sample - loss: 0.0438 - val_loss: 0.0443\n",
            "Epoch 26/100\n",
            "2048/2048 [==============================] - 1s 355us/sample - loss: 0.0435 - val_loss: 0.0458\n",
            "Epoch 27/100\n",
            "2048/2048 [==============================] - 1s 350us/sample - loss: 0.0443 - val_loss: 0.0454\n",
            "Epoch 28/100\n",
            "2048/2048 [==============================] - 1s 351us/sample - loss: 0.0430 - val_loss: 0.0434\n",
            "Epoch 29/100\n",
            "2048/2048 [==============================] - 1s 349us/sample - loss: 0.0421 - val_loss: 0.0445\n",
            "Epoch 30/100\n",
            "2048/2048 [==============================] - 1s 361us/sample - loss: 0.0406 - val_loss: 0.0351\n",
            "Epoch 31/100\n",
            "2048/2048 [==============================] - 1s 356us/sample - loss: 0.0331 - val_loss: 0.0451\n",
            "Epoch 32/100\n",
            "2048/2048 [==============================] - 1s 343us/sample - loss: 0.0300 - val_loss: 0.0265\n",
            "Epoch 33/100\n",
            "2048/2048 [==============================] - 1s 356us/sample - loss: 0.0144 - val_loss: 0.0194\n",
            "Epoch 34/100\n",
            "2048/2048 [==============================] - 1s 346us/sample - loss: 0.0158 - val_loss: 0.0203\n",
            "Epoch 35/100\n",
            "2048/2048 [==============================] - 1s 347us/sample - loss: 0.0095 - val_loss: 0.0123\n",
            "Epoch 36/100\n",
            "2048/2048 [==============================] - 1s 345us/sample - loss: 0.0085 - val_loss: 0.0110\n",
            "Epoch 37/100\n",
            "2048/2048 [==============================] - 1s 346us/sample - loss: 0.0089 - val_loss: 0.0067\n",
            "Epoch 38/100\n",
            "2048/2048 [==============================] - 1s 343us/sample - loss: 0.0058 - val_loss: 0.0135\n",
            "Epoch 39/100\n",
            "2048/2048 [==============================] - 1s 344us/sample - loss: 0.0063 - val_loss: 0.0054\n",
            "Epoch 40/100\n",
            "2048/2048 [==============================] - 1s 347us/sample - loss: 0.0059 - val_loss: 0.0056\n",
            "Epoch 41/100\n",
            "2048/2048 [==============================] - 1s 344us/sample - loss: 0.0048 - val_loss: 0.0059\n",
            "Epoch 42/100\n",
            "2048/2048 [==============================] - 1s 343us/sample - loss: 0.0053 - val_loss: 0.0105\n",
            "Epoch 43/100\n",
            "2048/2048 [==============================] - 1s 348us/sample - loss: 0.0050 - val_loss: 0.0054\n",
            "Epoch 44/100\n",
            "2048/2048 [==============================] - 1s 347us/sample - loss: 0.0041 - val_loss: 0.0088\n",
            "Epoch 45/100\n",
            "2048/2048 [==============================] - 1s 342us/sample - loss: 0.0041 - val_loss: 0.0046\n",
            "Epoch 46/100\n",
            "2048/2048 [==============================] - 1s 350us/sample - loss: 0.0039 - val_loss: 0.0029\n",
            "Epoch 47/100\n",
            "2048/2048 [==============================] - 1s 350us/sample - loss: 0.0033 - val_loss: 0.0028\n",
            "Epoch 48/100\n",
            "2048/2048 [==============================] - 1s 348us/sample - loss: 0.0025 - val_loss: 0.0033\n",
            "Epoch 49/100\n",
            "2048/2048 [==============================] - 1s 349us/sample - loss: 0.0025 - val_loss: 0.0023\n",
            "Epoch 50/100\n",
            "2048/2048 [==============================] - 1s 347us/sample - loss: 0.0018 - val_loss: 0.0021\n",
            "Epoch 51/100\n",
            "2048/2048 [==============================] - 1s 344us/sample - loss: 0.0021 - val_loss: 0.0026\n",
            "Epoch 52/100\n",
            "2048/2048 [==============================] - 1s 342us/sample - loss: 0.0020 - val_loss: 0.0020\n",
            "Epoch 53/100\n",
            "2048/2048 [==============================] - 1s 349us/sample - loss: 0.0014 - val_loss: 0.0019\n",
            "Epoch 54/100\n",
            "2048/2048 [==============================] - 1s 348us/sample - loss: 0.0015 - val_loss: 0.0023\n",
            "Epoch 55/100\n",
            "2048/2048 [==============================] - 1s 349us/sample - loss: 0.0015 - val_loss: 0.0025\n",
            "Epoch 56/100\n",
            "2048/2048 [==============================] - 1s 342us/sample - loss: 0.0013 - val_loss: 0.0019\n",
            "Epoch 57/100\n",
            "2048/2048 [==============================] - 1s 350us/sample - loss: 0.0012 - val_loss: 0.0020\n",
            "Epoch 58/100\n",
            "2048/2048 [==============================] - 1s 344us/sample - loss: 0.0013 - val_loss: 0.0014\n",
            "Epoch 59/100\n",
            "2048/2048 [==============================] - 1s 354us/sample - loss: 0.0011 - val_loss: 0.0015\n",
            "Epoch 60/100\n",
            "2048/2048 [==============================] - 1s 354us/sample - loss: 0.0011 - val_loss: 0.0013\n",
            "Epoch 61/100\n",
            "2048/2048 [==============================] - 1s 351us/sample - loss: 0.0011 - val_loss: 0.0012\n",
            "Epoch 62/100\n",
            "2048/2048 [==============================] - 1s 347us/sample - loss: 0.0010 - val_loss: 0.0015\n",
            "Epoch 63/100\n",
            "2048/2048 [==============================] - 1s 351us/sample - loss: 0.0011 - val_loss: 0.0015\n",
            "Epoch 64/100\n",
            "2048/2048 [==============================] - 1s 347us/sample - loss: 7.8741e-04 - val_loss: 0.0011\n",
            "Epoch 65/100\n",
            "2048/2048 [==============================] - 1s 350us/sample - loss: 6.9102e-04 - val_loss: 0.0014\n",
            "Epoch 66/100\n",
            "2048/2048 [==============================] - 1s 349us/sample - loss: 9.2960e-04 - val_loss: 0.0013\n",
            "Epoch 67/100\n",
            "2048/2048 [==============================] - 1s 348us/sample - loss: 8.5331e-04 - val_loss: 0.0019\n",
            "Epoch 68/100\n",
            "2048/2048 [==============================] - 1s 343us/sample - loss: 0.0010 - val_loss: 9.5338e-04\n",
            "Epoch 69/100\n",
            "2048/2048 [==============================] - 1s 358us/sample - loss: 0.0012 - val_loss: 0.0012\n",
            "Epoch 70/100\n",
            "2048/2048 [==============================] - 1s 365us/sample - loss: 0.0011 - val_loss: 9.1695e-04\n",
            "Epoch 71/100\n",
            "2048/2048 [==============================] - 1s 355us/sample - loss: 6.7339e-04 - val_loss: 0.0011\n",
            "Epoch 72/100\n",
            "2048/2048 [==============================] - 1s 343us/sample - loss: 7.2759e-04 - val_loss: 8.6349e-04\n",
            "Epoch 73/100\n",
            "2048/2048 [==============================] - 1s 350us/sample - loss: 7.1173e-04 - val_loss: 7.8726e-04\n",
            "Epoch 74/100\n",
            "2048/2048 [==============================] - 1s 349us/sample - loss: 5.2922e-04 - val_loss: 8.3603e-04\n",
            "Epoch 75/100\n",
            "2048/2048 [==============================] - 1s 342us/sample - loss: 4.9807e-04 - val_loss: 8.0305e-04\n",
            "Epoch 76/100\n",
            "2048/2048 [==============================] - 1s 347us/sample - loss: 5.8132e-04 - val_loss: 7.1525e-04\n",
            "Epoch 77/100\n",
            "2048/2048 [==============================] - 1s 348us/sample - loss: 5.6695e-04 - val_loss: 9.0741e-04\n",
            "Epoch 78/100\n",
            "2048/2048 [==============================] - 1s 343us/sample - loss: 5.6442e-04 - val_loss: 7.1399e-04\n",
            "Epoch 79/100\n",
            "2048/2048 [==============================] - 1s 349us/sample - loss: 4.9748e-04 - val_loss: 9.1811e-04\n",
            "Epoch 80/100\n",
            "2048/2048 [==============================] - 1s 349us/sample - loss: 5.0869e-04 - val_loss: 7.6622e-04\n",
            "Epoch 81/100\n",
            "2048/2048 [==============================] - 1s 346us/sample - loss: 5.6750e-04 - val_loss: 6.9834e-04\n",
            "Epoch 82/100\n",
            "2048/2048 [==============================] - 1s 351us/sample - loss: 4.4435e-04 - val_loss: 0.0011\n",
            "Epoch 83/100\n",
            "2048/2048 [==============================] - 1s 345us/sample - loss: 4.8904e-04 - val_loss: 6.4190e-04\n",
            "Epoch 84/100\n",
            "2048/2048 [==============================] - 1s 348us/sample - loss: 5.8567e-04 - val_loss: 6.3730e-04\n",
            "Epoch 85/100\n",
            "2048/2048 [==============================] - 1s 346us/sample - loss: 5.8303e-04 - val_loss: 7.0458e-04\n",
            "Epoch 86/100\n",
            "2048/2048 [==============================] - 1s 349us/sample - loss: 5.2472e-04 - val_loss: 6.6945e-04\n",
            "Epoch 87/100\n",
            "2048/2048 [==============================] - 1s 347us/sample - loss: 5.0931e-04 - val_loss: 4.8945e-04\n",
            "Epoch 88/100\n",
            "2048/2048 [==============================] - 1s 342us/sample - loss: 4.4762e-04 - val_loss: 8.0336e-04\n",
            "Epoch 89/100\n",
            "2048/2048 [==============================] - 1s 353us/sample - loss: 6.5294e-04 - val_loss: 0.0025\n",
            "Epoch 90/100\n",
            "2048/2048 [==============================] - 1s 347us/sample - loss: 6.8195e-04 - val_loss: 4.5560e-04\n",
            "Epoch 91/100\n",
            "2048/2048 [==============================] - 1s 347us/sample - loss: 5.3937e-04 - val_loss: 6.3912e-04\n",
            "Epoch 92/100\n",
            "2048/2048 [==============================] - 1s 346us/sample - loss: 5.0013e-04 - val_loss: 5.8146e-04\n",
            "Epoch 93/100\n",
            "2048/2048 [==============================] - 1s 350us/sample - loss: 7.4820e-04 - val_loss: 0.0018\n",
            "Epoch 94/100\n",
            "2048/2048 [==============================] - 1s 346us/sample - loss: 5.0994e-04 - val_loss: 4.7029e-04\n",
            "Epoch 95/100\n",
            "2048/2048 [==============================] - 1s 355us/sample - loss: 3.1184e-04 - val_loss: 6.9021e-04\n",
            "Epoch 96/100\n",
            "2048/2048 [==============================] - 1s 355us/sample - loss: 4.5668e-04 - val_loss: 4.6703e-04\n",
            "Epoch 97/100\n",
            "2048/2048 [==============================] - 1s 360us/sample - loss: 3.5207e-04 - val_loss: 3.9282e-04\n",
            "Epoch 98/100\n",
            "2048/2048 [==============================] - 1s 350us/sample - loss: 3.0893e-04 - val_loss: 3.5380e-04\n",
            "Epoch 99/100\n",
            "2048/2048 [==============================] - 1s 350us/sample - loss: 2.7039e-04 - val_loss: 3.4331e-04\n",
            "Epoch 100/100\n",
            "2048/2048 [==============================] - 1s 349us/sample - loss: 3.7916e-04 - val_loss: 4.0001e-04\n"
          ],
          "name": "stdout"
        }
      ]
    },
    {
      "cell_type": "code",
      "metadata": {
        "id": "k2Hbr-jJjkwn",
        "colab_type": "code",
        "colab": {
          "base_uri": "https://localhost:8080/",
          "height": 279
        },
        "outputId": "49225b94-ede8-4caf-c7ce-2f7093307da2"
      },
      "source": [
        "# 7.13 LSTM 네트워크 학습 결과 확인\n",
        "import matplotlib.pyplot as plt\n",
        "plt.plot(history.history['loss'], 'b-', label='loss')\n",
        "plt.plot(history.history['val_loss'], 'r--', label='val_loss')\n",
        "plt.xlabel('Epoch')\n",
        "plt.legend()\n",
        "plt.show()"
      ],
      "execution_count": 14,
      "outputs": [
        {
          "output_type": "display_data",
          "data": {
            "image/png": "[encoded data removed]",
            "text/plain": [
              "<Figure size 432x288 with 1 Axes>"
            ]
          },
          "metadata": {
            "tags": []
          }
        }
      ]
    },
    {
      "cell_type": "code",
      "metadata": {
        "id": "RShpj3ubjsF9",
        "colab_type": "code",
        "colab": {
          "base_uri": "https://localhost:8080/",
          "height": 143
        },
        "outputId": "1eccfe91-873f-43ae-9c88-76923bfe1545"
      },
      "source": [
        "# 7.14 Test 데이터에 대한 예측 정확도 확인\n",
        "model.evaluate(X[2560:], Y[2560:])\n",
        "prediction = model.predict(X[2560:2560+5])\n",
        "for i in range(5):\n",
        "    print(Y[2560+i], '\\t', prediction[i][0], '\\tdiff:', abs(prediction[i][0] - Y[2560+i]))\n",
        "    \n",
        "prediction = model.predict(X[2560:])\n",
        "cnt = 0\n",
        "for i in range(len(prediction)):\n",
        "    if abs(prediction[i][0] - Y[2560+i]) > 0.04:\n",
        "        cnt += 1\n",
        "print('correctness:', (440 - cnt) / 440 * 100, '%')"
      ],
      "execution_count": 15,
      "outputs": [
        {
          "output_type": "stream",
          "text": [
            "440/440 [==============================] - 0s 1ms/sample - loss: 3.1467e-04\n",
            "0.3086555988413602 \t 0.30174103 \tdiff: 0.006914565048864452\n",
            "0.0068629519465001464 \t 0.011822302 \tdiff: 0.004959349947926199\n",
            "0.5237953747841952 \t 0.5153989 \tdiff: 0.008396455201828301\n",
            "0.08709619625243772 \t 0.08126643 \tdiff: 0.005829763251873149\n",
            "0.4376509525255051 \t 0.43995708 \tdiff: 0.0023061297460708063\n",
            "correctness: 95.22727272727273 %\n"
          ],
          "name": "stdout"
        }
      ]
    },
    {
      "cell_type": "code",
      "metadata": {
        "id": "EcLHWFfUjwBV",
        "colab_type": "code",
        "colab": {
          "base_uri": "https://localhost:8080/",
          "height": 269
        },
        "outputId": "8f7ada36-0c39-4841-95b6-fc00f539e015"
      },
      "source": [
        "# 7.15 GRU 레이어를 사용한 곱셈 문제 모델 정의\n",
        "model = tf.keras.Sequential([\n",
        "    tf.keras.layers.GRU(units=30, return_sequences=True, input_shape=[100,2]),\n",
        "    tf.keras.layers.GRU(units=30),\n",
        "    tf.keras.layers.Dense(1)\n",
        "])\n",
        "\n",
        "model.compile(optimizer='adam', loss='mse')\n",
        "model.summary()"
      ],
      "execution_count": 16,
      "outputs": [
        {
          "output_type": "stream",
          "text": [
            "Model: \"sequential_3\"\n",
            "_________________________________________________________________\n",
            "Layer (type)                 Output Shape              Param #   \n",
            "=================================================================\n",
            "gru (GRU)                    (None, 100, 30)           3060      \n",
            "_________________________________________________________________\n",
            "gru_1 (GRU)                  (None, 30)                5580      \n",
            "_________________________________________________________________\n",
            "dense_3 (Dense)              (None, 1)                 31        \n",
            "=================================================================\n",
            "Total params: 8,671\n",
            "Trainable params: 8,671\n",
            "Non-trainable params: 0\n",
            "_________________________________________________________________\n"
          ],
          "name": "stdout"
        }
      ]
    },
    {
      "cell_type": "code",
      "metadata": {
        "id": "HfnnOyO-j2x0",
        "colab_type": "code",
        "colab": {
          "base_uri": "https://localhost:8080/",
          "height": 1000
        },
        "outputId": "507245ee-efb4-437c-c760-6054c7ece46b"
      },
      "source": [
        "# 7.16 GRU 네트워크 학습\n",
        "X = np.array(X)\n",
        "Y = np.array(Y)\n",
        "history = model.fit(X[:2560], Y[:2560], epochs=100, validation_split=0.2)"
      ],
      "execution_count": 17,
      "outputs": [
        {
          "output_type": "stream",
          "text": [
            "Train on 2048 samples, validate on 512 samples\n",
            "Epoch 1/100\n",
            "2048/2048 [==============================] - 3s 1ms/sample - loss: 0.0501 - val_loss: 0.0479\n",
            "Epoch 2/100\n",
            "2048/2048 [==============================] - 1s 402us/sample - loss: 0.0454 - val_loss: 0.0465\n",
            "Epoch 3/100\n",
            "2048/2048 [==============================] - 1s 391us/sample - loss: 0.0451 - val_loss: 0.0471\n",
            "Epoch 4/100\n",
            "2048/2048 [==============================] - 1s 384us/sample - loss: 0.0453 - val_loss: 0.0465\n",
            "Epoch 5/100\n",
            "2048/2048 [==============================] - 1s 379us/sample - loss: 0.0453 - val_loss: 0.0467\n",
            "Epoch 6/100\n",
            "2048/2048 [==============================] - 1s 381us/sample - loss: 0.0452 - val_loss: 0.0463\n",
            "Epoch 7/100\n",
            "2048/2048 [==============================] - 1s 377us/sample - loss: 0.0451 - val_loss: 0.0469\n",
            "Epoch 8/100\n",
            "2048/2048 [==============================] - 1s 398us/sample - loss: 0.0448 - val_loss: 0.0461\n",
            "Epoch 9/100\n",
            "2048/2048 [==============================] - 1s 386us/sample - loss: 0.0450 - val_loss: 0.0462\n",
            "Epoch 10/100\n",
            "2048/2048 [==============================] - 1s 376us/sample - loss: 0.0449 - val_loss: 0.0459\n",
            "Epoch 11/100\n",
            "2048/2048 [==============================] - 1s 380us/sample - loss: 0.0450 - val_loss: 0.0460\n",
            "Epoch 12/100\n",
            "2048/2048 [==============================] - 1s 371us/sample - loss: 0.0446 - val_loss: 0.0458\n",
            "Epoch 13/100\n",
            "2048/2048 [==============================] - 1s 379us/sample - loss: 0.0445 - val_loss: 0.0455\n",
            "Epoch 14/100\n",
            "2048/2048 [==============================] - 1s 373us/sample - loss: 0.0443 - val_loss: 0.0455\n",
            "Epoch 15/100\n",
            "2048/2048 [==============================] - 1s 374us/sample - loss: 0.0442 - val_loss: 0.0466\n",
            "Epoch 16/100\n",
            "2048/2048 [==============================] - 1s 377us/sample - loss: 0.0447 - val_loss: 0.0450\n",
            "Epoch 17/100\n",
            "2048/2048 [==============================] - 1s 371us/sample - loss: 0.0433 - val_loss: 0.0433\n",
            "Epoch 18/100\n",
            "2048/2048 [==============================] - 1s 376us/sample - loss: 0.0408 - val_loss: 0.0381\n",
            "Epoch 19/100\n",
            "2048/2048 [==============================] - 1s 376us/sample - loss: 0.0245 - val_loss: 0.0123\n",
            "Epoch 20/100\n",
            "2048/2048 [==============================] - 1s 378us/sample - loss: 0.0080 - val_loss: 0.0047\n",
            "Epoch 21/100\n",
            "2048/2048 [==============================] - 1s 369us/sample - loss: 0.0032 - val_loss: 0.0030\n",
            "Epoch 22/100\n",
            "2048/2048 [==============================] - 1s 379us/sample - loss: 0.0024 - val_loss: 0.0024\n",
            "Epoch 23/100\n",
            "2048/2048 [==============================] - 1s 375us/sample - loss: 0.0020 - val_loss: 0.0020\n",
            "Epoch 24/100\n",
            "2048/2048 [==============================] - 1s 382us/sample - loss: 0.0017 - val_loss: 0.0019\n",
            "Epoch 25/100\n",
            "2048/2048 [==============================] - 1s 365us/sample - loss: 0.0015 - val_loss: 0.0016\n",
            "Epoch 26/100\n",
            "2048/2048 [==============================] - 1s 377us/sample - loss: 0.0015 - val_loss: 0.0015\n",
            "Epoch 27/100\n",
            "2048/2048 [==============================] - 1s 372us/sample - loss: 0.0014 - val_loss: 0.0015\n",
            "Epoch 28/100\n",
            "2048/2048 [==============================] - 1s 375us/sample - loss: 0.0011 - val_loss: 0.0013\n",
            "Epoch 29/100\n",
            "2048/2048 [==============================] - 1s 375us/sample - loss: 9.5994e-04 - val_loss: 0.0012\n",
            "Epoch 30/100\n",
            "2048/2048 [==============================] - 1s 368us/sample - loss: 9.5599e-04 - val_loss: 0.0013\n",
            "Epoch 31/100\n",
            "2048/2048 [==============================] - 1s 376us/sample - loss: 9.5532e-04 - val_loss: 0.0012\n",
            "Epoch 32/100\n",
            "2048/2048 [==============================] - 1s 374us/sample - loss: 7.5030e-04 - val_loss: 0.0012\n",
            "Epoch 33/100\n",
            "2048/2048 [==============================] - 1s 372us/sample - loss: 7.3830e-04 - val_loss: 9.8143e-04\n",
            "Epoch 34/100\n",
            "2048/2048 [==============================] - 1s 374us/sample - loss: 6.3380e-04 - val_loss: 8.6605e-04\n",
            "Epoch 35/100\n",
            "2048/2048 [==============================] - 1s 374us/sample - loss: 6.1899e-04 - val_loss: 8.4887e-04\n",
            "Epoch 36/100\n",
            "2048/2048 [==============================] - 1s 376us/sample - loss: 6.1211e-04 - val_loss: 8.2412e-04\n",
            "Epoch 37/100\n",
            "2048/2048 [==============================] - 1s 373us/sample - loss: 5.6324e-04 - val_loss: 8.8087e-04\n",
            "Epoch 38/100\n",
            "2048/2048 [==============================] - 1s 376us/sample - loss: 5.3407e-04 - val_loss: 7.3041e-04\n",
            "Epoch 39/100\n",
            "2048/2048 [==============================] - 1s 372us/sample - loss: 5.2062e-04 - val_loss: 7.4031e-04\n",
            "Epoch 40/100\n",
            "2048/2048 [==============================] - 1s 374us/sample - loss: 5.6862e-04 - val_loss: 6.8027e-04\n",
            "Epoch 41/100\n",
            "2048/2048 [==============================] - 1s 369us/sample - loss: 4.3334e-04 - val_loss: 6.4913e-04\n",
            "Epoch 42/100\n",
            "2048/2048 [==============================] - 1s 372us/sample - loss: 5.6573e-04 - val_loss: 6.2993e-04\n",
            "Epoch 43/100\n",
            "2048/2048 [==============================] - 1s 372us/sample - loss: 4.2068e-04 - val_loss: 6.9286e-04\n",
            "Epoch 44/100\n",
            "2048/2048 [==============================] - 1s 389us/sample - loss: 4.9293e-04 - val_loss: 6.2107e-04\n",
            "Epoch 45/100\n",
            "2048/2048 [==============================] - 1s 402us/sample - loss: 3.9297e-04 - val_loss: 0.0010\n",
            "Epoch 46/100\n",
            "2048/2048 [==============================] - 1s 391us/sample - loss: 4.7296e-04 - val_loss: 6.6814e-04\n",
            "Epoch 47/100\n",
            "2048/2048 [==============================] - 1s 378us/sample - loss: 4.8326e-04 - val_loss: 5.5026e-04\n",
            "Epoch 48/100\n",
            "2048/2048 [==============================] - 1s 383us/sample - loss: 3.9836e-04 - val_loss: 6.9006e-04\n",
            "Epoch 49/100\n",
            "2048/2048 [==============================] - 1s 406us/sample - loss: 3.8445e-04 - val_loss: 5.0437e-04\n",
            "Epoch 50/100\n",
            "2048/2048 [==============================] - 1s 424us/sample - loss: 4.2149e-04 - val_loss: 4.9666e-04\n",
            "Epoch 51/100\n",
            "2048/2048 [==============================] - 1s 429us/sample - loss: 3.7378e-04 - val_loss: 5.8689e-04\n",
            "Epoch 52/100\n",
            "2048/2048 [==============================] - 1s 387us/sample - loss: 3.7715e-04 - val_loss: 6.9429e-04\n",
            "Epoch 53/100\n",
            "2048/2048 [==============================] - 1s 383us/sample - loss: 3.2464e-04 - val_loss: 4.7674e-04\n",
            "Epoch 54/100\n",
            "2048/2048 [==============================] - 1s 401us/sample - loss: 2.8588e-04 - val_loss: 7.3485e-04\n",
            "Epoch 55/100\n",
            "2048/2048 [==============================] - 1s 383us/sample - loss: 3.3771e-04 - val_loss: 5.8297e-04\n",
            "Epoch 56/100\n",
            "2048/2048 [==============================] - 1s 381us/sample - loss: 3.2538e-04 - val_loss: 4.8993e-04\n",
            "Epoch 57/100\n",
            "2048/2048 [==============================] - 1s 376us/sample - loss: 3.0285e-04 - val_loss: 4.6356e-04\n",
            "Epoch 58/100\n",
            "2048/2048 [==============================] - 1s 373us/sample - loss: 2.7892e-04 - val_loss: 3.9061e-04\n",
            "Epoch 59/100\n",
            "2048/2048 [==============================] - 1s 373us/sample - loss: 2.4418e-04 - val_loss: 4.9582e-04\n",
            "Epoch 60/100\n",
            "2048/2048 [==============================] - 1s 384us/sample - loss: 3.4530e-04 - val_loss: 6.8436e-04\n",
            "Epoch 61/100\n",
            "2048/2048 [==============================] - 1s 378us/sample - loss: 3.1500e-04 - val_loss: 3.9014e-04\n",
            "Epoch 62/100\n",
            "2048/2048 [==============================] - 1s 391us/sample - loss: 3.5115e-04 - val_loss: 3.6481e-04\n",
            "Epoch 63/100\n",
            "2048/2048 [==============================] - 1s 372us/sample - loss: 2.3598e-04 - val_loss: 3.3564e-04\n",
            "Epoch 64/100\n",
            "2048/2048 [==============================] - 1s 377us/sample - loss: 2.3218e-04 - val_loss: 3.5375e-04\n",
            "Epoch 65/100\n",
            "2048/2048 [==============================] - 1s 375us/sample - loss: 2.7142e-04 - val_loss: 5.6868e-04\n",
            "Epoch 66/100\n",
            "2048/2048 [==============================] - 1s 374us/sample - loss: 2.4084e-04 - val_loss: 3.2738e-04\n",
            "Epoch 67/100\n",
            "2048/2048 [==============================] - 1s 380us/sample - loss: 2.2024e-04 - val_loss: 3.3599e-04\n",
            "Epoch 68/100\n",
            "2048/2048 [==============================] - 1s 375us/sample - loss: 2.3178e-04 - val_loss: 3.5495e-04\n",
            "Epoch 69/100\n",
            "2048/2048 [==============================] - 1s 377us/sample - loss: 2.1101e-04 - val_loss: 4.3018e-04\n",
            "Epoch 70/100\n",
            "2048/2048 [==============================] - 1s 384us/sample - loss: 2.0371e-04 - val_loss: 3.5472e-04\n",
            "Epoch 71/100\n",
            "2048/2048 [==============================] - 1s 377us/sample - loss: 2.0258e-04 - val_loss: 3.3046e-04\n",
            "Epoch 72/100\n",
            "2048/2048 [==============================] - 1s 376us/sample - loss: 1.9843e-04 - val_loss: 4.4951e-04\n",
            "Epoch 73/100\n",
            "2048/2048 [==============================] - 1s 381us/sample - loss: 2.3387e-04 - val_loss: 4.4407e-04\n",
            "Epoch 74/100\n",
            "2048/2048 [==============================] - 1s 384us/sample - loss: 3.7605e-04 - val_loss: 6.4153e-04\n",
            "Epoch 75/100\n",
            "2048/2048 [==============================] - 1s 403us/sample - loss: 2.8436e-04 - val_loss: 2.8527e-04\n",
            "Epoch 76/100\n",
            "2048/2048 [==============================] - 1s 380us/sample - loss: 2.4649e-04 - val_loss: 3.3422e-04\n",
            "Epoch 77/100\n",
            "2048/2048 [==============================] - 1s 375us/sample - loss: 1.8600e-04 - val_loss: 2.6893e-04\n",
            "Epoch 78/100\n",
            "2048/2048 [==============================] - 1s 383us/sample - loss: 1.7625e-04 - val_loss: 2.4948e-04\n",
            "Epoch 79/100\n",
            "2048/2048 [==============================] - 1s 387us/sample - loss: 1.9322e-04 - val_loss: 2.2513e-04\n",
            "Epoch 80/100\n",
            "2048/2048 [==============================] - 1s 404us/sample - loss: 1.7194e-04 - val_loss: 2.6895e-04\n",
            "Epoch 81/100\n",
            "2048/2048 [==============================] - 1s 389us/sample - loss: 1.4620e-04 - val_loss: 2.4970e-04\n",
            "Epoch 82/100\n",
            "2048/2048 [==============================] - 1s 381us/sample - loss: 1.5686e-04 - val_loss: 2.2538e-04\n",
            "Epoch 83/100\n",
            "2048/2048 [==============================] - 1s 389us/sample - loss: 1.9133e-04 - val_loss: 2.1716e-04\n",
            "Epoch 84/100\n",
            "2048/2048 [==============================] - 1s 389us/sample - loss: 1.7152e-04 - val_loss: 2.9251e-04\n",
            "Epoch 85/100\n",
            "2048/2048 [==============================] - 1s 408us/sample - loss: 2.1699e-04 - val_loss: 3.1411e-04\n",
            "Epoch 86/100\n",
            "2048/2048 [==============================] - 1s 389us/sample - loss: 3.4156e-04 - val_loss: 2.6269e-04\n",
            "Epoch 87/100\n",
            "2048/2048 [==============================] - 1s 384us/sample - loss: 1.8164e-04 - val_loss: 2.0244e-04\n",
            "Epoch 88/100\n",
            "2048/2048 [==============================] - 1s 383us/sample - loss: 1.6200e-04 - val_loss: 2.6285e-04\n",
            "Epoch 89/100\n",
            "2048/2048 [==============================] - 1s 396us/sample - loss: 1.3010e-04 - val_loss: 1.9790e-04\n",
            "Epoch 90/100\n",
            "2048/2048 [==============================] - 1s 379us/sample - loss: 1.7958e-04 - val_loss: 2.3456e-04\n",
            "Epoch 91/100\n",
            "2048/2048 [==============================] - 1s 380us/sample - loss: 1.8492e-04 - val_loss: 1.9823e-04\n",
            "Epoch 92/100\n",
            "2048/2048 [==============================] - 1s 379us/sample - loss: 1.2535e-04 - val_loss: 1.8778e-04\n",
            "Epoch 93/100\n",
            "2048/2048 [==============================] - 1s 377us/sample - loss: 1.3634e-04 - val_loss: 2.3232e-04\n",
            "Epoch 94/100\n",
            "2048/2048 [==============================] - 1s 383us/sample - loss: 1.7570e-04 - val_loss: 4.5689e-04\n",
            "Epoch 95/100\n",
            "2048/2048 [==============================] - 1s 382us/sample - loss: 2.4348e-04 - val_loss: 1.6795e-04\n",
            "Epoch 96/100\n",
            "2048/2048 [==============================] - 1s 377us/sample - loss: 1.3555e-04 - val_loss: 3.3545e-04\n",
            "Epoch 97/100\n",
            "2048/2048 [==============================] - 1s 384us/sample - loss: 1.5980e-04 - val_loss: 1.9999e-04\n",
            "Epoch 98/100\n",
            "2048/2048 [==============================] - 1s 380us/sample - loss: 1.2849e-04 - val_loss: 1.8331e-04\n",
            "Epoch 99/100\n",
            "2048/2048 [==============================] - 1s 389us/sample - loss: 1.1463e-04 - val_loss: 1.6896e-04\n",
            "Epoch 100/100\n",
            "2048/2048 [==============================] - 1s 395us/sample - loss: 1.3804e-04 - val_loss: 2.4006e-04\n"
          ],
          "name": "stdout"
        }
      ]
    },
    {
      "cell_type": "code",
      "metadata": {
        "id": "qJU5WZJ_j_61",
        "colab_type": "code",
        "colab": {
          "base_uri": "https://localhost:8080/",
          "height": 279
        },
        "outputId": "d7627d4f-0c24-405c-867d-cbe8583b1f11"
      },
      "source": [
        "# 7.17 GRU 네트워크 학습 결과 확인\n",
        "import matplotlib.pyplot as plt\n",
        "plt.plot(history.history['loss'], 'b-', label='loss')\n",
        "plt.plot(history.history['val_loss'], 'r--', label='val_loss')\n",
        "plt.xlabel('Epoch')\n",
        "plt.legend()\n",
        "plt.show()"
      ],
      "execution_count": 18,
      "outputs": [
        {
          "output_type": "display_data",
          "data": {
            "image/png": "[encoded data removed]",
            "text/plain": [
              "<Figure size 432x288 with 1 Axes>"
            ]
          },
          "metadata": {
            "tags": []
          }
        }
      ]
    },
    {
      "cell_type": "code",
      "metadata": {
        "id": "BNxtxoNhkbfX",
        "colab_type": "code",
        "colab": {
          "base_uri": "https://localhost:8080/",
          "height": 143
        },
        "outputId": "1bbd8b8d-c811-4874-de7c-a02d8bcd41bf"
      },
      "source": [
        "# 7.18 Test 데이터에 대한 예측 정확도 확인\n",
        "model.evaluate(X[2560:], Y[2560:])\n",
        "prediction = model.predict(X[2560:2560+5])\n",
        "for i in range(5):\n",
        "    print(Y[2560+i], '\\t', prediction[i][0], '\\tdiff:', abs(prediction[i][0] - Y[2560+i]))\n",
        "    \n",
        "prediction = model.predict(X[2560:])\n",
        "cnt = 0\n",
        "for i in range(len(prediction)):\n",
        "    if abs(prediction[i][0] - Y[2560+i]) > 0.04:\n",
        "        cnt += 1\n",
        "print('correctness:', (440 - cnt) / 440 * 100, '%')"
      ],
      "execution_count": 19,
      "outputs": [
        {
          "output_type": "stream",
          "text": [
            "440/440 [==============================] - 0s 1ms/sample - loss: 2.1837e-04\n",
            "0.3086555988413602 \t 0.30935803 \tdiff: 0.0007024317162722671\n",
            "0.0068629519465001464 \t 0.0055766366 \tdiff: 0.0012863153042825103\n",
            "0.5237953747841952 \t 0.5400483 \tdiff: 0.01625292643574494\n",
            "0.08709619625243772 \t 0.08767998 \tdiff: 0.0005837859329260453\n",
            "0.4376509525255051 \t 0.4409368 \tdiff: 0.003285851292243902\n",
            "correctness: 99.0909090909091 %\n"
          ],
          "name": "stdout"
        }
      ]
    },
    {
      "cell_type": "code",
      "metadata": {
        "id": "GdCQLRxBkgf9",
        "colab_type": "code",
        "colab": {}
      },
      "source": [
        "# 7.19 Naver Sentiment Movie Corpus v1.0 다운로드\n",
        "path_to_train_file = tf.keras.utils.get_file('train.txt', 'https://raw.githubusercontent.com/e9t/nsmc/master/ratings_train.txt')\n",
        "path_to_test_file = tf.keras.utils.get_file('test.txt', 'https://raw.githubusercontent.com/e9t/nsmc/master/ratings_test.txt')"
      ],
      "execution_count": 0,
      "outputs": []
    },
    {
      "cell_type": "code",
      "metadata": {
        "id": "d0qDwwIIkoGl",
        "colab_type": "code",
        "colab": {
          "base_uri": "https://localhost:8080/",
          "height": 215
        },
        "outputId": "efaa1062-3a62-49f2-ab01-53c88a993681"
      },
      "source": [
        "# 7.20 데이터 로드 및 확인\n",
        "# 데이터를 메모리에 불러옵니다. encoding 형식으로 utf-8 을 지정해야합니다.\n",
        "train_text = open(path_to_train_file, 'rb').read().decode(encoding='utf-8')\n",
        "test_text = open(path_to_test_file, 'rb').read().decode(encoding='utf-8')\n",
        "\n",
        "# 텍스트가 총 몇 자인지 확인합니다.\n",
        "print('Length of text: {} characters'.format(len(train_text)))\n",
        "print('Length of text: {} characters'.format(len(test_text)))\n",
        "print()\n",
        "\n",
        "# 처음 300 자를 확인해봅니다.\n",
        "print(train_text[:300])"
      ],
      "execution_count": 21,
      "outputs": [
        {
          "output_type": "stream",
          "text": [
            "Length of text: 6937271 characters\n",
            "Length of text: 2318260 characters\n",
            "\n",
            "id\tdocument\tlabel\n",
            "9976970\t아 더빙.. 진짜 짜증나네요 목소리\t0\n",
            "3819312\t흠...포스터보고 초딩영화줄....오버연기조차 가볍지 않구나\t1\n",
            "10265843\t너무재밓었다그래서보는것을추천한다\t0\n",
            "9045019\t교도소 이야기구먼 ..솔직히 재미는 없다..평점 조정\t0\n",
            "6483659\t사이몬페그의 익살스런 연기가 돋보였던 영화!스파이더맨에서 늙어보이기만 했던 커스틴 던스트가 너무나도 이뻐보였다\t1\n",
            "5403919\t막 걸음마 뗀 3세부터 초등학교 1학년생인 8살용영화.ㅋㅋㅋ...별반개도 아까움.\t0\n",
            "7797314\t원작의\n"
          ],
          "name": "stdout"
        }
      ]
    },
    {
      "cell_type": "code",
      "metadata": {
        "id": "ev-_NeFPl1Sk",
        "colab_type": "code",
        "colab": {
          "base_uri": "https://localhost:8080/",
          "height": 125
        },
        "outputId": "87b48a60-06ac-449a-888a-d7c51b78afed"
      },
      "source": [
        "# 7.21 학습을 위한 정답 데이터(Y) 만들기\n",
        "train_Y = np.array([[int(row.split('\\t')[2])] for row in train_text.split('\\n')[1:] if row.count('\\t') > 0])\n",
        "test_Y = np.array([[int(row.split('\\t')[2])] for row in test_text.split('\\n')[1:] if row.count('\\t') > 0])\n",
        "print(train_Y.shape, test_Y.shape)\n",
        "print(train_Y[:5])"
      ],
      "execution_count": 22,
      "outputs": [
        {
          "output_type": "stream",
          "text": [
            "(150000, 1) (50000, 1)\n",
            "[[0]\n",
            " [1]\n",
            " [0]\n",
            " [0]\n",
            " [1]]\n"
          ],
          "name": "stdout"
        }
      ]
    },
    {
      "cell_type": "code",
      "metadata": {
        "id": "fKE4SWe1mHKN",
        "colab_type": "code",
        "colab": {
          "base_uri": "https://localhost:8080/",
          "height": 107
        },
        "outputId": "3ff5e303-7087-43de-9e4a-95a08cc4a1c1"
      },
      "source": [
        "# 7.22 train 데이터의 입력(X)에 대한 정제(Cleaning)\n",
        "import re\n",
        "# From https://github.com/yoonkim/CNN_sentence/blob/master/process_data.py\n",
        "def clean_str(string):    \n",
        "    string = re.sub(r\"[^가-힣A-Za-z0-9(),!?\\'\\`]\", \" \", string)\n",
        "    string = re.sub(r\"\\'s\", \" \\'s\", string)\n",
        "    string = re.sub(r\"\\'ve\", \" \\'ve\", string)\n",
        "    string = re.sub(r\"n\\'t\", \" n\\'t\", string)\n",
        "    string = re.sub(r\"\\'re\", \" \\'re\", string)\n",
        "    string = re.sub(r\"\\'d\", \" \\'d\", string)\n",
        "    string = re.sub(r\"\\'ll\", \" \\'ll\", string)\n",
        "    string = re.sub(r\",\", \" , \", string)\n",
        "    string = re.sub(r\"!\", \" ! \", string)\n",
        "    string = re.sub(r\"\\(\", \" \\( \", string)\n",
        "    string = re.sub(r\"\\)\", \" \\) \", string)\n",
        "    string = re.sub(r\"\\?\", \" \\? \", string)\n",
        "    string = re.sub(r\"\\s{2,}\", \" \", string)\n",
        "    string = re.sub(r\"\\'{2,}\", \"\\'\", string)\n",
        "    string = re.sub(r\"\\'\", \"\", string)\n",
        "\n",
        "    return string.lower()\n",
        "\n",
        "\n",
        "train_text_X = [row.split('\\t')[1] for row in train_text.split('\\n')[1:] if row.count('\\t') > 0]\n",
        "train_text_X = [clean_str(sentence) for sentence in train_text_X]\n",
        "# 문장을 띄어쓰기 단위로 단어 분리\n",
        "sentences = [sentence.split(' ') for sentence in train_text_X]\n",
        "for i in range(5):\n",
        "    print(sentences[i])"
      ],
      "execution_count": 23,
      "outputs": [
        {
          "output_type": "stream",
          "text": [
            "['아', '더빙', '진짜', '짜증나네요', '목소리']\n",
            "['흠', '포스터보고', '초딩영화줄', '오버연기조차', '가볍지', '않구나']\n",
            "['너무재밓었다그래서보는것을추천한다']\n",
            "['교도소', '이야기구먼', '솔직히', '재미는', '없다', '평점', '조정']\n",
            "['사이몬페그의', '익살스런', '연기가', '돋보였던', '영화', '!', '스파이더맨에서', '늙어보이기만', '했던', '커스틴', '던스트가', '너무나도', '이뻐보였다']\n"
          ],
          "name": "stdout"
        }
      ]
    },
    {
      "cell_type": "code",
      "metadata": {
        "id": "fCTCkpj5mcgd",
        "colab_type": "code",
        "colab": {
          "base_uri": "https://localhost:8080/",
          "height": 283
        },
        "outputId": "785ded1a-4a50-49e6-f67e-74d4f4848fa8"
      },
      "source": [
        "# 7.23 각 문장의 단어 길이 확인\n",
        "import matplotlib.pyplot as plt\n",
        "sentence_len = [len(sentence) for sentence in sentences]\n",
        "sentence_len.sort()\n",
        "plt.plot(sentence_len)\n",
        "plt.show()\n",
        "\n",
        "print(sum([int(l<=25) for l in sentence_len]))"
      ],
      "execution_count": 24,
      "outputs": [
        {
          "output_type": "display_data",
          "data": {
            "image/png": "[encoded data removed]",
            "text/plain": [
              "<Figure size 432x288 with 1 Axes>"
            ]
          },
          "metadata": {
            "tags": []
          }
        },
        {
          "output_type": "stream",
          "text": [
            "142587\n"
          ],
          "name": "stdout"
        }
      ]
    },
    {
      "cell_type": "code",
      "metadata": {
        "id": "l5XrH5yrmoab",
        "colab_type": "code",
        "colab": {
          "base_uri": "https://localhost:8080/",
          "height": 107
        },
        "outputId": "f076e93e-bd66-4e78-a90e-ea3f777e940d"
      },
      "source": [
        "# 7.24 단어 정제 및 문장 길이 줄임\n",
        "sentences_new = []\n",
        "for sentence in sentences:\n",
        "    sentences_new.append([word[:5] for word in sentence][:25])\n",
        "sentences = sentences_new\n",
        "for i in range(5):\n",
        "    print(sentences[i])"
      ],
      "execution_count": 25,
      "outputs": [
        {
          "output_type": "stream",
          "text": [
            "['아', '더빙', '진짜', '짜증나네요', '목소리']\n",
            "['흠', '포스터보고', '초딩영화줄', '오버연기조', '가볍지', '않구나']\n",
            "['너무재밓었']\n",
            "['교도소', '이야기구먼', '솔직히', '재미는', '없다', '평점', '조정']\n",
            "['사이몬페그', '익살스런', '연기가', '돋보였던', '영화', '!', '스파이더맨', '늙어보이기', '했던', '커스틴', '던스트가', '너무나도', '이뻐보였다']\n"
          ],
          "name": "stdout"
        }
      ]
    },
    {
      "cell_type": "code",
      "metadata": {
        "id": "NpmmvE3omxaM",
        "colab_type": "code",
        "colab": {
          "base_uri": "https://localhost:8080/",
          "height": 287
        },
        "outputId": "388a250a-e9be-41f5-a356-40d2740f92ad"
      },
      "source": [
        "# 7.25 Tokenizer와 pad_sequences를 사용한 문장 전처리\n",
        "from tensorflow.keras.preprocessing.text import Tokenizer\n",
        "from tensorflow.keras.preprocessing.sequence import pad_sequences\n",
        "\n",
        "tokenizer = Tokenizer(num_words=20000)\n",
        "tokenizer.fit_on_texts(sentences)\n",
        "train_X = tokenizer.texts_to_sequences(sentences)\n",
        "train_X = pad_sequences(train_X, padding='post')\n",
        "\n",
        "print(train_X[:5])"
      ],
      "execution_count": 26,
      "outputs": [
        {
          "output_type": "stream",
          "text": [
            "[[   25   884     8  5795  1111     0     0     0     0     0     0     0\n",
            "      0     0     0     0     0     0     0     0     0     0     0     0\n",
            "      0]\n",
            " [  588  5796  6697     0     0     0     0     0     0     0     0     0\n",
            "      0     0     0     0     0     0     0     0     0     0     0     0\n",
            "      0]\n",
            " [    0     0     0     0     0     0     0     0     0     0     0     0\n",
            "      0     0     0     0     0     0     0     0     0     0     0     0\n",
            "      0]\n",
            " [   71   346    31    35 10468     0     0     0     0     0     0     0\n",
            "      0     0     0     0     0     0     0     0     0     0     0     0\n",
            "      0]\n",
            " [  106  5338     4     2  2169   869   573     0     0     0     0     0\n",
            "      0     0     0     0     0     0     0     0     0     0     0     0\n",
            "      0]]\n"
          ],
          "name": "stdout"
        }
      ]
    },
    {
      "cell_type": "code",
      "metadata": {
        "id": "Jgem43sEm_7E",
        "colab_type": "code",
        "colab": {
          "base_uri": "https://localhost:8080/",
          "height": 143
        },
        "outputId": "09cdfb26-c440-4220-a4fa-e2d38c63bdc7"
      },
      "source": [
        "# 7.26 Tokenizer의 동작 확인\n",
        "print(tokenizer.index_word[19999])\n",
        "print(tokenizer.index_word[20000])\n",
        "temp = tokenizer.texts_to_sequences(['#$#$#', '경우는', '잊혀질', '연기가'])\n",
        "print(temp)\n",
        "temp = pad_sequences(temp, padding='post')\n",
        "print(temp)"
      ],
      "execution_count": 27,
      "outputs": [
        {
          "output_type": "stream",
          "text": [
            "경우는\n",
            "잊혀질\n",
            "[[], [19999], [], [106]]\n",
            "[[    0]\n",
            " [19999]\n",
            " [    0]\n",
            " [  106]]\n"
          ],
          "name": "stdout"
        }
      ]
    },
    {
      "cell_type": "code",
      "metadata": {
        "id": "N06pR4b-nWfD",
        "colab_type": "code",
        "colab": {
          "base_uri": "https://localhost:8080/",
          "height": 269
        },
        "outputId": "9960c01d-e4b2-445f-c764-5fabf69f8512"
      },
      "source": [
        "# 7.27 감성 분석을 위한 모델 정의\n",
        "model = tf.keras.Sequential([\n",
        "    tf.keras.layers.Embedding(20000, 300, input_length=25),\n",
        "    tf.keras.layers.LSTM(units=50),\n",
        "    tf.keras.layers.Dense(2, activation='softmax')\n",
        "])\n",
        "\n",
        "model.compile(optimizer='adam', loss='sparse_categorical_crossentropy', metrics=['accuracy'])\n",
        "model.summary()"
      ],
      "execution_count": 28,
      "outputs": [
        {
          "output_type": "stream",
          "text": [
            "Model: \"sequential_4\"\n",
            "_________________________________________________________________\n",
            "Layer (type)                 Output Shape              Param #   \n",
            "=================================================================\n",
            "embedding (Embedding)        (None, 25, 300)           6000000   \n",
            "_________________________________________________________________\n",
            "lstm_2 (LSTM)                (None, 50)                70200     \n",
            "_________________________________________________________________\n",
            "dense_4 (Dense)              (None, 2)                 102       \n",
            "=================================================================\n",
            "Total params: 6,070,302\n",
            "Trainable params: 6,070,302\n",
            "Non-trainable params: 0\n",
            "_________________________________________________________________\n"
          ],
          "name": "stdout"
        }
      ]
    },
    {
      "cell_type": "code",
      "metadata": {
        "id": "Z3lG-88GnZB8",
        "colab_type": "code",
        "colab": {
          "base_uri": "https://localhost:8080/",
          "height": 215
        },
        "outputId": "697ddb30-1a66-4857-a3f2-e05f97476707"
      },
      "source": [
        "# 7.28 감성 분석 모델 학습\n",
        "history = model.fit(train_X, train_Y, epochs=5, batch_size=128, validation_split=0.2)"
      ],
      "execution_count": 29,
      "outputs": [
        {
          "output_type": "stream",
          "text": [
            "Train on 120000 samples, validate on 30000 samples\n",
            "Epoch 1/5\n",
            "120000/120000 [==============================] - 59s 488us/sample - loss: 0.4335 - accuracy: 0.7849 - val_loss: 0.3874 - val_accuracy: 0.8177\n",
            "Epoch 2/5\n",
            "120000/120000 [==============================] - 57s 474us/sample - loss: 0.3249 - accuracy: 0.8480 - val_loss: 0.3916 - val_accuracy: 0.8170\n",
            "Epoch 3/5\n",
            "120000/120000 [==============================] - 57s 476us/sample - loss: 0.2718 - accuracy: 0.8699 - val_loss: 0.4086 - val_accuracy: 0.8162\n",
            "Epoch 4/5\n",
            "120000/120000 [==============================] - 57s 473us/sample - loss: 0.2266 - accuracy: 0.8895 - val_loss: 0.4917 - val_accuracy: 0.8144\n",
            "Epoch 5/5\n",
            "120000/120000 [==============================] - 57s 474us/sample - loss: 0.1919 - accuracy: 0.9050 - val_loss: 0.5661 - val_accuracy: 0.8084\n"
          ],
          "name": "stdout"
        }
      ]
    },
    {
      "cell_type": "code",
      "metadata": {
        "id": "CcpWGV8YniJb",
        "colab_type": "code",
        "colab": {
          "base_uri": "https://localhost:8080/",
          "height": 283
        },
        "outputId": "30c3ef10-bbbe-4cb2-9ffa-bf09d2f24c3d"
      },
      "source": [
        "# 7.29 감성 분석 모델 학습 결과 확인\n",
        "import matplotlib.pyplot as plt\n",
        "plt.figure(figsize=(12, 4))\n",
        "\n",
        "plt.subplot(1, 2, 1)\n",
        "plt.plot(history.history['loss'], 'b-', label='loss')\n",
        "plt.plot(history.history['val_loss'], 'r--', label='val_loss')\n",
        "plt.xlabel('Epoch')\n",
        "plt.legend()\n",
        "\n",
        "plt.subplot(1, 2, 2)\n",
        "plt.plot(history.history['accuracy'], 'g-', label='accuracy')\n",
        "plt.plot(history.history['val_accuracy'], 'k--', label='val_accuracy')\n",
        "plt.xlabel('Epoch')\n",
        "plt.ylim(0.7, 1)\n",
        "plt.legend()\n",
        "\n",
        "plt.show()"
      ],
      "execution_count": 30,
      "outputs": [
        {
          "output_type": "display_data",
          "data": {
            "image/png": "[encoded data removed]",
            "text/plain": [
              "<Figure size 864x288 with 2 Axes>"
            ]
          },
          "metadata": {
            "tags": []
          }
        }
      ]
    },
    {
      "cell_type": "code",
      "metadata": {
        "id": "el0oAguNn0_D",
        "colab_type": "code",
        "colab": {
          "base_uri": "https://localhost:8080/",
          "height": 35
        },
        "outputId": "4ad1f72d-4c94-4ba3-bbac-b09768fd316a"
      },
      "source": [
        "# 7.30 테스트 데이터 평가\n",
        "test_text_X = [row.split('\\t')[1] for row in test_text.split('\\n')[1:] if row.count('\\t') > 0]\n",
        "test_text_X = [clean_str(sentence) for sentence in test_text_X]\n",
        "sentences = [sentence.split(' ') for sentence in test_text_X]\n",
        "sentences_new = []\n",
        "for sentence in sentences:\n",
        "    sentences_new.append([word[:5] for word in sentence][:25])\n",
        "sentences = sentences_new\n",
        "\n",
        "test_X = tokenizer.texts_to_sequences(sentences)\n",
        "test_X = pad_sequences(test_X, padding='post')\n",
        "\n",
        "model.evaluate(test_X, test_Y, verbose=0)"
      ],
      "execution_count": 31,
      "outputs": [
        {
          "output_type": "execute_result",
          "data": {
            "text/plain": [
              "[0.576878777551651, 0.80256]"
            ]
          },
          "metadata": {
            "tags": []
          },
          "execution_count": 31
        }
      ]
    },
    {
      "cell_type": "code",
      "metadata": {
        "id": "xXgQOsnln7JT",
        "colab_type": "code",
        "colab": {
          "base_uri": "https://localhost:8080/",
          "height": 341
        },
        "outputId": "3dadf693-dff7-4c28-8588-66bd9ce25b25"
      },
      "source": [
        "# 7.31 임의의 문장 감성 분석 결과 확인\n",
        "test_sentence = '재미있을 줄 알았는데 완전 실망했다. 너무 졸리고 돈이 아까웠다.'\n",
        "test_sentence = test_sentence.split(' ')\n",
        "test_sentences = []\n",
        "now_sentence = []\n",
        "for word in test_sentence:\n",
        "    now_sentence.append(word)\n",
        "    test_sentences.append(now_sentence[:])\n",
        "    \n",
        "test_X_1 = tokenizer.texts_to_sequences(test_sentences)\n",
        "test_X_1 = pad_sequences(test_X_1, padding='post', maxlen=25)\n",
        "prediction = model.predict(test_X_1)\n",
        "for idx, sentence in enumerate(test_sentences):\n",
        "    print(sentence)\n",
        "    print(prediction[idx])"
      ],
      "execution_count": 32,
      "outputs": [
        {
          "output_type": "stream",
          "text": [
            "['재미있을']\n",
            "[0.14346986 0.8565302 ]\n",
            "['재미있을', '줄']\n",
            "[0.19314875 0.8068512 ]\n",
            "['재미있을', '줄', '알았는데']\n",
            "[0.3304111 0.6695889]\n",
            "['재미있을', '줄', '알았는데', '완전']\n",
            "[0.44440296 0.55559707]\n",
            "['재미있을', '줄', '알았는데', '완전', '실망했다.']\n",
            "[0.44440296 0.55559707]\n",
            "['재미있을', '줄', '알았는데', '완전', '실망했다.', '너무']\n",
            "[0.74112785 0.25887218]\n",
            "['재미있을', '줄', '알았는데', '완전', '실망했다.', '너무', '졸리고']\n",
            "[0.9888554  0.01114458]\n",
            "['재미있을', '줄', '알았는데', '완전', '실망했다.', '너무', '졸리고', '돈이']\n",
            "[0.9984787  0.00152135]\n",
            "['재미있을', '줄', '알았는데', '완전', '실망했다.', '너무', '졸리고', '돈이', '아까웠다.']\n",
            "[0.9984787  0.00152135]\n"
          ],
          "name": "stdout"
        }
      ]
    },
    {
      "cell_type": "code",
      "metadata": {
        "id": "crISaDbIqP62",
        "colab_type": "code",
        "colab": {}
      },
      "source": [
        "# 7.32 조선왕조실록 데이터 파일 다운로드\n",
        "path_to_file = tf.keras.utils.get_file('input.txt', 'http://bit.ly/2Mc3SOV')"
      ],
      "execution_count": 0,
      "outputs": []
    },
    {
      "cell_type": "code",
      "metadata": {
        "id": "5OKID9PftBZl",
        "colab_type": "code",
        "colab": {
          "base_uri": "https://localhost:8080/",
          "height": 89
        },
        "outputId": "b6392e16-b564-4c5e-e3ab-f5f1f9f86a3d"
      },
      "source": [
        "# 7.33 데이터 로드 및 확인\n",
        "# 데이터를 메모리에 불러옵니다. encoding 형식으로 utf-8 을 지정해야합니다.\n",
        "train_text = open(path_to_file, 'rb').read().decode(encoding='utf-8')\n",
        "\n",
        "# 텍스트가 총 몇 자인지 확인합니다.\n",
        "print('Length of text: {} characters'.format(len(train_text)))\n",
        "print()\n",
        "\n",
        "# 처음 100 자를 확인해봅니다.\n",
        "print(train_text[:100])"
      ],
      "execution_count": 34,
      "outputs": [
        {
          "output_type": "stream",
          "text": [
            "Length of text: 26265493 characters\n",
            "\n",
            "﻿태조 이성계 선대의 가계. 목조 이안사가 전주에서 삼척·의주를 거쳐 알동에 정착하다 \n",
            "태조 강헌 지인 계운 성문 신무 대왕(太祖康獻至仁啓運聖文神武大王)의 성은 이씨(李氏)요, 휘\n"
          ],
          "name": "stdout"
        }
      ]
    },
    {
      "cell_type": "code",
      "metadata": {
        "id": "eX0qDzCQvkJN",
        "colab_type": "code",
        "colab": {
          "base_uri": "https://localhost:8080/",
          "height": 35
        },
        "outputId": "116c8e74-2371-4041-adc0-e8a4915cbe97"
      },
      "source": [
        "# 7.34 훈련 데이터 입력 정제\n",
        "import re\n",
        "# From https://github.com/yoonkim/CNN_sentence/blob/master/process_data.py\n",
        "def clean_str(string):    \n",
        "    string = re.sub(r\"[^가-힣A-Za-z0-9(),!?\\'\\`]\", \" \", string)\n",
        "    string = re.sub(r\"\\'ll\", \" \\'ll\", string)\n",
        "    string = re.sub(r\",\", \" , \", string)\n",
        "    string = re.sub(r\"!\", \" ! \", string)\n",
        "    string = re.sub(r\"\\(\", \"\", string)\n",
        "    string = re.sub(r\"\\)\", \"\", string)\n",
        "    string = re.sub(r\"\\?\", \" \\? \", string)\n",
        "    string = re.sub(r\"\\s{2,}\", \" \", string)\n",
        "    string = re.sub(r\"\\'{2,}\", \"\\'\", string)\n",
        "    string = re.sub(r\"\\'\", \"\", string)\n",
        "\n",
        "    return string\n",
        "\n",
        "\n",
        "train_text = train_text.split('\\n')\n",
        "train_text = [clean_str(sentence) for sentence in train_text]\n",
        "train_text_X = []\n",
        "for sentence in train_text:\n",
        "    train_text_X.extend(sentence.split(' '))\n",
        "    train_text_X.append('\\n')\n",
        "    \n",
        "train_text_X = [word for word in train_text_X if word != '']\n",
        "\n",
        "print(train_text_X[:20])"
      ],
      "execution_count": 35,
      "outputs": [
        {
          "output_type": "stream",
          "text": [
            "['태조', '이성계', '선대의', '가계', '목조', '이안사가', '전주에서', '삼척', '의주를', '거쳐', '알동에', '정착하다', '\\n', '태조', '강헌', '지인', '계운', '성문', '신무', '대왕']\n"
          ],
          "name": "stdout"
        }
      ]
    },
    {
      "cell_type": "code",
      "metadata": {
        "id": "RnFaOUjmvy7S",
        "colab_type": "code",
        "colab": {
          "base_uri": "https://localhost:8080/",
          "height": 287
        },
        "outputId": "923bd7da-9fad-4430-ae8a-b6a90985f080"
      },
      "source": [
        "# 7.35 단어 토큰화\n",
        "# 단어의 set을 만듭니다.\n",
        "vocab = sorted(set(train_text_X))\n",
        "vocab.append('UNK')\n",
        "print ('{} unique words'.format(len(vocab)))\n",
        "\n",
        "# vocab list를 숫자로 맵핑하고, 반대도 실행합니다.\n",
        "word2idx = {u:i for i, u in enumerate(vocab)}\n",
        "idx2word = np.array(vocab)\n",
        "\n",
        "text_as_int = np.array([word2idx[c] for c in train_text_X])\n",
        "\n",
        "# word2idx 의 일부를 알아보기 쉽게 print 해봅니다.\n",
        "print('{')\n",
        "for word,_ in zip(word2idx, range(10)):\n",
        "    print('  {:4s}: {:3d},'.format(repr(word), word2idx[word]))\n",
        "print('  ...\\n}')\n",
        "\n",
        "print('index of UNK: {}'.format(word2idx['UNK']))"
      ],
      "execution_count": 36,
      "outputs": [
        {
          "output_type": "stream",
          "text": [
            "332640 unique words\n",
            "{\n",
            "  '\\n':   0,\n",
            "  '!' :   1,\n",
            "  ',' :   2,\n",
            "  '000명으로':   3,\n",
            "  '001':   4,\n",
            "  '002':   5,\n",
            "  '003':   6,\n",
            "  '004':   7,\n",
            "  '005':   8,\n",
            "  '006':   9,\n",
            "  ...\n",
            "}\n",
            "index of UNK: 332639\n"
          ],
          "name": "stdout"
        }
      ]
    },
    {
      "cell_type": "code",
      "metadata": {
        "id": "3gV0OHawv7Ay",
        "colab_type": "code",
        "colab": {
          "base_uri": "https://localhost:8080/",
          "height": 71
        },
        "outputId": "c5a62d9e-963f-443f-e34f-16a871f1d1d7"
      },
      "source": [
        "# 7.36 토큰 데이터 확인\n",
        "print(train_text_X[:20])\n",
        "print(text_as_int[:20])"
      ],
      "execution_count": 37,
      "outputs": [
        {
          "output_type": "stream",
          "text": [
            "['태조', '이성계', '선대의', '가계', '목조', '이안사가', '전주에서', '삼척', '의주를', '거쳐', '알동에', '정착하다', '\\n', '태조', '강헌', '지인', '계운', '성문', '신무', '대왕']\n",
            "[299305 229634 161443  17430 111029 230292 251081 155087 225462  29027\n",
            " 190295 256129      0 299305  25624 273553  36147 163996 180466  84413]\n"
          ],
          "name": "stdout"
        }
      ]
    },
    {
      "cell_type": "code",
      "metadata": {
        "id": "o3MR8XWev-p6",
        "colab_type": "code",
        "colab": {
          "base_uri": "https://localhost:8080/",
          "height": 107
        },
        "outputId": "66e8f46e-e917-4e48-f887-fff1e0c7262f"
      },
      "source": [
        "# 7.37 기본 데이터셋 만들기\n",
        "seq_length = 25\n",
        "examples_per_epoch = len(text_as_int) // seq_length\n",
        "sentence_dataset = tf.data.Dataset.from_tensor_slices(text_as_int)\n",
        "\n",
        "sentence_dataset = sentence_dataset.batch(seq_length+1, drop_remainder=True)\n",
        "for item in sentence_dataset.take(1):\n",
        "    print(idx2word[item.numpy()])\n",
        "    print(item.numpy())"
      ],
      "execution_count": 38,
      "outputs": [
        {
          "output_type": "stream",
          "text": [
            "['태조' '이성계' '선대의' '가계' '목조' '이안사가' '전주에서' '삼척' '의주를' '거쳐' '알동에' '정착하다'\n",
            " '\\n' '태조' '강헌' '지인' '계운' '성문' '신무' '대왕' '의' '성은' '이씨' '요' ',' '휘']\n",
            "[299305 229634 161443  17430 111029 230292 251081 155087 225462  29027\n",
            " 190295 256129      0 299305  25624 273553  36147 163996 180466  84413\n",
            " 224182 164549 230248 210912      2 330313]\n"
          ],
          "name": "stdout"
        }
      ]
    },
    {
      "cell_type": "code",
      "metadata": {
        "id": "cmPuxIR5wIgB",
        "colab_type": "code",
        "colab": {
          "base_uri": "https://localhost:8080/",
          "height": 143
        },
        "outputId": "02e00ff4-d1ec-4fc7-ad95-d5b599a34cbf"
      },
      "source": [
        "# 7.38 학습 데이터셋 만들기\n",
        "def split_input_target(chunk):\n",
        "    return [chunk[:-1], chunk[-1]]\n",
        "\n",
        "train_dataset = sentence_dataset.map(split_input_target)\n",
        "for x,y in train_dataset.take(1):\n",
        "    print(idx2word[x.numpy()])\n",
        "    print(x.numpy())\n",
        "    print(idx2word[y.numpy()])\n",
        "    print(y.numpy())"
      ],
      "execution_count": 39,
      "outputs": [
        {
          "output_type": "stream",
          "text": [
            "['태조' '이성계' '선대의' '가계' '목조' '이안사가' '전주에서' '삼척' '의주를' '거쳐' '알동에' '정착하다'\n",
            " '\\n' '태조' '강헌' '지인' '계운' '성문' '신무' '대왕' '의' '성은' '이씨' '요' ',']\n",
            "[299305 229634 161443  17430 111029 230292 251081 155087 225462  29027\n",
            " 190295 256129      0 299305  25624 273553  36147 163996 180466  84413\n",
            " 224182 164549 230248 210912      2]\n",
            "휘\n",
            "330313\n"
          ],
          "name": "stdout"
        }
      ]
    },
    {
      "cell_type": "code",
      "metadata": {
        "id": "vN7tsfoPwS2i",
        "colab_type": "code",
        "colab": {}
      },
      "source": [
        "# 7.39 데이터셋 shuffle, batch 설정\n",
        "BATCH_SIZE = 512\n",
        "steps_per_epoch = examples_per_epoch // BATCH_SIZE\n",
        "BUFFER_SIZE = 10000\n",
        "\n",
        "train_dataset = train_dataset.shuffle(BUFFER_SIZE).batch(BATCH_SIZE, drop_remainder=True)"
      ],
      "execution_count": 0,
      "outputs": []
    },
    {
      "cell_type": "code",
      "metadata": {
        "id": "w5488EbxwWmi",
        "colab_type": "code",
        "colab": {
          "base_uri": "https://localhost:8080/",
          "height": 341
        },
        "outputId": "9f7bbf07-33f9-4d25-a1fe-dfc3eaa93441"
      },
      "source": [
        "# 7.40 단어 단위 생성 모델 정의\n",
        "total_words = len(vocab)\n",
        "model = tf.keras.Sequential([\n",
        "    tf.keras.layers.Embedding(total_words, 100, input_length=seq_length),\n",
        "    tf.keras.layers.LSTM(units=100, return_sequences=True),\n",
        "    tf.keras.layers.Dropout(0.2),\n",
        "    tf.keras.layers.LSTM(units=100),\n",
        "    tf.keras.layers.Dense(total_words, activation='softmax')\n",
        "])\n",
        "\n",
        "model.compile(optimizer='adam', loss='sparse_categorical_crossentropy', metrics=['accuracy'])\n",
        "model.summary()"
      ],
      "execution_count": 41,
      "outputs": [
        {
          "output_type": "stream",
          "text": [
            "Model: \"sequential_5\"\n",
            "_________________________________________________________________\n",
            "Layer (type)                 Output Shape              Param #   \n",
            "=================================================================\n",
            "embedding_1 (Embedding)      (None, 25, 100)           33264000  \n",
            "_________________________________________________________________\n",
            "lstm_3 (LSTM)                (None, 25, 100)           80400     \n",
            "_________________________________________________________________\n",
            "dropout (Dropout)            (None, 25, 100)           0         \n",
            "_________________________________________________________________\n",
            "lstm_4 (LSTM)                (None, 100)               80400     \n",
            "_________________________________________________________________\n",
            "dense_5 (Dense)              (None, 332640)            33596640  \n",
            "=================================================================\n",
            "Total params: 67,021,440\n",
            "Trainable params: 67,021,440\n",
            "Non-trainable params: 0\n",
            "_________________________________________________________________\n"
          ],
          "name": "stdout"
        }
      ]
    },
    {
      "cell_type": "code",
      "metadata": {
        "id": "RDNcxmvvwsvR",
        "colab_type": "code",
        "colab": {
          "base_uri": "https://localhost:8080/",
          "height": 1000
        },
        "outputId": "2e80c3c5-5564-48aa-c0d6-69fe89c8d4bc"
      },
      "source": [
        "# 7.41 단어 단위 생성 모델 학습\n",
        "from tensorflow.keras.preprocessing.sequence import pad_sequences\n",
        "\n",
        "def testmodel(epoch, logs):\n",
        "    if epoch % 5 != 0 and epoch != 49:\n",
        "        return\n",
        "    test_sentence = train_text[0]\n",
        "\n",
        "    next_words = 100\n",
        "    for _ in range(next_words):\n",
        "        test_text_X = test_sentence.split(' ')[-seq_length:]\n",
        "        test_text_X = np.array([word2idx[c] if c in word2idx else word2idx['UNK'] for c in test_text_X])\n",
        "        test_text_X = pad_sequences([test_text_X], maxlen=seq_length, padding='pre', value=word2idx['UNK'])\n",
        "\n",
        "        output_idx = model.predict_classes(test_text_X)\n",
        "        test_sentence += ' ' + idx2word[output_idx[0]]\n",
        "    \n",
        "    print()\n",
        "    print(test_sentence)\n",
        "    print()\n",
        "\n",
        "testmodelcb = tf.keras.callbacks.LambdaCallback(on_epoch_end=testmodel)\n",
        "\n",
        "history = model.fit(train_dataset.repeat(), epochs=50, steps_per_epoch=steps_per_epoch, callbacks=[testmodelcb], verbose=2)"
      ],
      "execution_count": 42,
      "outputs": [
        {
          "output_type": "stream",
          "text": [
            "Train for 533 steps\n",
            "Epoch 1/50\n",
            "\n",
            " 태조 이성계 선대의 가계 목조 이안사가 전주에서 삼척 의주를 거쳐 알동에 정착하다  , , , , , , , , , , , , , , , , , , , , , , , , , , , , , , , , , , , , , , , , , , , , , , , , , , , , , , , , , , , , , , , , , , , , , , , , , , , , , , , , , , , , , , , , , , , , , , , , , , , ,\n",
            "\n",
            "533/533 - 282s - loss: 9.3726 - accuracy: 0.0721\n",
            "Epoch 2/50\n",
            "533/533 - 275s - loss: 8.3595 - accuracy: 0.0746\n",
            "Epoch 3/50\n",
            "533/533 - 276s - loss: 8.0678 - accuracy: 0.0820\n",
            "Epoch 4/50\n",
            "533/533 - 276s - loss: 7.8077 - accuracy: 0.0907\n",
            "Epoch 5/50\n",
            "533/533 - 280s - loss: 7.5709 - accuracy: 0.1004\n",
            "Epoch 6/50\n",
            "\n",
            " 태조 이성계 선대의 가계 목조 이안사가 전주에서 삼척 의주를 거쳐 알동에 정착하다  것은 , , 말하기를 , \n",
            " 임금이 말하기를 , \n",
            " 말하기를 , \n",
            " 말하기를 , \n",
            " 말하기를 , \n",
            " 임금이 말하기를 , \n",
            " 임금이 말하기를 , \n",
            " 임금이 말하기를 , \n",
            " 하니 , 임금이 말하기를 , \n",
            " 임금이 말하기를 , \n",
            " 임금이 말하기를 , \n",
            " 임금이 말하기를 , \n",
            " 임금이 말하기를 , \n",
            " 하니 , 임금이 말하기를 , \n",
            " 임금이 말하기를 , \n",
            " 임금이 말하기를 , \n",
            " 임금이 말하기를 , \n",
            " 임금이 말하기를 , \n",
            " 하니 , 임금이 말하기를 , \n",
            " 임금이 말하기를 , \n",
            " 임금이 말하기를 , \n",
            " 임금이 말하기를 , \n",
            " 임금이 말하기를 , \n",
            " 하니 , 임금이\n",
            "\n",
            "533/533 - 282s - loss: 7.3260 - accuracy: 0.1155\n",
            "Epoch 7/50\n"
          ],
          "name": "stdout"
        },
        {
          "output_type": "error",
          "ename": "KeyboardInterrupt",
          "evalue": "ignored",
          "traceback": [
            "\u001b[0;31m---------------------------------------------------------------------------\u001b[0m",
            "\u001b[0;31mKeyboardInterrupt\u001b[0m                         Traceback (most recent call last)",
            "\u001b[0;32m<ipython-input-42-9bc7b3ede408>\u001b[0m in \u001b[0;36m<module>\u001b[0;34m()\u001b[0m\n\u001b[1;32m     21\u001b[0m \u001b[0mtestmodelcb\u001b[0m \u001b[0;34m=\u001b[0m \u001b[0mtf\u001b[0m\u001b[0;34m.\u001b[0m\u001b[0mkeras\u001b[0m\u001b[0;34m.\u001b[0m\u001b[0mcallbacks\u001b[0m\u001b[0;34m.\u001b[0m\u001b[0mLambdaCallback\u001b[0m\u001b[0;34m(\u001b[0m\u001b[0mon_epoch_end\u001b[0m\u001b[0;34m=\u001b[0m\u001b[0mtestmodel\u001b[0m\u001b[0;34m)\u001b[0m\u001b[0;34m\u001b[0m\u001b[0;34m\u001b[0m\u001b[0m\n\u001b[1;32m     22\u001b[0m \u001b[0;34m\u001b[0m\u001b[0m\n\u001b[0;32m---> 23\u001b[0;31m \u001b[0mhistory\u001b[0m \u001b[0;34m=\u001b[0m \u001b[0mmodel\u001b[0m\u001b[0;34m.\u001b[0m\u001b[0mfit\u001b[0m\u001b[0;34m(\u001b[0m\u001b[0mtrain_dataset\u001b[0m\u001b[0;34m.\u001b[0m\u001b[0mrepeat\u001b[0m\u001b[0;34m(\u001b[0m\u001b[0;34m)\u001b[0m\u001b[0;34m,\u001b[0m \u001b[0mepochs\u001b[0m\u001b[0;34m=\u001b[0m\u001b[0;36m50\u001b[0m\u001b[0;34m,\u001b[0m \u001b[0msteps_per_epoch\u001b[0m\u001b[0;34m=\u001b[0m\u001b[0msteps_per_epoch\u001b[0m\u001b[0;34m,\u001b[0m \u001b[0mcallbacks\u001b[0m\u001b[0;34m=\u001b[0m\u001b[0;34m[\u001b[0m\u001b[0mtestmodelcb\u001b[0m\u001b[0;34m]\u001b[0m\u001b[0;34m,\u001b[0m \u001b[0mverbose\u001b[0m\u001b[0;34m=\u001b[0m\u001b[0;36m2\u001b[0m\u001b[0;34m)\u001b[0m\u001b[0;34m\u001b[0m\u001b[0;34m\u001b[0m\u001b[0m\n\u001b[0m",
            "\u001b[0;32m/tensorflow-2.1.0/python3.6/tensorflow_core/python/keras/engine/training.py\u001b[0m in \u001b[0;36mfit\u001b[0;34m(self, x, y, batch_size, epochs, verbose, callbacks, validation_split, validation_data, shuffle, class_weight, sample_weight, initial_epoch, steps_per_epoch, validation_steps, validation_freq, max_queue_size, workers, use_multiprocessing, **kwargs)\u001b[0m\n\u001b[1;32m    817\u001b[0m         \u001b[0mmax_queue_size\u001b[0m\u001b[0;34m=\u001b[0m\u001b[0mmax_queue_size\u001b[0m\u001b[0;34m,\u001b[0m\u001b[0;34m\u001b[0m\u001b[0;34m\u001b[0m\u001b[0m\n\u001b[1;32m    818\u001b[0m         \u001b[0mworkers\u001b[0m\u001b[0;34m=\u001b[0m\u001b[0mworkers\u001b[0m\u001b[0;34m,\u001b[0m\u001b[0;34m\u001b[0m\u001b[0;34m\u001b[0m\u001b[0m\n\u001b[0;32m--> 819\u001b[0;31m         use_multiprocessing=use_multiprocessing)\n\u001b[0m\u001b[1;32m    820\u001b[0m \u001b[0;34m\u001b[0m\u001b[0m\n\u001b[1;32m    821\u001b[0m   def evaluate(self,\n",
            "\u001b[0;32m/tensorflow-2.1.0/python3.6/tensorflow_core/python/keras/engine/training_v2.py\u001b[0m in \u001b[0;36mfit\u001b[0;34m(self, model, x, y, batch_size, epochs, verbose, callbacks, validation_split, validation_data, shuffle, class_weight, sample_weight, initial_epoch, steps_per_epoch, validation_steps, validation_freq, max_queue_size, workers, use_multiprocessing, **kwargs)\u001b[0m\n\u001b[1;32m    340\u001b[0m                 \u001b[0mmode\u001b[0m\u001b[0;34m=\u001b[0m\u001b[0mModeKeys\u001b[0m\u001b[0;34m.\u001b[0m\u001b[0mTRAIN\u001b[0m\u001b[0;34m,\u001b[0m\u001b[0;34m\u001b[0m\u001b[0;34m\u001b[0m\u001b[0m\n\u001b[1;32m    341\u001b[0m                 \u001b[0mtraining_context\u001b[0m\u001b[0;34m=\u001b[0m\u001b[0mtraining_context\u001b[0m\u001b[0;34m,\u001b[0m\u001b[0;34m\u001b[0m\u001b[0;34m\u001b[0m\u001b[0m\n\u001b[0;32m--> 342\u001b[0;31m                 total_epochs=epochs)\n\u001b[0m\u001b[1;32m    343\u001b[0m             \u001b[0mcbks\u001b[0m\u001b[0;34m.\u001b[0m\u001b[0mmake_logs\u001b[0m\u001b[0;34m(\u001b[0m\u001b[0mmodel\u001b[0m\u001b[0;34m,\u001b[0m \u001b[0mepoch_logs\u001b[0m\u001b[0;34m,\u001b[0m \u001b[0mtraining_result\u001b[0m\u001b[0;34m,\u001b[0m \u001b[0mModeKeys\u001b[0m\u001b[0;34m.\u001b[0m\u001b[0mTRAIN\u001b[0m\u001b[0;34m)\u001b[0m\u001b[0;34m\u001b[0m\u001b[0;34m\u001b[0m\u001b[0m\n\u001b[1;32m    344\u001b[0m \u001b[0;34m\u001b[0m\u001b[0m\n",
            "\u001b[0;32m/tensorflow-2.1.0/python3.6/tensorflow_core/python/keras/engine/training_v2.py\u001b[0m in \u001b[0;36mrun_one_epoch\u001b[0;34m(model, iterator, execution_function, dataset_size, batch_size, strategy, steps_per_epoch, num_samples, mode, training_context, total_epochs)\u001b[0m\n\u001b[1;32m    126\u001b[0m         step=step, mode=mode, size=current_batch_size) as batch_logs:\n\u001b[1;32m    127\u001b[0m       \u001b[0;32mtry\u001b[0m\u001b[0;34m:\u001b[0m\u001b[0;34m\u001b[0m\u001b[0;34m\u001b[0m\u001b[0m\n\u001b[0;32m--> 128\u001b[0;31m         \u001b[0mbatch_outs\u001b[0m \u001b[0;34m=\u001b[0m \u001b[0mexecution_function\u001b[0m\u001b[0;34m(\u001b[0m\u001b[0miterator\u001b[0m\u001b[0;34m)\u001b[0m\u001b[0;34m\u001b[0m\u001b[0;34m\u001b[0m\u001b[0m\n\u001b[0m\u001b[1;32m    129\u001b[0m       \u001b[0;32mexcept\u001b[0m \u001b[0;34m(\u001b[0m\u001b[0mStopIteration\u001b[0m\u001b[0;34m,\u001b[0m \u001b[0merrors\u001b[0m\u001b[0;34m.\u001b[0m\u001b[0mOutOfRangeError\u001b[0m\u001b[0;34m)\u001b[0m\u001b[0;34m:\u001b[0m\u001b[0;34m\u001b[0m\u001b[0;34m\u001b[0m\u001b[0m\n\u001b[1;32m    130\u001b[0m         \u001b[0;31m# TODO(kaftan): File bug about tf function and errors.OutOfRangeError?\u001b[0m\u001b[0;34m\u001b[0m\u001b[0;34m\u001b[0m\u001b[0;34m\u001b[0m\u001b[0m\n",
            "\u001b[0;32m/tensorflow-2.1.0/python3.6/tensorflow_core/python/keras/engine/training_v2_utils.py\u001b[0m in \u001b[0;36mexecution_function\u001b[0;34m(input_fn)\u001b[0m\n\u001b[1;32m     96\u001b[0m     \u001b[0;31m# `numpy` translates Tensors to values in Eager mode.\u001b[0m\u001b[0;34m\u001b[0m\u001b[0;34m\u001b[0m\u001b[0;34m\u001b[0m\u001b[0m\n\u001b[1;32m     97\u001b[0m     return nest.map_structure(_non_none_constant_value,\n\u001b[0;32m---> 98\u001b[0;31m                               distributed_function(input_fn))\n\u001b[0m\u001b[1;32m     99\u001b[0m \u001b[0;34m\u001b[0m\u001b[0m\n\u001b[1;32m    100\u001b[0m   \u001b[0;32mreturn\u001b[0m \u001b[0mexecution_function\u001b[0m\u001b[0;34m\u001b[0m\u001b[0;34m\u001b[0m\u001b[0m\n",
            "\u001b[0;32m/tensorflow-2.1.0/python3.6/tensorflow_core/python/eager/def_function.py\u001b[0m in \u001b[0;36m__call__\u001b[0;34m(self, *args, **kwds)\u001b[0m\n\u001b[1;32m    566\u001b[0m         \u001b[0mxla_context\u001b[0m\u001b[0;34m.\u001b[0m\u001b[0mExit\u001b[0m\u001b[0;34m(\u001b[0m\u001b[0;34m)\u001b[0m\u001b[0;34m\u001b[0m\u001b[0;34m\u001b[0m\u001b[0m\n\u001b[1;32m    567\u001b[0m     \u001b[0;32melse\u001b[0m\u001b[0;34m:\u001b[0m\u001b[0;34m\u001b[0m\u001b[0;34m\u001b[0m\u001b[0m\n\u001b[0;32m--> 568\u001b[0;31m       \u001b[0mresult\u001b[0m \u001b[0;34m=\u001b[0m \u001b[0mself\u001b[0m\u001b[0;34m.\u001b[0m\u001b[0m_call\u001b[0m\u001b[0;34m(\u001b[0m\u001b[0;34m*\u001b[0m\u001b[0margs\u001b[0m\u001b[0;34m,\u001b[0m \u001b[0;34m**\u001b[0m\u001b[0mkwds\u001b[0m\u001b[0;34m)\u001b[0m\u001b[0;34m\u001b[0m\u001b[0;34m\u001b[0m\u001b[0m\n\u001b[0m\u001b[1;32m    569\u001b[0m \u001b[0;34m\u001b[0m\u001b[0m\n\u001b[1;32m    570\u001b[0m     \u001b[0;32mif\u001b[0m \u001b[0mtracing_count\u001b[0m \u001b[0;34m==\u001b[0m \u001b[0mself\u001b[0m\u001b[0;34m.\u001b[0m\u001b[0m_get_tracing_count\u001b[0m\u001b[0;34m(\u001b[0m\u001b[0;34m)\u001b[0m\u001b[0;34m:\u001b[0m\u001b[0;34m\u001b[0m\u001b[0;34m\u001b[0m\u001b[0m\n",
            "\u001b[0;32m/tensorflow-2.1.0/python3.6/tensorflow_core/python/eager/def_function.py\u001b[0m in \u001b[0;36m_call\u001b[0;34m(self, *args, **kwds)\u001b[0m\n\u001b[1;32m    597\u001b[0m       \u001b[0;31m# In this case we have created variables on the first call, so we run the\u001b[0m\u001b[0;34m\u001b[0m\u001b[0;34m\u001b[0m\u001b[0;34m\u001b[0m\u001b[0m\n\u001b[1;32m    598\u001b[0m       \u001b[0;31m# defunned version which is guaranteed to never create variables.\u001b[0m\u001b[0;34m\u001b[0m\u001b[0;34m\u001b[0m\u001b[0;34m\u001b[0m\u001b[0m\n\u001b[0;32m--> 599\u001b[0;31m       \u001b[0;32mreturn\u001b[0m \u001b[0mself\u001b[0m\u001b[0;34m.\u001b[0m\u001b[0m_stateless_fn\u001b[0m\u001b[0;34m(\u001b[0m\u001b[0;34m*\u001b[0m\u001b[0margs\u001b[0m\u001b[0;34m,\u001b[0m \u001b[0;34m**\u001b[0m\u001b[0mkwds\u001b[0m\u001b[0;34m)\u001b[0m  \u001b[0;31m# pylint: disable=not-callable\u001b[0m\u001b[0;34m\u001b[0m\u001b[0;34m\u001b[0m\u001b[0m\n\u001b[0m\u001b[1;32m    600\u001b[0m     \u001b[0;32melif\u001b[0m \u001b[0mself\u001b[0m\u001b[0;34m.\u001b[0m\u001b[0m_stateful_fn\u001b[0m \u001b[0;32mis\u001b[0m \u001b[0;32mnot\u001b[0m \u001b[0;32mNone\u001b[0m\u001b[0;34m:\u001b[0m\u001b[0;34m\u001b[0m\u001b[0;34m\u001b[0m\u001b[0m\n\u001b[1;32m    601\u001b[0m       \u001b[0;31m# Release the lock early so that multiple threads can perform the call\u001b[0m\u001b[0;34m\u001b[0m\u001b[0;34m\u001b[0m\u001b[0;34m\u001b[0m\u001b[0m\n",
            "\u001b[0;32m/tensorflow-2.1.0/python3.6/tensorflow_core/python/eager/function.py\u001b[0m in \u001b[0;36m__call__\u001b[0;34m(self, *args, **kwargs)\u001b[0m\n\u001b[1;32m   2361\u001b[0m     \u001b[0;32mwith\u001b[0m \u001b[0mself\u001b[0m\u001b[0;34m.\u001b[0m\u001b[0m_lock\u001b[0m\u001b[0;34m:\u001b[0m\u001b[0;34m\u001b[0m\u001b[0;34m\u001b[0m\u001b[0m\n\u001b[1;32m   2362\u001b[0m       \u001b[0mgraph_function\u001b[0m\u001b[0;34m,\u001b[0m \u001b[0margs\u001b[0m\u001b[0;34m,\u001b[0m \u001b[0mkwargs\u001b[0m \u001b[0;34m=\u001b[0m \u001b[0mself\u001b[0m\u001b[0;34m.\u001b[0m\u001b[0m_maybe_define_function\u001b[0m\u001b[0;34m(\u001b[0m\u001b[0margs\u001b[0m\u001b[0;34m,\u001b[0m \u001b[0mkwargs\u001b[0m\u001b[0;34m)\u001b[0m\u001b[0;34m\u001b[0m\u001b[0;34m\u001b[0m\u001b[0m\n\u001b[0;32m-> 2363\u001b[0;31m     \u001b[0;32mreturn\u001b[0m \u001b[0mgraph_function\u001b[0m\u001b[0;34m.\u001b[0m\u001b[0m_filtered_call\u001b[0m\u001b[0;34m(\u001b[0m\u001b[0margs\u001b[0m\u001b[0;34m,\u001b[0m \u001b[0mkwargs\u001b[0m\u001b[0;34m)\u001b[0m  \u001b[0;31m# pylint: disable=protected-access\u001b[0m\u001b[0;34m\u001b[0m\u001b[0;34m\u001b[0m\u001b[0m\n\u001b[0m\u001b[1;32m   2364\u001b[0m \u001b[0;34m\u001b[0m\u001b[0m\n\u001b[1;32m   2365\u001b[0m   \u001b[0;34m@\u001b[0m\u001b[0mproperty\u001b[0m\u001b[0;34m\u001b[0m\u001b[0;34m\u001b[0m\u001b[0m\n",
            "\u001b[0;32m/tensorflow-2.1.0/python3.6/tensorflow_core/python/eager/function.py\u001b[0m in \u001b[0;36m_filtered_call\u001b[0;34m(self, args, kwargs)\u001b[0m\n\u001b[1;32m   1609\u001b[0m          if isinstance(t, (ops.Tensor,\n\u001b[1;32m   1610\u001b[0m                            resource_variable_ops.BaseResourceVariable))),\n\u001b[0;32m-> 1611\u001b[0;31m         self.captured_inputs)\n\u001b[0m\u001b[1;32m   1612\u001b[0m \u001b[0;34m\u001b[0m\u001b[0m\n\u001b[1;32m   1613\u001b[0m   \u001b[0;32mdef\u001b[0m \u001b[0m_call_flat\u001b[0m\u001b[0;34m(\u001b[0m\u001b[0mself\u001b[0m\u001b[0;34m,\u001b[0m \u001b[0margs\u001b[0m\u001b[0;34m,\u001b[0m \u001b[0mcaptured_inputs\u001b[0m\u001b[0;34m,\u001b[0m \u001b[0mcancellation_manager\u001b[0m\u001b[0;34m=\u001b[0m\u001b[0;32mNone\u001b[0m\u001b[0;34m)\u001b[0m\u001b[0;34m:\u001b[0m\u001b[0;34m\u001b[0m\u001b[0;34m\u001b[0m\u001b[0m\n",
            "\u001b[0;32m/tensorflow-2.1.0/python3.6/tensorflow_core/python/eager/function.py\u001b[0m in \u001b[0;36m_call_flat\u001b[0;34m(self, args, captured_inputs, cancellation_manager)\u001b[0m\n\u001b[1;32m   1690\u001b[0m       \u001b[0;31m# No tape is watching; skip to running the function.\u001b[0m\u001b[0;34m\u001b[0m\u001b[0;34m\u001b[0m\u001b[0;34m\u001b[0m\u001b[0m\n\u001b[1;32m   1691\u001b[0m       return self._build_call_outputs(self._inference_function.call(\n\u001b[0;32m-> 1692\u001b[0;31m           ctx, args, cancellation_manager=cancellation_manager))\n\u001b[0m\u001b[1;32m   1693\u001b[0m     forward_backward = self._select_forward_and_backward_functions(\n\u001b[1;32m   1694\u001b[0m         \u001b[0margs\u001b[0m\u001b[0;34m,\u001b[0m\u001b[0;34m\u001b[0m\u001b[0;34m\u001b[0m\u001b[0m\n",
            "\u001b[0;32m/tensorflow-2.1.0/python3.6/tensorflow_core/python/eager/function.py\u001b[0m in \u001b[0;36mcall\u001b[0;34m(self, ctx, args, cancellation_manager)\u001b[0m\n\u001b[1;32m    543\u001b[0m               \u001b[0minputs\u001b[0m\u001b[0;34m=\u001b[0m\u001b[0margs\u001b[0m\u001b[0;34m,\u001b[0m\u001b[0;34m\u001b[0m\u001b[0;34m\u001b[0m\u001b[0m\n\u001b[1;32m    544\u001b[0m               \u001b[0mattrs\u001b[0m\u001b[0;34m=\u001b[0m\u001b[0;34m(\u001b[0m\u001b[0;34m\"executor_type\"\u001b[0m\u001b[0;34m,\u001b[0m \u001b[0mexecutor_type\u001b[0m\u001b[0;34m,\u001b[0m \u001b[0;34m\"config_proto\"\u001b[0m\u001b[0;34m,\u001b[0m \u001b[0mconfig\u001b[0m\u001b[0;34m)\u001b[0m\u001b[0;34m,\u001b[0m\u001b[0;34m\u001b[0m\u001b[0;34m\u001b[0m\u001b[0m\n\u001b[0;32m--> 545\u001b[0;31m               ctx=ctx)\n\u001b[0m\u001b[1;32m    546\u001b[0m         \u001b[0;32melse\u001b[0m\u001b[0;34m:\u001b[0m\u001b[0;34m\u001b[0m\u001b[0;34m\u001b[0m\u001b[0m\n\u001b[1;32m    547\u001b[0m           outputs = execute.execute_with_cancellation(\n",
            "\u001b[0;32m/tensorflow-2.1.0/python3.6/tensorflow_core/python/eager/execute.py\u001b[0m in \u001b[0;36mquick_execute\u001b[0;34m(op_name, num_outputs, inputs, attrs, ctx, name)\u001b[0m\n\u001b[1;32m     59\u001b[0m     tensors = pywrap_tensorflow.TFE_Py_Execute(ctx._handle, device_name,\n\u001b[1;32m     60\u001b[0m                                                \u001b[0mop_name\u001b[0m\u001b[0;34m,\u001b[0m \u001b[0minputs\u001b[0m\u001b[0;34m,\u001b[0m \u001b[0mattrs\u001b[0m\u001b[0;34m,\u001b[0m\u001b[0;34m\u001b[0m\u001b[0;34m\u001b[0m\u001b[0m\n\u001b[0;32m---> 61\u001b[0;31m                                                num_outputs)\n\u001b[0m\u001b[1;32m     62\u001b[0m   \u001b[0;32mexcept\u001b[0m \u001b[0mcore\u001b[0m\u001b[0;34m.\u001b[0m\u001b[0m_NotOkStatusException\u001b[0m \u001b[0;32mas\u001b[0m \u001b[0me\u001b[0m\u001b[0;34m:\u001b[0m\u001b[0;34m\u001b[0m\u001b[0;34m\u001b[0m\u001b[0m\n\u001b[1;32m     63\u001b[0m     \u001b[0;32mif\u001b[0m \u001b[0mname\u001b[0m \u001b[0;32mis\u001b[0m \u001b[0;32mnot\u001b[0m \u001b[0;32mNone\u001b[0m\u001b[0;34m:\u001b[0m\u001b[0;34m\u001b[0m\u001b[0;34m\u001b[0m\u001b[0m\n",
            "\u001b[0;31mKeyboardInterrupt\u001b[0m: "
          ]
        }
      ]
    },
    {
      "cell_type": "code",
      "metadata": {
        "id": "qNibjZIEGVKi",
        "colab_type": "code",
        "colab": {
          "base_uri": "https://localhost:8080/",
          "height": 593
        },
        "outputId": "6506211a-553d-4000-b45d-fb4f87edef55"
      },
      "source": [
        "# 7.42 임의의 문장을 사용한 생성 결과 확인\n",
        "from tensorflow.keras.preprocessing.sequence import pad_sequences\n",
        "test_sentence = '동헌에 나가 공무를 본 후 활 십오 순을 쏘았다'\n",
        "\n",
        "next_words = 100\n",
        "for _ in range(next_words):\n",
        "    test_text_X = test_sentence.split(' ')[-seq_length:]\n",
        "    test_text_X = np.array([word2idx[c] if c in word2idx else word2idx['UNK'] for c in test_text_X])\n",
        "    test_text_X = pad_sequences([test_text_X], maxlen=seq_length, padding='pre', value=word2idx['UNK'])\n",
        "    \n",
        "    output_idx = model.predict_classes(test_text_X)\n",
        "    test_sentence += ' ' + idx2word[output_idx[0]]\n",
        "\n",
        "print(test_sentence)"
      ],
      "execution_count": 43,
      "outputs": [
        {
          "output_type": "stream",
          "text": [
            "동헌에 나가 공무를 본 후 활 십오 순을 쏘았다 아뢰기를 , \n",
            " 임금이 말하기를 , \n",
            " 임금이 말하기를 , \n",
            " 임금이 아뢰기를 , \n",
            " 그 아뢰기를 , \n",
            " 그 아뢰기를 , \n",
            " 아뢰기를 , \n",
            " 아뢰기를 , \n",
            " 아뢰기를 , \n",
            " 아뢰기를 , \n",
            " 아뢰기를 , \n",
            " 아뢰기를 , \n",
            " 아뢰기를 , \n",
            " 아뢰기를 , \n",
            " 아뢰기를 , \n",
            " 아뢰기를 , \n",
            " 아뢰기를 , \n",
            " 아뢰기를 , \n",
            " 아뢰기를 , \n",
            " 아뢰기를 , \n",
            " 아뢰기를 , \n",
            " 아뢰기를 , \n",
            " 아뢰기를 , \n",
            " 아뢰기를 , \n",
            " 아뢰기를 , \n",
            " 아뢰기를 , \n",
            " 아뢰기를 , \n",
            " 아뢰기를 , \n",
            " 아뢰기를 , \n",
            " 아뢰기를 , \n",
            " 아뢰기를 , \n",
            " 아뢰기를 ,\n"
          ],
          "name": "stdout"
        }
      ]
    },
    {
      "cell_type": "code",
      "metadata": {
        "id": "kzYjDIziHw5G",
        "colab_type": "code",
        "colab": {
          "base_uri": "https://localhost:8080/",
          "height": 143
        },
        "outputId": "21f02eab-047e-4be9-cce1-6439ba52be14"
      },
      "source": [
        "# 7.43 jamotools 설치\n",
        "!pip install jamotools"
      ],
      "execution_count": 44,
      "outputs": [
        {
          "output_type": "stream",
          "text": [
            "Collecting jamotools\n",
            "  Downloading https://files.pythonhosted.org/packages/3d/d6/ec13c68f7ea6a8085966390d256d183bf8488f8b9770028359acb86df643/jamotools-0.1.10-py2.py3-none-any.whl\n",
            "Requirement already satisfied: six in /tensorflow-2.1.0/python3.6 (from jamotools) (1.14.0)\n",
            "Requirement already satisfied: future in /usr/local/lib/python3.6/dist-packages (from jamotools) (0.16.0)\n",
            "Requirement already satisfied: numpy in /tensorflow-2.1.0/python3.6 (from jamotools) (1.18.1)\n",
            "Installing collected packages: jamotools\n",
            "Successfully installed jamotools-0.1.10\n"
          ],
          "name": "stdout"
        }
      ]
    },
    {
      "cell_type": "code",
      "metadata": {
        "id": "iDSdu0f6H059",
        "colab_type": "code",
        "colab": {
          "base_uri": "https://localhost:8080/",
          "height": 89
        },
        "outputId": "e6fcb496-d141-47e4-f9db-1d8017fe6cc4"
      },
      "source": [
        "# 7.44 자모 분리 테스트\n",
        "import jamotools\n",
        "\n",
        "train_text = open(path_to_file, 'rb').read().decode(encoding='utf-8')\n",
        "s = train_text[:100]\n",
        "print(s)\n",
        "\n",
        "# 한글 텍스트를 자모 단위로 분리해줍니다. 한자 등에는 영향이 없습니다.\n",
        "s_split = jamotools.split_syllables(s)\n",
        "print(s_split)"
      ],
      "execution_count": 45,
      "outputs": [
        {
          "output_type": "stream",
          "text": [
            "﻿태조 이성계 선대의 가계. 목조 이안사가 전주에서 삼척·의주를 거쳐 알동에 정착하다 \n",
            "태조 강헌 지인 계운 성문 신무 대왕(太祖康獻至仁啓運聖文神武大王)의 성은 이씨(李氏)요, 휘\n",
            "﻿ㅌㅐㅈㅗ ㅇㅣㅅㅓㅇㄱㅖ ㅅㅓㄴㄷㅐㅇㅢ ㄱㅏㄱㅖ. ㅁㅗㄱㅈㅗ ㅇㅣㅇㅏㄴㅅㅏㄱㅏ ㅈㅓㄴㅈㅜㅇㅔㅅㅓ ㅅㅏㅁㅊㅓㄱ·ㅇㅢㅈㅜㄹㅡㄹ ㄱㅓㅊㅕ ㅇㅏㄹㄷㅗㅇㅇㅔ ㅈㅓㅇㅊㅏㄱㅎㅏㄷㅏ \n",
            "ㅌㅐㅈㅗ ㄱㅏㅇㅎㅓㄴ ㅈㅣㅇㅣㄴ ㄱㅖㅇㅜㄴ ㅅㅓㅇㅁㅜㄴ ㅅㅣㄴㅁㅜ ㄷㅐㅇㅘㅇ(太祖康獻至仁啓運聖文神武大王)ㅇㅢ ㅅㅓㅇㅇㅡㄴ ㅇㅣㅆㅣ(李氏)ㅇㅛ, ㅎㅟ\n"
          ],
          "name": "stdout"
        }
      ]
    },
    {
      "cell_type": "code",
      "metadata": {
        "id": "NRpCuo7oH--t",
        "colab_type": "code",
        "colab": {
          "base_uri": "https://localhost:8080/",
          "height": 71
        },
        "outputId": "deb53437-7a03-43b5-f388-5a273b9021fe"
      },
      "source": [
        "# 7.45 자모 결합 테스트\n",
        "s2 = jamotools.join_jamos(s_split)\n",
        "print(s2)\n",
        "print(s == s2)"
      ],
      "execution_count": 46,
      "outputs": [
        {
          "output_type": "stream",
          "text": [
            "﻿태조 이성계 선대의 가계. 목조 이안사가 전주에서 삼척·의주를 거쳐 알동에 정착하다 \n",
            "태조 강헌 지인 계운 성문 신무 대왕(太祖康獻至仁啓運聖文神武大王)의 성은 이씨(李氏)요, 휘\n",
            "True\n"
          ],
          "name": "stdout"
        }
      ]
    },
    {
      "cell_type": "code",
      "metadata": {
        "id": "iGe5c5_CIAhV",
        "colab_type": "code",
        "colab": {
          "base_uri": "https://localhost:8080/",
          "height": 287
        },
        "outputId": "bd81f72c-1a3d-471b-d32a-2e4ba1991c27"
      },
      "source": [
        "# 7.46 자모 토큰화\n",
        "# 텍스트를 자모 단위로 나눕니다. 데이터가 크기 때문에 약간 시간이 걸립니다.\n",
        "train_text_X = jamotools.split_syllables(train_text)\n",
        "vocab = sorted(set(train_text_X))\n",
        "vocab.append('UNK')\n",
        "print ('{} unique characters'.format(len(vocab)))\n",
        "\n",
        "# vocab list를 숫자로 맵핑하고, 반대도 실행합니다.\n",
        "char2idx = {u:i for i, u in enumerate(vocab)}\n",
        "idx2char = np.array(vocab)\n",
        "\n",
        "text_as_int = np.array([char2idx[c] for c in train_text_X])\n",
        "\n",
        "# word2idx 의 일부를 알아보기 쉽게 print 해봅니다.\n",
        "print('{')\n",
        "for char,_ in zip(char2idx, range(10)):\n",
        "    print('  {:4s}: {:3d},'.format(repr(char), char2idx[char]))\n",
        "print('  ...\\n}')\n",
        "\n",
        "print('index of UNK: {}'.format(char2idx['UNK']))"
      ],
      "execution_count": 47,
      "outputs": [
        {
          "output_type": "stream",
          "text": [
            "6198 unique characters\n",
            "{\n",
            "  '\\n':   0,\n",
            "  ' ' :   1,\n",
            "  '!' :   2,\n",
            "  '\"' :   3,\n",
            "  \"'\" :   4,\n",
            "  '(' :   5,\n",
            "  ')' :   6,\n",
            "  '+' :   7,\n",
            "  ',' :   8,\n",
            "  '-' :   9,\n",
            "  ...\n",
            "}\n",
            "index of UNK: 6197\n"
          ],
          "name": "stdout"
        }
      ]
    },
    {
      "cell_type": "code",
      "metadata": {
        "id": "pYzraOyDIFht",
        "colab_type": "code",
        "colab": {
          "base_uri": "https://localhost:8080/",
          "height": 71
        },
        "outputId": "a4f8a560-7bc1-41a2-8e57-4bdf9b5b0242"
      },
      "source": [
        "# 7.47 토큰 데이터 확인\n",
        "print(train_text_X[:20])\n",
        "print(text_as_int[:20])"
      ],
      "execution_count": 48,
      "outputs": [
        {
          "output_type": "stream",
          "text": [
            "﻿ㅌㅐㅈㅗ ㅇㅣㅅㅓㅇㄱㅖ ㅅㅓㄴㄷㅐㅇ\n",
            "[6158   83   87   79   94    1   78  106   76   90   78   56   93    1\n",
            "   76   90   59   62   87   78]\n"
          ],
          "name": "stdout"
        }
      ]
    },
    {
      "cell_type": "code",
      "metadata": {
        "id": "L-qU5SCnJitt",
        "colab_type": "code",
        "colab": {
          "base_uri": "https://localhost:8080/",
          "height": 449
        },
        "outputId": "b1af0958-c1a3-44e0-e4df-c68dbab5763b"
      },
      "source": [
        "# 7.48 학습 데이터세트 생성\n",
        "seq_length = 80\n",
        "examples_per_epoch = len(text_as_int) // seq_length\n",
        "char_dataset = tf.data.Dataset.from_tensor_slices(text_as_int)\n",
        "\n",
        "char_dataset = char_dataset.batch(seq_length+1, drop_remainder=True)\n",
        "for item in char_dataset.take(1):\n",
        "    print(idx2char[item.numpy()])\n",
        "    print(item.numpy())\n",
        "    \n",
        "def split_input_target(chunk):\n",
        "    return [chunk[:-1], chunk[-1]]\n",
        "\n",
        "train_dataset = char_dataset.map(split_input_target)\n",
        "for x,y in train_dataset.take(1):\n",
        "    print(idx2char[x.numpy()])\n",
        "    print(x.numpy())\n",
        "    print(idx2char[y.numpy()])\n",
        "    print(y.numpy())\n",
        "    \n",
        "BATCH_SIZE = 256\n",
        "steps_per_epoch = examples_per_epoch // BATCH_SIZE\n",
        "BUFFER_SIZE = 10000\n",
        "\n",
        "train_dataset = train_dataset.shuffle(BUFFER_SIZE).batch(BATCH_SIZE, drop_remainder=True)"
      ],
      "execution_count": 49,
      "outputs": [
        {
          "output_type": "stream",
          "text": [
            "['\\ufeff' 'ㅌ' 'ㅐ' 'ㅈ' 'ㅗ' ' ' 'ㅇ' 'ㅣ' 'ㅅ' 'ㅓ' 'ㅇ' 'ㄱ' 'ㅖ' ' ' 'ㅅ' 'ㅓ' 'ㄴ'\n",
            " 'ㄷ' 'ㅐ' 'ㅇ' 'ㅢ' ' ' 'ㄱ' 'ㅏ' 'ㄱ' 'ㅖ' '.' ' ' 'ㅁ' 'ㅗ' 'ㄱ' 'ㅈ' 'ㅗ' ' ' 'ㅇ'\n",
            " 'ㅣ' 'ㅇ' 'ㅏ' 'ㄴ' 'ㅅ' 'ㅏ' 'ㄱ' 'ㅏ' ' ' 'ㅈ' 'ㅓ' 'ㄴ' 'ㅈ' 'ㅜ' 'ㅇ' 'ㅔ' 'ㅅ' 'ㅓ'\n",
            " ' ' 'ㅅ' 'ㅏ' 'ㅁ' 'ㅊ' 'ㅓ' 'ㄱ' '·' 'ㅇ' 'ㅢ' 'ㅈ' 'ㅜ' 'ㄹ' 'ㅡ' 'ㄹ' ' ' 'ㄱ' 'ㅓ'\n",
            " 'ㅊ' 'ㅕ' ' ' 'ㅇ' 'ㅏ' 'ㄹ' 'ㄷ' 'ㅗ' 'ㅇ' 'ㅇ']\n",
            "[6158   83   87   79   94    1   78  106   76   90   78   56   93    1\n",
            "   76   90   59   62   87   78  105    1   56   86   56   93   10    1\n",
            "   72   94   56   79   94    1   78  106   78   86   59   76   86   56\n",
            "   86    1   79   90   59   79   99   78   91   76   90    1   76   86\n",
            "   72   81   90   56   36   78  105   79   99   64  104   64    1   56\n",
            "   90   81   92    1   78   86   64   62   94   78   78]\n",
            "['\\ufeff' 'ㅌ' 'ㅐ' 'ㅈ' 'ㅗ' ' ' 'ㅇ' 'ㅣ' 'ㅅ' 'ㅓ' 'ㅇ' 'ㄱ' 'ㅖ' ' ' 'ㅅ' 'ㅓ' 'ㄴ'\n",
            " 'ㄷ' 'ㅐ' 'ㅇ' 'ㅢ' ' ' 'ㄱ' 'ㅏ' 'ㄱ' 'ㅖ' '.' ' ' 'ㅁ' 'ㅗ' 'ㄱ' 'ㅈ' 'ㅗ' ' ' 'ㅇ'\n",
            " 'ㅣ' 'ㅇ' 'ㅏ' 'ㄴ' 'ㅅ' 'ㅏ' 'ㄱ' 'ㅏ' ' ' 'ㅈ' 'ㅓ' 'ㄴ' 'ㅈ' 'ㅜ' 'ㅇ' 'ㅔ' 'ㅅ' 'ㅓ'\n",
            " ' ' 'ㅅ' 'ㅏ' 'ㅁ' 'ㅊ' 'ㅓ' 'ㄱ' '·' 'ㅇ' 'ㅢ' 'ㅈ' 'ㅜ' 'ㄹ' 'ㅡ' 'ㄹ' ' ' 'ㄱ' 'ㅓ'\n",
            " 'ㅊ' 'ㅕ' ' ' 'ㅇ' 'ㅏ' 'ㄹ' 'ㄷ' 'ㅗ' 'ㅇ']\n",
            "[6158   83   87   79   94    1   78  106   76   90   78   56   93    1\n",
            "   76   90   59   62   87   78  105    1   56   86   56   93   10    1\n",
            "   72   94   56   79   94    1   78  106   78   86   59   76   86   56\n",
            "   86    1   79   90   59   79   99   78   91   76   90    1   76   86\n",
            "   72   81   90   56   36   78  105   79   99   64  104   64    1   56\n",
            "   90   81   92    1   78   86   64   62   94   78]\n",
            "ㅇ\n",
            "78\n"
          ],
          "name": "stdout"
        }
      ]
    },
    {
      "cell_type": "code",
      "metadata": {
        "id": "PF3v3Lr5JpU1",
        "colab_type": "code",
        "colab": {
          "base_uri": "https://localhost:8080/",
          "height": 269
        },
        "outputId": "34103df4-4779-4c71-9a04-f0f0b53c0d87"
      },
      "source": [
        "# 7.49 자소 단위 생성 모델 정의\n",
        "total_chars = len(vocab)\n",
        "model = tf.keras.Sequential([\n",
        "    tf.keras.layers.Embedding(total_chars, 100, input_length=seq_length),\n",
        "    tf.keras.layers.LSTM(units=400),\n",
        "    tf.keras.layers.Dense(total_chars, activation='softmax')\n",
        "])\n",
        "\n",
        "model.compile(optimizer='adam', loss='sparse_categorical_crossentropy', metrics=['accuracy'])\n",
        "model.summary()"
      ],
      "execution_count": 50,
      "outputs": [
        {
          "output_type": "stream",
          "text": [
            "Model: \"sequential_6\"\n",
            "_________________________________________________________________\n",
            "Layer (type)                 Output Shape              Param #   \n",
            "=================================================================\n",
            "embedding_2 (Embedding)      (None, 80, 100)           619800    \n",
            "_________________________________________________________________\n",
            "lstm_5 (LSTM)                (None, 400)               801600    \n",
            "_________________________________________________________________\n",
            "dense_6 (Dense)              (None, 6198)              2485398   \n",
            "=================================================================\n",
            "Total params: 3,906,798\n",
            "Trainable params: 3,906,798\n",
            "Non-trainable params: 0\n",
            "_________________________________________________________________\n"
          ],
          "name": "stdout"
        }
      ]
    },
    {
      "cell_type": "code",
      "metadata": {
        "id": "BuaL21G6JuCk",
        "colab_type": "code",
        "colab": {
          "base_uri": "https://localhost:8080/",
          "height": 540
        },
        "outputId": "16500724-6b77-4f5d-e6fe-a2c8271f2380"
      },
      "source": [
        "# 7.50 자소 단위 생성 모델 학습\n",
        "from tensorflow.keras.preprocessing.sequence import pad_sequences\n",
        "\n",
        "def testmodel(epoch, logs):\n",
        "    if epoch % 5 != 0 and epoch != 99:\n",
        "        return\n",
        "    \n",
        "    test_sentence = train_text[:48]\n",
        "    test_sentence = jamotools.split_syllables(test_sentence)\n",
        "\n",
        "    next_chars = 300\n",
        "    for _ in range(next_chars):\n",
        "        test_text_X = test_sentence[-seq_length:]\n",
        "        test_text_X = np.array([char2idx[c] if c in char2idx else char2idx['UNK'] for c in test_text_X])\n",
        "        test_text_X = pad_sequences([test_text_X], maxlen=seq_length, padding='pre', value=char2idx['UNK'])\n",
        "\n",
        "        output_idx = model.predict_classes(test_text_X)\n",
        "        test_sentence += idx2char[output_idx[0]]\n",
        "    \n",
        "    print()\n",
        "    print(jamotools.join_jamos(test_sentence))\n",
        "    print()\n",
        "\n",
        "testmodelcb = tf.keras.callbacks.LambdaCallback(on_epoch_end=testmodel)\n",
        "\n",
        "history = model.fit(train_dataset.repeat(), epochs=100, steps_per_epoch=steps_per_epoch, callbacks=[testmodelcb], verbose=2)"
      ],
      "execution_count": 51,
      "outputs": [
        {
          "output_type": "stream",
          "text": [
            "Train for 2364 steps\n",
            "Epoch 1/100\n",
            "\n",
            "﻿태조 이성계 선대의 가계. 목조 이안사가 전주에서 삼척·의주를 거쳐 알동에 정착하다 임을 것을 것을 것을 것을 것을 것을 것을 것을 것을 것을 것을 것을 것을 것을 것을 것을 것을 것을 것을 것을 것을 것을 것을 것을 것을 것을 것을 것을 것을 것을 것을 것을 것을 것을 것을 것을 것을 것을 것을 것을 것을 것을\n",
            "\n",
            "2364/2364 - 154s - loss: 2.5918 - accuracy: 0.3060\n",
            "Epoch 2/100\n",
            "2364/2364 - 144s - loss: 1.9842 - accuracy: 0.4279\n",
            "Epoch 3/100\n"
          ],
          "name": "stdout"
        },
        {
          "output_type": "error",
          "ename": "KeyboardInterrupt",
          "evalue": "ignored",
          "traceback": [
            "\u001b[0;31m---------------------------------------------------------------------------\u001b[0m",
            "\u001b[0;31mKeyboardInterrupt\u001b[0m                         Traceback (most recent call last)",
            "\u001b[0;32m<ipython-input-51-8408df2d616a>\u001b[0m in \u001b[0;36m<module>\u001b[0;34m()\u001b[0m\n\u001b[1;32m     23\u001b[0m \u001b[0mtestmodelcb\u001b[0m \u001b[0;34m=\u001b[0m \u001b[0mtf\u001b[0m\u001b[0;34m.\u001b[0m\u001b[0mkeras\u001b[0m\u001b[0;34m.\u001b[0m\u001b[0mcallbacks\u001b[0m\u001b[0;34m.\u001b[0m\u001b[0mLambdaCallback\u001b[0m\u001b[0;34m(\u001b[0m\u001b[0mon_epoch_end\u001b[0m\u001b[0;34m=\u001b[0m\u001b[0mtestmodel\u001b[0m\u001b[0;34m)\u001b[0m\u001b[0;34m\u001b[0m\u001b[0;34m\u001b[0m\u001b[0m\n\u001b[1;32m     24\u001b[0m \u001b[0;34m\u001b[0m\u001b[0m\n\u001b[0;32m---> 25\u001b[0;31m \u001b[0mhistory\u001b[0m \u001b[0;34m=\u001b[0m \u001b[0mmodel\u001b[0m\u001b[0;34m.\u001b[0m\u001b[0mfit\u001b[0m\u001b[0;34m(\u001b[0m\u001b[0mtrain_dataset\u001b[0m\u001b[0;34m.\u001b[0m\u001b[0mrepeat\u001b[0m\u001b[0;34m(\u001b[0m\u001b[0;34m)\u001b[0m\u001b[0;34m,\u001b[0m \u001b[0mepochs\u001b[0m\u001b[0;34m=\u001b[0m\u001b[0;36m100\u001b[0m\u001b[0;34m,\u001b[0m \u001b[0msteps_per_epoch\u001b[0m\u001b[0;34m=\u001b[0m\u001b[0msteps_per_epoch\u001b[0m\u001b[0;34m,\u001b[0m \u001b[0mcallbacks\u001b[0m\u001b[0;34m=\u001b[0m\u001b[0;34m[\u001b[0m\u001b[0mtestmodelcb\u001b[0m\u001b[0;34m]\u001b[0m\u001b[0;34m,\u001b[0m \u001b[0mverbose\u001b[0m\u001b[0;34m=\u001b[0m\u001b[0;36m2\u001b[0m\u001b[0;34m)\u001b[0m\u001b[0;34m\u001b[0m\u001b[0;34m\u001b[0m\u001b[0m\n\u001b[0m",
            "\u001b[0;32m/tensorflow-2.1.0/python3.6/tensorflow_core/python/keras/engine/training.py\u001b[0m in \u001b[0;36mfit\u001b[0;34m(self, x, y, batch_size, epochs, verbose, callbacks, validation_split, validation_data, shuffle, class_weight, sample_weight, initial_epoch, steps_per_epoch, validation_steps, validation_freq, max_queue_size, workers, use_multiprocessing, **kwargs)\u001b[0m\n\u001b[1;32m    817\u001b[0m         \u001b[0mmax_queue_size\u001b[0m\u001b[0;34m=\u001b[0m\u001b[0mmax_queue_size\u001b[0m\u001b[0;34m,\u001b[0m\u001b[0;34m\u001b[0m\u001b[0;34m\u001b[0m\u001b[0m\n\u001b[1;32m    818\u001b[0m         \u001b[0mworkers\u001b[0m\u001b[0;34m=\u001b[0m\u001b[0mworkers\u001b[0m\u001b[0;34m,\u001b[0m\u001b[0;34m\u001b[0m\u001b[0;34m\u001b[0m\u001b[0m\n\u001b[0;32m--> 819\u001b[0;31m         use_multiprocessing=use_multiprocessing)\n\u001b[0m\u001b[1;32m    820\u001b[0m \u001b[0;34m\u001b[0m\u001b[0m\n\u001b[1;32m    821\u001b[0m   def evaluate(self,\n",
            "\u001b[0;32m/tensorflow-2.1.0/python3.6/tensorflow_core/python/keras/engine/training_v2.py\u001b[0m in \u001b[0;36mfit\u001b[0;34m(self, model, x, y, batch_size, epochs, verbose, callbacks, validation_split, validation_data, shuffle, class_weight, sample_weight, initial_epoch, steps_per_epoch, validation_steps, validation_freq, max_queue_size, workers, use_multiprocessing, **kwargs)\u001b[0m\n\u001b[1;32m    340\u001b[0m                 \u001b[0mmode\u001b[0m\u001b[0;34m=\u001b[0m\u001b[0mModeKeys\u001b[0m\u001b[0;34m.\u001b[0m\u001b[0mTRAIN\u001b[0m\u001b[0;34m,\u001b[0m\u001b[0;34m\u001b[0m\u001b[0;34m\u001b[0m\u001b[0m\n\u001b[1;32m    341\u001b[0m                 \u001b[0mtraining_context\u001b[0m\u001b[0;34m=\u001b[0m\u001b[0mtraining_context\u001b[0m\u001b[0;34m,\u001b[0m\u001b[0;34m\u001b[0m\u001b[0;34m\u001b[0m\u001b[0m\n\u001b[0;32m--> 342\u001b[0;31m                 total_epochs=epochs)\n\u001b[0m\u001b[1;32m    343\u001b[0m             \u001b[0mcbks\u001b[0m\u001b[0;34m.\u001b[0m\u001b[0mmake_logs\u001b[0m\u001b[0;34m(\u001b[0m\u001b[0mmodel\u001b[0m\u001b[0;34m,\u001b[0m \u001b[0mepoch_logs\u001b[0m\u001b[0;34m,\u001b[0m \u001b[0mtraining_result\u001b[0m\u001b[0;34m,\u001b[0m \u001b[0mModeKeys\u001b[0m\u001b[0;34m.\u001b[0m\u001b[0mTRAIN\u001b[0m\u001b[0;34m)\u001b[0m\u001b[0;34m\u001b[0m\u001b[0;34m\u001b[0m\u001b[0m\n\u001b[1;32m    344\u001b[0m \u001b[0;34m\u001b[0m\u001b[0m\n",
            "\u001b[0;32m/tensorflow-2.1.0/python3.6/tensorflow_core/python/keras/engine/training_v2.py\u001b[0m in \u001b[0;36mrun_one_epoch\u001b[0;34m(model, iterator, execution_function, dataset_size, batch_size, strategy, steps_per_epoch, num_samples, mode, training_context, total_epochs)\u001b[0m\n\u001b[1;32m    126\u001b[0m         step=step, mode=mode, size=current_batch_size) as batch_logs:\n\u001b[1;32m    127\u001b[0m       \u001b[0;32mtry\u001b[0m\u001b[0;34m:\u001b[0m\u001b[0;34m\u001b[0m\u001b[0;34m\u001b[0m\u001b[0m\n\u001b[0;32m--> 128\u001b[0;31m         \u001b[0mbatch_outs\u001b[0m \u001b[0;34m=\u001b[0m \u001b[0mexecution_function\u001b[0m\u001b[0;34m(\u001b[0m\u001b[0miterator\u001b[0m\u001b[0;34m)\u001b[0m\u001b[0;34m\u001b[0m\u001b[0;34m\u001b[0m\u001b[0m\n\u001b[0m\u001b[1;32m    129\u001b[0m       \u001b[0;32mexcept\u001b[0m \u001b[0;34m(\u001b[0m\u001b[0mStopIteration\u001b[0m\u001b[0;34m,\u001b[0m \u001b[0merrors\u001b[0m\u001b[0;34m.\u001b[0m\u001b[0mOutOfRangeError\u001b[0m\u001b[0;34m)\u001b[0m\u001b[0;34m:\u001b[0m\u001b[0;34m\u001b[0m\u001b[0;34m\u001b[0m\u001b[0m\n\u001b[1;32m    130\u001b[0m         \u001b[0;31m# TODO(kaftan): File bug about tf function and errors.OutOfRangeError?\u001b[0m\u001b[0;34m\u001b[0m\u001b[0;34m\u001b[0m\u001b[0;34m\u001b[0m\u001b[0m\n",
            "\u001b[0;32m/tensorflow-2.1.0/python3.6/tensorflow_core/python/keras/engine/training_v2_utils.py\u001b[0m in \u001b[0;36mexecution_function\u001b[0;34m(input_fn)\u001b[0m\n\u001b[1;32m     96\u001b[0m     \u001b[0;31m# `numpy` translates Tensors to values in Eager mode.\u001b[0m\u001b[0;34m\u001b[0m\u001b[0;34m\u001b[0m\u001b[0;34m\u001b[0m\u001b[0m\n\u001b[1;32m     97\u001b[0m     return nest.map_structure(_non_none_constant_value,\n\u001b[0;32m---> 98\u001b[0;31m                               distributed_function(input_fn))\n\u001b[0m\u001b[1;32m     99\u001b[0m \u001b[0;34m\u001b[0m\u001b[0m\n\u001b[1;32m    100\u001b[0m   \u001b[0;32mreturn\u001b[0m \u001b[0mexecution_function\u001b[0m\u001b[0;34m\u001b[0m\u001b[0;34m\u001b[0m\u001b[0m\n",
            "\u001b[0;32m/tensorflow-2.1.0/python3.6/tensorflow_core/python/eager/def_function.py\u001b[0m in \u001b[0;36m__call__\u001b[0;34m(self, *args, **kwds)\u001b[0m\n\u001b[1;32m    566\u001b[0m         \u001b[0mxla_context\u001b[0m\u001b[0;34m.\u001b[0m\u001b[0mExit\u001b[0m\u001b[0;34m(\u001b[0m\u001b[0;34m)\u001b[0m\u001b[0;34m\u001b[0m\u001b[0;34m\u001b[0m\u001b[0m\n\u001b[1;32m    567\u001b[0m     \u001b[0;32melse\u001b[0m\u001b[0;34m:\u001b[0m\u001b[0;34m\u001b[0m\u001b[0;34m\u001b[0m\u001b[0m\n\u001b[0;32m--> 568\u001b[0;31m       \u001b[0mresult\u001b[0m \u001b[0;34m=\u001b[0m \u001b[0mself\u001b[0m\u001b[0;34m.\u001b[0m\u001b[0m_call\u001b[0m\u001b[0;34m(\u001b[0m\u001b[0;34m*\u001b[0m\u001b[0margs\u001b[0m\u001b[0;34m,\u001b[0m \u001b[0;34m**\u001b[0m\u001b[0mkwds\u001b[0m\u001b[0;34m)\u001b[0m\u001b[0;34m\u001b[0m\u001b[0;34m\u001b[0m\u001b[0m\n\u001b[0m\u001b[1;32m    569\u001b[0m \u001b[0;34m\u001b[0m\u001b[0m\n\u001b[1;32m    570\u001b[0m     \u001b[0;32mif\u001b[0m \u001b[0mtracing_count\u001b[0m \u001b[0;34m==\u001b[0m \u001b[0mself\u001b[0m\u001b[0;34m.\u001b[0m\u001b[0m_get_tracing_count\u001b[0m\u001b[0;34m(\u001b[0m\u001b[0;34m)\u001b[0m\u001b[0;34m:\u001b[0m\u001b[0;34m\u001b[0m\u001b[0;34m\u001b[0m\u001b[0m\n",
            "\u001b[0;32m/tensorflow-2.1.0/python3.6/tensorflow_core/python/eager/def_function.py\u001b[0m in \u001b[0;36m_call\u001b[0;34m(self, *args, **kwds)\u001b[0m\n\u001b[1;32m    597\u001b[0m       \u001b[0;31m# In this case we have created variables on the first call, so we run the\u001b[0m\u001b[0;34m\u001b[0m\u001b[0;34m\u001b[0m\u001b[0;34m\u001b[0m\u001b[0m\n\u001b[1;32m    598\u001b[0m       \u001b[0;31m# defunned version which is guaranteed to never create variables.\u001b[0m\u001b[0;34m\u001b[0m\u001b[0;34m\u001b[0m\u001b[0;34m\u001b[0m\u001b[0m\n\u001b[0;32m--> 599\u001b[0;31m       \u001b[0;32mreturn\u001b[0m \u001b[0mself\u001b[0m\u001b[0;34m.\u001b[0m\u001b[0m_stateless_fn\u001b[0m\u001b[0;34m(\u001b[0m\u001b[0;34m*\u001b[0m\u001b[0margs\u001b[0m\u001b[0;34m,\u001b[0m \u001b[0;34m**\u001b[0m\u001b[0mkwds\u001b[0m\u001b[0;34m)\u001b[0m  \u001b[0;31m# pylint: disable=not-callable\u001b[0m\u001b[0;34m\u001b[0m\u001b[0;34m\u001b[0m\u001b[0m\n\u001b[0m\u001b[1;32m    600\u001b[0m     \u001b[0;32melif\u001b[0m \u001b[0mself\u001b[0m\u001b[0;34m.\u001b[0m\u001b[0m_stateful_fn\u001b[0m \u001b[0;32mis\u001b[0m \u001b[0;32mnot\u001b[0m \u001b[0;32mNone\u001b[0m\u001b[0;34m:\u001b[0m\u001b[0;34m\u001b[0m\u001b[0;34m\u001b[0m\u001b[0m\n\u001b[1;32m    601\u001b[0m       \u001b[0;31m# Release the lock early so that multiple threads can perform the call\u001b[0m\u001b[0;34m\u001b[0m\u001b[0;34m\u001b[0m\u001b[0;34m\u001b[0m\u001b[0m\n",
            "\u001b[0;32m/tensorflow-2.1.0/python3.6/tensorflow_core/python/eager/function.py\u001b[0m in \u001b[0;36m__call__\u001b[0;34m(self, *args, **kwargs)\u001b[0m\n\u001b[1;32m   2361\u001b[0m     \u001b[0;32mwith\u001b[0m \u001b[0mself\u001b[0m\u001b[0;34m.\u001b[0m\u001b[0m_lock\u001b[0m\u001b[0;34m:\u001b[0m\u001b[0;34m\u001b[0m\u001b[0;34m\u001b[0m\u001b[0m\n\u001b[1;32m   2362\u001b[0m       \u001b[0mgraph_function\u001b[0m\u001b[0;34m,\u001b[0m \u001b[0margs\u001b[0m\u001b[0;34m,\u001b[0m \u001b[0mkwargs\u001b[0m \u001b[0;34m=\u001b[0m \u001b[0mself\u001b[0m\u001b[0;34m.\u001b[0m\u001b[0m_maybe_define_function\u001b[0m\u001b[0;34m(\u001b[0m\u001b[0margs\u001b[0m\u001b[0;34m,\u001b[0m \u001b[0mkwargs\u001b[0m\u001b[0;34m)\u001b[0m\u001b[0;34m\u001b[0m\u001b[0;34m\u001b[0m\u001b[0m\n\u001b[0;32m-> 2363\u001b[0;31m     \u001b[0;32mreturn\u001b[0m \u001b[0mgraph_function\u001b[0m\u001b[0;34m.\u001b[0m\u001b[0m_filtered_call\u001b[0m\u001b[0;34m(\u001b[0m\u001b[0margs\u001b[0m\u001b[0;34m,\u001b[0m \u001b[0mkwargs\u001b[0m\u001b[0;34m)\u001b[0m  \u001b[0;31m# pylint: disable=protected-access\u001b[0m\u001b[0;34m\u001b[0m\u001b[0;34m\u001b[0m\u001b[0m\n\u001b[0m\u001b[1;32m   2364\u001b[0m \u001b[0;34m\u001b[0m\u001b[0m\n\u001b[1;32m   2365\u001b[0m   \u001b[0;34m@\u001b[0m\u001b[0mproperty\u001b[0m\u001b[0;34m\u001b[0m\u001b[0;34m\u001b[0m\u001b[0m\n",
            "\u001b[0;32m/tensorflow-2.1.0/python3.6/tensorflow_core/python/eager/function.py\u001b[0m in \u001b[0;36m_filtered_call\u001b[0;34m(self, args, kwargs)\u001b[0m\n\u001b[1;32m   1609\u001b[0m          if isinstance(t, (ops.Tensor,\n\u001b[1;32m   1610\u001b[0m                            resource_variable_ops.BaseResourceVariable))),\n\u001b[0;32m-> 1611\u001b[0;31m         self.captured_inputs)\n\u001b[0m\u001b[1;32m   1612\u001b[0m \u001b[0;34m\u001b[0m\u001b[0m\n\u001b[1;32m   1613\u001b[0m   \u001b[0;32mdef\u001b[0m \u001b[0m_call_flat\u001b[0m\u001b[0;34m(\u001b[0m\u001b[0mself\u001b[0m\u001b[0;34m,\u001b[0m \u001b[0margs\u001b[0m\u001b[0;34m,\u001b[0m \u001b[0mcaptured_inputs\u001b[0m\u001b[0;34m,\u001b[0m \u001b[0mcancellation_manager\u001b[0m\u001b[0;34m=\u001b[0m\u001b[0;32mNone\u001b[0m\u001b[0;34m)\u001b[0m\u001b[0;34m:\u001b[0m\u001b[0;34m\u001b[0m\u001b[0;34m\u001b[0m\u001b[0m\n",
            "\u001b[0;32m/tensorflow-2.1.0/python3.6/tensorflow_core/python/eager/function.py\u001b[0m in \u001b[0;36m_call_flat\u001b[0;34m(self, args, captured_inputs, cancellation_manager)\u001b[0m\n\u001b[1;32m   1690\u001b[0m       \u001b[0;31m# No tape is watching; skip to running the function.\u001b[0m\u001b[0;34m\u001b[0m\u001b[0;34m\u001b[0m\u001b[0;34m\u001b[0m\u001b[0m\n\u001b[1;32m   1691\u001b[0m       return self._build_call_outputs(self._inference_function.call(\n\u001b[0;32m-> 1692\u001b[0;31m           ctx, args, cancellation_manager=cancellation_manager))\n\u001b[0m\u001b[1;32m   1693\u001b[0m     forward_backward = self._select_forward_and_backward_functions(\n\u001b[1;32m   1694\u001b[0m         \u001b[0margs\u001b[0m\u001b[0;34m,\u001b[0m\u001b[0;34m\u001b[0m\u001b[0;34m\u001b[0m\u001b[0m\n",
            "\u001b[0;32m/tensorflow-2.1.0/python3.6/tensorflow_core/python/eager/function.py\u001b[0m in \u001b[0;36mcall\u001b[0;34m(self, ctx, args, cancellation_manager)\u001b[0m\n\u001b[1;32m    543\u001b[0m               \u001b[0minputs\u001b[0m\u001b[0;34m=\u001b[0m\u001b[0margs\u001b[0m\u001b[0;34m,\u001b[0m\u001b[0;34m\u001b[0m\u001b[0;34m\u001b[0m\u001b[0m\n\u001b[1;32m    544\u001b[0m               \u001b[0mattrs\u001b[0m\u001b[0;34m=\u001b[0m\u001b[0;34m(\u001b[0m\u001b[0;34m\"executor_type\"\u001b[0m\u001b[0;34m,\u001b[0m \u001b[0mexecutor_type\u001b[0m\u001b[0;34m,\u001b[0m \u001b[0;34m\"config_proto\"\u001b[0m\u001b[0;34m,\u001b[0m \u001b[0mconfig\u001b[0m\u001b[0;34m)\u001b[0m\u001b[0;34m,\u001b[0m\u001b[0;34m\u001b[0m\u001b[0;34m\u001b[0m\u001b[0m\n\u001b[0;32m--> 545\u001b[0;31m               ctx=ctx)\n\u001b[0m\u001b[1;32m    546\u001b[0m         \u001b[0;32melse\u001b[0m\u001b[0;34m:\u001b[0m\u001b[0;34m\u001b[0m\u001b[0;34m\u001b[0m\u001b[0m\n\u001b[1;32m    547\u001b[0m           outputs = execute.execute_with_cancellation(\n",
            "\u001b[0;32m/tensorflow-2.1.0/python3.6/tensorflow_core/python/eager/execute.py\u001b[0m in \u001b[0;36mquick_execute\u001b[0;34m(op_name, num_outputs, inputs, attrs, ctx, name)\u001b[0m\n\u001b[1;32m     59\u001b[0m     tensors = pywrap_tensorflow.TFE_Py_Execute(ctx._handle, device_name,\n\u001b[1;32m     60\u001b[0m                                                \u001b[0mop_name\u001b[0m\u001b[0;34m,\u001b[0m \u001b[0minputs\u001b[0m\u001b[0;34m,\u001b[0m \u001b[0mattrs\u001b[0m\u001b[0;34m,\u001b[0m\u001b[0;34m\u001b[0m\u001b[0;34m\u001b[0m\u001b[0m\n\u001b[0;32m---> 61\u001b[0;31m                                                num_outputs)\n\u001b[0m\u001b[1;32m     62\u001b[0m   \u001b[0;32mexcept\u001b[0m \u001b[0mcore\u001b[0m\u001b[0;34m.\u001b[0m\u001b[0m_NotOkStatusException\u001b[0m \u001b[0;32mas\u001b[0m \u001b[0me\u001b[0m\u001b[0;34m:\u001b[0m\u001b[0;34m\u001b[0m\u001b[0;34m\u001b[0m\u001b[0m\n\u001b[1;32m     63\u001b[0m     \u001b[0;32mif\u001b[0m \u001b[0mname\u001b[0m \u001b[0;32mis\u001b[0m \u001b[0;32mnot\u001b[0m \u001b[0;32mNone\u001b[0m\u001b[0;34m:\u001b[0m\u001b[0;34m\u001b[0m\u001b[0;34m\u001b[0m\u001b[0m\n",
            "\u001b[0;31mKeyboardInterrupt\u001b[0m: "
          ]
        }
      ]
    },
    {
      "cell_type": "code",
      "metadata": {
        "id": "-KvIrwg5K8JN",
        "colab_type": "code",
        "colab": {
          "base_uri": "https://localhost:8080/",
          "height": 55
        },
        "outputId": "6751f4b8-3b09-4bb8-a4df-c4e3c7dbabb8"
      },
      "source": [
        "# 7.51 임의의 문장을 사용한 생성 결과 확인\n",
        "from tensorflow.keras.preprocessing.sequence import pad_sequences\n",
        "test_sentence = '동헌에 나가 공무를 본 후 활 십오 순을 쏘았다'\n",
        "test_sentence = jamotools.split_syllables(test_sentence)\n",
        "\n",
        "next_chars = 300\n",
        "for _ in range(next_chars):\n",
        "    test_text_X = test_sentence[-seq_length:]\n",
        "    test_text_X = np.array([char2idx[c] if c in char2idx else char2idx['UNK'] for c in test_text_X])\n",
        "    test_text_X = pad_sequences([test_text_X], maxlen=seq_length, padding='pre', value=char2idx['UNK'])\n",
        "    \n",
        "    output_idx = model.predict_classes(test_text_X)\n",
        "    test_sentence += idx2char[output_idx[0]]\n",
        "    \n",
        "\n",
        "print(jamotools.join_jamos(test_sentence))"
      ],
      "execution_count": 52,
      "outputs": [
        {
          "output_type": "stream",
          "text": [
            "동헌에 나가 공무를 본 후 활 십오 순을 쏘았다. 임금이 있으니, 임금이 있으니, 임금이 있으니, 임금이 있으니, 임금이 있으니, 임금이 있으니, 임금이 있으니, 임금이 있으니, 임금이 있으니, 임금이 있으니, 임금이 있으니, 임금이 있으니, 임금이 있으니, 임금이 있으니, 임금이 있으니, 임금이 있으니, 임금이 ㅇ\n"
          ],
          "name": "stdout"
        }
      ]
    }
  ]
}